{
 "cells": [
  {
   "cell_type": "markdown",
   "metadata": {},
   "source": [
    "# Household dust data"
   ]
  },
  {
   "cell_type": "markdown",
   "metadata": {},
   "source": [
    "A problem in linear regression, using the `homes.Rdata` dataset, extracted from the [Homes_USA](http://figshare.com/articles/1000homes/1270900) repository of data analyzed in the paper [Barberan et al. (2015), _\"The ecology of microscopic life in household dust\",_](https://royalsocietypublishing.org/doi/full/10.1098/rspb.2015.1139) Proceedings of the Royal Society B, Biological Sciences Volume 282, Issue 1814.\n",
    "\t\n",
    "The data are dust samples from the ledges above doorways from $n=1,059$ homes (after removing samples with missing data) in the continental US. Bioinformatics processing detects the presence or absence of $763$ species (technically operational taxonomic units) of fungi. The response is the log of the number of fungi species present in the sample, which is a measure of species richness. The objective is to determine which factors influence a home's species richness. For each home, eight covariates are included in this example: \n",
    "\n",
    "01. `long`:     Longitude,\n",
    "02. `lat`:      Latitude,\n",
    "03. `temp`:     Temperature,\n",
    "04. `precip`:   Precipitation,\n",
    "05. `NPP`:      Net Primary Productivity (NPP) (See the  [Appendix](https://www.pnas.org/content/pnas/suppl/2015/04/15/1420815112.DCSupplemental/pnas.1420815112.sapp.pdf)),\n",
    "06. `elev`:     Elevation,\n",
    "07. `house`:    Single-family home (binary indicator),\n",
    "08. `bedrooms`: Number of bedrooms."
   ]
  },
  {
   "cell_type": "markdown",
   "metadata": {},
   "source": [
    "Notebook made by: Eric Duque, Arnau Gris and Angel Morales"
   ]
  },
  {
   "cell_type": "code",
   "execution_count": 1,
   "metadata": {},
   "outputs": [
    {
     "name": "stderr",
     "output_type": "stream",
     "text": [
      "Warning message in eval(expr, envir, enclos):\n",
      "\"NAs introduced by coercion\""
     ]
    }
   ],
   "source": [
    "# Load data (there is a warning about NAs. It's OK, later on we remove them)\n",
    "load(\"homes.RData\")\n",
    "\n",
    "lat      <- homes[,4]\n",
    "long     <- homes[,5]\n",
    "temp     <- homes[,6]\n",
    "precip   <- homes[,7]\n",
    "NPP      <- homes[,8]\n",
    "elev     <- homes[,9]\n",
    "house    <- ifelse(homes[,10]==\"One-family house detached from any other house\",1,0) # Convert to an indicator\n",
    "bedrooms <- as.numeric(homes[,11])"
   ]
  },
  {
   "cell_type": "code",
   "execution_count": 2,
   "metadata": {},
   "outputs": [],
   "source": [
    "city     <- homes[,2]\n",
    "state    <- homes[,3]\n",
    "\n",
    "OTU      <- as.matrix(OTU)\n",
    "nspecies <- rowSums(OTU>0)\n",
    "y        <- log(nspecies)\n",
    "X        <- cbind(long,lat,temp,precip,NPP,elev,house,bedrooms)\n",
    "names    <- c(\"Longitude\",\"Latitude\",\"Temperature\",\"Precipitation\",\"NPP\",\"Elevation\",\"Single-family home\",\n",
    "                \"Number of bedrooms\")"
   ]
  },
  {
   "cell_type": "code",
   "execution_count": 3,
   "metadata": {},
   "outputs": [],
   "source": [
    "# Remove observations with missing data\n",
    "\n",
    "junk     <- is.na(rowSums(X))\n",
    "y        <- y[!junk]\n",
    "X        <- X[!junk,]\n",
    "city     <- city[!junk]\n",
    "state    <- state[!junk]"
   ]
  },
  {
   "cell_type": "code",
   "execution_count": 4,
   "metadata": {},
   "outputs": [
    {
     "name": "stdout",
     "output_type": "stream",
     "text": [
      " Named num [1:8] -89.78 38.35 12.88 80.65 1.57 ...\n",
      " - attr(*, \"names\")= chr [1:8] \"long\" \"lat\" \"temp\" \"precip\" ...\n",
      " Named num [1:8] 15.895 4.3 3.906 25.044 0.608 ...\n",
      " - attr(*, \"names\")= chr [1:8] \"long\" \"lat\" \"temp\" \"precip\" ...\n"
     ]
    }
   ],
   "source": [
    "# Standardize the covariates\n",
    "\n",
    "X<- as.matrix(scale(X))\n",
    "X0<-X\n",
    "X0.centers<-attr(X0,\"scaled:center\")\n",
    "X0.scales<-attr(X0,\"scaled:scale\")\n",
    "attr(X,\"scaled:center\")<-NULL\n",
    "attr(X,\"scaled:scale\")<-NULL\n",
    "str(X0.centers)\n",
    "str(X0.scales)"
   ]
  },
  {
   "cell_type": "code",
   "execution_count": 5,
   "metadata": {},
   "outputs": [
    {
     "name": "stdout",
     "output_type": "stream",
     "text": [
      " num [1:1059, 1:8] -1.392 0.615 -2.077 0.659 0.552 ...\n",
      " - attr(*, \"dimnames\")=List of 2\n",
      "  ..$ : NULL\n",
      "  ..$ : chr [1:8] \"long\" \"lat\" \"temp\" \"precip\" ...\n",
      " Named num [1:1059] 6.01 6.37 6.24 6.38 6.32 ...\n",
      " - attr(*, \"names\")= chr [1:1059] \"935.I\" \"733.I\" \"485.I\" \"1262.I\" ...\n"
     ]
    }
   ],
   "source": [
    "str(X)\n",
    "str(y)"
   ]
  },
  {
   "cell_type": "markdown",
   "metadata": {},
   "source": [
    "# Data analysis\n",
    "\n",
    "First, we need to perform several plots in order to understand our data and gain some insights about it."
   ]
  },
  {
   "cell_type": "markdown",
   "metadata": {},
   "source": [
    "### Plot the sample locations"
   ]
  },
  {
   "cell_type": "code",
   "execution_count": 6,
   "metadata": {},
   "outputs": [],
   "source": [
    "#install.packages(\"maps\",dependencies=TRUE,repos= \"https://cloud.r-project.org\")"
   ]
  },
  {
   "cell_type": "code",
   "execution_count": 7,
   "metadata": {},
   "outputs": [],
   "source": [
    "#install.packages(\"car\",dependencies=TRUE,repos= \"https://cloud.r-project.org\")"
   ]
  },
  {
   "cell_type": "code",
   "execution_count": 8,
   "metadata": {},
   "outputs": [
    {
     "name": "stderr",
     "output_type": "stream",
     "text": [
      "Loading required package: maps\n"
     ]
    }
   ],
   "source": [
    "require(maps)"
   ]
  },
  {
   "cell_type": "code",
   "execution_count": 9,
   "metadata": {},
   "outputs": [
    {
     "name": "stderr",
     "output_type": "stream",
     "text": [
      "Loading required package: car\n",
      "Loading required package: carData\n",
      "Warning message:\n",
      "\"package 'carData' was built under R version 3.6.3\""
     ]
    }
   ],
   "source": [
    "require(car)"
   ]
  },
  {
   "cell_type": "code",
   "execution_count": 10,
   "metadata": {
    "scrolled": true
   },
   "outputs": [
    {
     "data": {
      "image/png": "[encoded data removed]",
      "text/plain": [
       "Plot with title \"Sample locations\""
      ]
     },
     "metadata": {},
     "output_type": "display_data"
    }
   ],
   "source": [
    "options(repr.plot.width=6, repr.plot.height=5)\n",
    "map(\"state\")\n",
    "points(homes[,5],homes[,4],pch=19,cex=.5)\n",
    "title(\"Sample locations\")"
   ]
  },
  {
   "cell_type": "markdown",
   "metadata": {},
   "source": [
    "### Features and labels individual analysis"
   ]
  },
  {
   "cell_type": "code",
   "execution_count": 11,
   "metadata": {},
   "outputs": [
    {
     "data": {
      "image/png": "[encoded data removed]",
      "text/plain": [
       "Plot with title \"Boxplot of y\""
      ]
     },
     "metadata": {},
     "output_type": "display_data"
    }
   ],
   "source": [
    "boxplot(y,horizontal=TRUE,main=\"Boxplot of y\")"
   ]
  },
  {
   "cell_type": "code",
   "execution_count": 12,
   "metadata": {},
   "outputs": [
    {
     "data": {
      "image/png": "[encoded data removed]",
      "text/plain": [
       "Plot with title \"Histogram of y\""
      ]
     },
     "metadata": {},
     "output_type": "display_data"
    }
   ],
   "source": [
    "hist(y,col=\"LightGreen\")"
   ]
  },
  {
   "cell_type": "code",
   "execution_count": 13,
   "metadata": {},
   "outputs": [
    {
     "data": {
      "image/png": "[encoded data removed]",
      "text/plain": [
       "Plot with title \"Boxplot of long\""
      ]
     },
     "metadata": {},
     "output_type": "display_data"
    }
   ],
   "source": [
    "boxplot(long,horizontal=TRUE,main=\"Boxplot of long\")"
   ]
  },
  {
   "cell_type": "code",
   "execution_count": 14,
   "metadata": {},
   "outputs": [
    {
     "data": {
      "image/png": "[encoded data removed]",
      "text/plain": [
       "Plot with title \"Histogram of long\""
      ]
     },
     "metadata": {},
     "output_type": "display_data"
    }
   ],
   "source": [
    "hist(long,col=\"LightBlue\")"
   ]
  },
  {
   "cell_type": "code",
   "execution_count": 15,
   "metadata": {},
   "outputs": [
    {
     "data": {
      "image/png": "[encoded data removed]",
      "text/plain": [
       "Plot with title \"Boxplot of lat\""
      ]
     },
     "metadata": {},
     "output_type": "display_data"
    }
   ],
   "source": [
    "boxplot(lat,horizontal=TRUE,main=\"Boxplot of lat\")"
   ]
  },
  {
   "cell_type": "code",
   "execution_count": 16,
   "metadata": {},
   "outputs": [
    {
     "data": {
      "image/png": "[encoded data removed]",
      "text/plain": [
       "Plot with title \"Histogram of lat\""
      ]
     },
     "metadata": {},
     "output_type": "display_data"
    }
   ],
   "source": [
    "hist(lat,col=\"LightBlue\")"
   ]
  },
  {
   "cell_type": "code",
   "execution_count": 17,
   "metadata": {},
   "outputs": [
    {
     "data": {
      "image/png": "[encoded data removed]",
      "text/plain": [
       "Plot with title \"Boxplot of temp\""
      ]
     },
     "metadata": {},
     "output_type": "display_data"
    }
   ],
   "source": [
    "boxplot(temp,horizontal=TRUE,main=\"Boxplot of temp\")"
   ]
  },
  {
   "cell_type": "code",
   "execution_count": 18,
   "metadata": {},
   "outputs": [
    {
     "data": {
      "image/png": "[encoded data removed]",
      "text/plain": [
       "Plot with title \"Histogram of temp\""
      ]
     },
     "metadata": {},
     "output_type": "display_data"
    }
   ],
   "source": [
    "hist(temp,col=\"LightBlue\")"
   ]
  },
  {
   "cell_type": "code",
   "execution_count": 19,
   "metadata": {},
   "outputs": [
    {
     "data": {
      "image/png": "[encoded data removed]",
      "text/plain": [
       "Plot with title \"Boxplot of precip\""
      ]
     },
     "metadata": {},
     "output_type": "display_data"
    }
   ],
   "source": [
    "boxplot(precip,horizontal=TRUE,main=\"Boxplot of precip\")"
   ]
  },
  {
   "cell_type": "code",
   "execution_count": 20,
   "metadata": {},
   "outputs": [
    {
     "data": {
      "image/png": "[encoded data removed]",
      "text/plain": [
       "Plot with title \"Histogram of precip\""
      ]
     },
     "metadata": {},
     "output_type": "display_data"
    }
   ],
   "source": [
    "hist(precip,col=\"LightBlue\")"
   ]
  },
  {
   "cell_type": "code",
   "execution_count": 21,
   "metadata": {},
   "outputs": [
    {
     "data": {
      "image/png": "[encoded data removed]",
      "text/plain": [
       "Plot with title \"Boxplot of NPP\""
      ]
     },
     "metadata": {},
     "output_type": "display_data"
    }
   ],
   "source": [
    "boxplot(NPP,horizontal=TRUE,main=\"Boxplot of NPP\")"
   ]
  },
  {
   "cell_type": "code",
   "execution_count": 22,
   "metadata": {},
   "outputs": [
    {
     "data": {
      "image/png": "[encoded data removed]",
      "text/plain": [
       "Plot with title \"Histogram of NPP\""
      ]
     },
     "metadata": {},
     "output_type": "display_data"
    }
   ],
   "source": [
    "hist(NPP,col=\"LightBlue\")"
   ]
  },
  {
   "cell_type": "code",
   "execution_count": 23,
   "metadata": {},
   "outputs": [
    {
     "data": {
      "image/png": "[encoded data removed]",
      "text/plain": [
       "Plot with title \"Boxplot of elev\""
      ]
     },
     "metadata": {},
     "output_type": "display_data"
    }
   ],
   "source": [
    "boxplot(elev,horizontal=TRUE,main=\"Boxplot of elev\")"
   ]
  },
  {
   "cell_type": "code",
   "execution_count": 24,
   "metadata": {},
   "outputs": [
    {
     "data": {
      "image/png": "[encoded data removed]",
      "text/plain": [
       "Plot with title \"Histogram of elev\""
      ]
     },
     "metadata": {},
     "output_type": "display_data"
    }
   ],
   "source": [
    "hist(elev,col=\"LightBlue\")"
   ]
  },
  {
   "cell_type": "code",
   "execution_count": 25,
   "metadata": {},
   "outputs": [
    {
     "data": {
      "image/png": "[encoded data removed]",
      "text/plain": [
       "Plot with title \"Boxplot of house\""
      ]
     },
     "metadata": {},
     "output_type": "display_data"
    }
   ],
   "source": [
    "boxplot(house,horizontal=TRUE,main=\"Boxplot of house\")"
   ]
  },
  {
   "cell_type": "code",
   "execution_count": 26,
   "metadata": {},
   "outputs": [
    {
     "data": {
      "image/png": "[encoded data removed]",
      "text/plain": [
       "Plot with title \"Histogram of house\""
      ]
     },
     "metadata": {},
     "output_type": "display_data"
    }
   ],
   "source": [
    "hist(house,col=\"LightBlue\")"
   ]
  },
  {
   "cell_type": "code",
   "execution_count": 27,
   "metadata": {},
   "outputs": [
    {
     "data": {
      "image/png": "[encoded data removed]",
      "text/plain": [
       "Plot with title \"Boxplot of bedrooms\""
      ]
     },
     "metadata": {},
     "output_type": "display_data"
    }
   ],
   "source": [
    "boxplot(bedrooms,horizontal=TRUE,main=\"Boxplot of bedrooms\")"
   ]
  },
  {
   "cell_type": "code",
   "execution_count": 28,
   "metadata": {},
   "outputs": [
    {
     "data": {
      "image/png": "[encoded data removed]",
      "text/plain": [
       "Plot with title \"Histogram of bedrooms\""
      ]
     },
     "metadata": {},
     "output_type": "display_data"
    }
   ],
   "source": [
    "hist(bedrooms,col=\"LightBlue\")"
   ]
  },
  {
   "cell_type": "markdown",
   "metadata": {},
   "source": [
    "## Features correlations"
   ]
  },
  {
   "cell_type": "code",
   "execution_count": 29,
   "metadata": {},
   "outputs": [
    {
     "name": "stdout",
     "output_type": "stream",
     "text": [
      "'data.frame':\t1059 obs. of  9 variables:\n",
      " $ y       : num  6.01 6.37 6.24 6.38 6.32 ...\n",
      " $ long    : num  -1.392 0.615 -2.077 0.659 0.552 ...\n",
      " $ lat     : num  2.361 0.315 1.664 -0.104 -1.011 ...\n",
      " $ temp    : num  -1.9035 -0.6167 -0.5523 -0.0879 1.0303 ...\n",
      " $ precip  : num  -2.1978 0.4965 0.4455 -0.0762 0.7402 ...\n",
      " $ NPP     : num  -2.08 -0.194 0.586 0.912 0.449 ...\n",
      " $ elev    : num  1.775 0.37 -0.446 0.354 -0.459 ...\n",
      " $ house   : num  0.561 -1.779 -1.779 0.561 0.561 ...\n",
      " $ bedrooms: num  -0.9145 -0.9145 0.0964 0.0964 0.0964 ...\n"
     ]
    }
   ],
   "source": [
    "# Overwrite the original \"homes\" data.frame\n",
    "# For lm() we need a unique data.frame\n",
    "# For glmnet() X and y\n",
    "homes<-data.frame(cbind(y,X))\n",
    "str(homes)"
   ]
  },
  {
   "cell_type": "code",
   "execution_count": 30,
   "metadata": {},
   "outputs": [
    {
     "data": {
      "image/png": "[encoded data removed]",
      "text/plain": [
       "Plot with title \"All features boxplot\""
      ]
     },
     "metadata": {},
     "output_type": "display_data"
    }
   ],
   "source": [
    "boxplot(X, main = \"All features boxplot\")"
   ]
  },
  {
   "cell_type": "markdown",
   "metadata": {},
   "source": [
    "Is useful to see how features are correlated between them, and also how strong is the correlation between features and the labels"
   ]
  },
  {
   "cell_type": "code",
   "execution_count": 31,
   "metadata": {},
   "outputs": [
    {
     "data": {
      "text/html": [
       "<table>\n",
       "<thead><tr><th></th><th scope=col>y</th><th scope=col>long</th><th scope=col>lat</th><th scope=col>temp</th><th scope=col>precip</th><th scope=col>NPP</th><th scope=col>elev</th><th scope=col>house</th><th scope=col>bedrooms</th></tr></thead>\n",
       "<tbody>\n",
       "\t<tr><th scope=row>y</th><td> 1.00</td><td> 0.14</td><td> 0.18</td><td>-0.21</td><td> 0.05</td><td>-0.02</td><td>-0.04</td><td> 0.10</td><td> 0.10</td></tr>\n",
       "\t<tr><th scope=row>long</th><td> 0.14</td><td> 1.00</td><td>-0.10</td><td>-0.03</td><td> 0.60</td><td> 0.32</td><td>-0.35</td><td> 0.00</td><td> 0.02</td></tr>\n",
       "\t<tr><th scope=row>lat</th><td> 0.18</td><td>-0.10</td><td> 1.00</td><td>-0.87</td><td>-0.14</td><td>-0.02</td><td> 0.06</td><td>-0.06</td><td>-0.02</td></tr>\n",
       "\t<tr><th scope=row>temp</th><td>-0.21</td><td>-0.03</td><td>-0.87</td><td> 1.00</td><td> 0.23</td><td> 0.12</td><td>-0.36</td><td> 0.04</td><td> 0.01</td></tr>\n",
       "\t<tr><th scope=row>precip</th><td> 0.05</td><td> 0.60</td><td>-0.14</td><td> 0.23</td><td> 1.00</td><td> 0.66</td><td>-0.56</td><td> 0.01</td><td> 0.00</td></tr>\n",
       "\t<tr><th scope=row>NPP</th><td>-0.02</td><td> 0.32</td><td>-0.02</td><td> 0.12</td><td> 0.66</td><td> 1.00</td><td>-0.44</td><td>-0.07</td><td>-0.06</td></tr>\n",
       "\t<tr><th scope=row>elev</th><td>-0.04</td><td>-0.35</td><td> 0.06</td><td>-0.36</td><td>-0.56</td><td>-0.44</td><td> 1.00</td><td> 0.07</td><td> 0.02</td></tr>\n",
       "\t<tr><th scope=row>house</th><td> 0.10</td><td> 0.00</td><td>-0.06</td><td> 0.04</td><td> 0.01</td><td>-0.07</td><td> 0.07</td><td> 1.00</td><td> 0.53</td></tr>\n",
       "\t<tr><th scope=row>bedrooms</th><td> 0.10</td><td> 0.02</td><td>-0.02</td><td> 0.01</td><td> 0.00</td><td>-0.06</td><td> 0.02</td><td> 0.53</td><td> 1.00</td></tr>\n",
       "</tbody>\n",
       "</table>\n"
      ],
      "text/latex": [
       "\\begin{tabular}{r|lllllllll}\n",
       "  & y & long & lat & temp & precip & NPP & elev & house & bedrooms\\\\\n",
       "\\hline\n",
       "\ty &  1.00 &  0.14 &  0.18 & -0.21 &  0.05 & -0.02 & -0.04 &  0.10 &  0.10\\\\\n",
       "\tlong &  0.14 &  1.00 & -0.10 & -0.03 &  0.60 &  0.32 & -0.35 &  0.00 &  0.02\\\\\n",
       "\tlat &  0.18 & -0.10 &  1.00 & -0.87 & -0.14 & -0.02 &  0.06 & -0.06 & -0.02\\\\\n",
       "\ttemp & -0.21 & -0.03 & -0.87 &  1.00 &  0.23 &  0.12 & -0.36 &  0.04 &  0.01\\\\\n",
       "\tprecip &  0.05 &  0.60 & -0.14 &  0.23 &  1.00 &  0.66 & -0.56 &  0.01 &  0.00\\\\\n",
       "\tNPP & -0.02 &  0.32 & -0.02 &  0.12 &  0.66 &  1.00 & -0.44 & -0.07 & -0.06\\\\\n",
       "\telev & -0.04 & -0.35 &  0.06 & -0.36 & -0.56 & -0.44 &  1.00 &  0.07 &  0.02\\\\\n",
       "\thouse &  0.10 &  0.00 & -0.06 &  0.04 &  0.01 & -0.07 &  0.07 &  1.00 &  0.53\\\\\n",
       "\tbedrooms &  0.10 &  0.02 & -0.02 &  0.01 &  0.00 & -0.06 &  0.02 &  0.53 &  1.00\\\\\n",
       "\\end{tabular}\n"
      ],
      "text/markdown": [
       "\n",
       "| <!--/--> | y | long | lat | temp | precip | NPP | elev | house | bedrooms |\n",
       "|---|---|---|---|---|---|---|---|---|---|\n",
       "| y |  1.00 |  0.14 |  0.18 | -0.21 |  0.05 | -0.02 | -0.04 |  0.10 |  0.10 |\n",
       "| long |  0.14 |  1.00 | -0.10 | -0.03 |  0.60 |  0.32 | -0.35 |  0.00 |  0.02 |\n",
       "| lat |  0.18 | -0.10 |  1.00 | -0.87 | -0.14 | -0.02 |  0.06 | -0.06 | -0.02 |\n",
       "| temp | -0.21 | -0.03 | -0.87 |  1.00 |  0.23 |  0.12 | -0.36 |  0.04 |  0.01 |\n",
       "| precip |  0.05 |  0.60 | -0.14 |  0.23 |  1.00 |  0.66 | -0.56 |  0.01 |  0.00 |\n",
       "| NPP | -0.02 |  0.32 | -0.02 |  0.12 |  0.66 |  1.00 | -0.44 | -0.07 | -0.06 |\n",
       "| elev | -0.04 | -0.35 |  0.06 | -0.36 | -0.56 | -0.44 |  1.00 |  0.07 |  0.02 |\n",
       "| house |  0.10 |  0.00 | -0.06 |  0.04 |  0.01 | -0.07 |  0.07 |  1.00 |  0.53 |\n",
       "| bedrooms |  0.10 |  0.02 | -0.02 |  0.01 |  0.00 | -0.06 |  0.02 |  0.53 |  1.00 |\n",
       "\n"
      ],
      "text/plain": [
       "         y     long  lat   temp  precip NPP   elev  house bedrooms\n",
       "y         1.00  0.14  0.18 -0.21  0.05  -0.02 -0.04  0.10  0.10   \n",
       "long      0.14  1.00 -0.10 -0.03  0.60   0.32 -0.35  0.00  0.02   \n",
       "lat       0.18 -0.10  1.00 -0.87 -0.14  -0.02  0.06 -0.06 -0.02   \n",
       "temp     -0.21 -0.03 -0.87  1.00  0.23   0.12 -0.36  0.04  0.01   \n",
       "precip    0.05  0.60 -0.14  0.23  1.00   0.66 -0.56  0.01  0.00   \n",
       "NPP      -0.02  0.32 -0.02  0.12  0.66   1.00 -0.44 -0.07 -0.06   \n",
       "elev     -0.04 -0.35  0.06 -0.36 -0.56  -0.44  1.00  0.07  0.02   \n",
       "house     0.10  0.00 -0.06  0.04  0.01  -0.07  0.07  1.00  0.53   \n",
       "bedrooms  0.10  0.02 -0.02  0.01  0.00  -0.06  0.02  0.53  1.00   "
      ]
     },
     "metadata": {},
     "output_type": "display_data"
    }
   ],
   "source": [
    "res <- cor(homes)\n",
    "round(res, 2)"
   ]
  },
  {
   "cell_type": "code",
   "execution_count": 32,
   "metadata": {},
   "outputs": [
    {
     "name": "stderr",
     "output_type": "stream",
     "text": [
      "corrplot 0.91 loaded\n"
     ]
    },
    {
     "data": {
      "image/png": "[encoded data removed]",
      "text/plain": [
       "Plot with title \"\""
      ]
     },
     "metadata": {},
     "output_type": "display_data"
    }
   ],
   "source": [
    "#install.packages(\"corrplot\")\n",
    "options(repr.plot.width=10, repr.plot.height=10)\n",
    "\n",
    "library(corrplot)\n",
    "corrplot(res, type = \"upper\", order = \"hclust\", \n",
    "         tl.col = \"black\", tl.srt = 45)"
   ]
  },
  {
   "cell_type": "code",
   "execution_count": 33,
   "metadata": {},
   "outputs": [
    {
     "data": {
      "image/png": "[encoded data removed]",
      "text/plain": [
       "plot without title"
      ]
     },
     "metadata": {},
     "output_type": "display_data"
    }
   ],
   "source": [
    "options(repr.plot.width=15, repr.plot.height=15)\n",
    "\n",
    "pairs(y~.,data = homes)\n"
   ]
  },
  {
   "cell_type": "markdown",
   "metadata": {},
   "source": [
    "If we take a look, we see that the features are not highly linearly correlated with y. The feature with the biggest correlation(absolut value) is temp, with -0.21.\n",
    "\n",
    "\n",
    "**Is there multicollinearity?**\n",
    "\n",
    "We see that some features are highly correlated between them, as lattitude and temperature (negative correlation) or with precipitations and NPP."
   ]
  },
  {
   "cell_type": "markdown",
   "metadata": {},
   "source": [
    "# OLS"
   ]
  },
  {
   "cell_type": "markdown",
   "metadata": {},
   "source": [
    "In statistics, ordinary least squares (OLS) are a type of linear least squares method for estimating the unknown parameters in a linear regression model. OLS chooses the parameters of a linear function of a set of explanatory variables by the principle of least squares: minimizing the sum of the squares of the differences between the observed dependent variable (values of the variable being observed) in the given dataset and those predicted by the linear function of the independent variable.\n",
    "\n",
    "https://en.wikipedia.org/wiki/Ordinary_least_squares"
   ]
  },
  {
   "cell_type": "markdown",
   "metadata": {},
   "source": [
    "First, we will use OLS with all the features, and add combined features generated from the original ones."
   ]
  },
  {
   "cell_type": "code",
   "execution_count": 34,
   "metadata": {},
   "outputs": [
    {
     "data": {
      "text/plain": [
       "\n",
       "Call:\n",
       "lm(formula = y ~ ., data = homes)\n",
       "\n",
       "Residuals:\n",
       "     Min       1Q   Median       3Q      Max \n",
       "-2.23684 -0.18011  0.08391  0.25095  0.60192 \n",
       "\n",
       "Coefficients:\n",
       "            Estimate Std. Error t value Pr(>|t|)    \n",
       "(Intercept)  5.98998    0.01115 537.425  < 2e-16 ***\n",
       "long         0.01741    0.01811   0.961 0.336800    \n",
       "lat         -0.04991    0.03502  -1.425 0.154401    \n",
       "temp        -0.14839    0.03841  -3.863 0.000119 ***\n",
       "precip       0.02495    0.01959   1.274 0.203115    \n",
       "NPP         -0.03663    0.01536  -2.384 0.017283 *  \n",
       "elev        -0.06390    0.01968  -3.246 0.001206 ** \n",
       "house        0.02827    0.01329   2.126 0.033707 *  \n",
       "bedrooms     0.02186    0.01321   1.655 0.098289 .  \n",
       "---\n",
       "Signif. codes:  0 '***' 0.001 '**' 0.01 '*' 0.05 '.' 0.1 ' ' 1\n",
       "\n",
       "Residual standard error: 0.3627 on 1050 degrees of freedom\n",
       "Multiple R-squared:  0.08946,\tAdjusted R-squared:  0.08252 \n",
       "F-statistic: 12.89 on 8 and 1050 DF,  p-value: < 2.2e-16\n"
      ]
     },
     "metadata": {},
     "output_type": "display_data"
    }
   ],
   "source": [
    "homes.ols.01<-lm(y~.,data=homes)\n",
    "summary(homes.ols.01)"
   ]
  },
  {
   "cell_type": "code",
   "execution_count": 35,
   "metadata": {},
   "outputs": [
    {
     "data": {
      "text/html": [
       "<table>\n",
       "<thead><tr><th></th><th scope=col>Df</th><th scope=col>Sum Sq</th><th scope=col>Mean Sq</th><th scope=col>F value</th><th scope=col>Pr(&gt;F)</th></tr></thead>\n",
       "<tbody>\n",
       "\t<tr><th scope=row>long</th><td>   1        </td><td>  2.95727175</td><td>2.95727175  </td><td>22.4791220  </td><td>2.417003e-06</td></tr>\n",
       "\t<tr><th scope=row>lat</th><td>   1        </td><td>  5.83678208</td><td>5.83678208  </td><td>44.3671558  </td><td>4.383277e-11</td></tr>\n",
       "\t<tr><th scope=row>temp</th><td>   1        </td><td>  0.75911018</td><td>0.75911018  </td><td> 5.7702274  </td><td>1.647278e-02</td></tr>\n",
       "\t<tr><th scope=row>precip</th><td>   1        </td><td>  0.03387244</td><td>0.03387244  </td><td> 0.2574747  </td><td>6.119669e-01</td></tr>\n",
       "\t<tr><th scope=row>NPP</th><td>   1        </td><td>  0.73687628</td><td>0.73687628  </td><td> 5.6012207  </td><td>1.812864e-02</td></tr>\n",
       "\t<tr><th scope=row>elev</th><td>   1        </td><td>  1.23216659</td><td>1.23216659  </td><td> 9.3660730  </td><td>2.266523e-03</td></tr>\n",
       "\t<tr><th scope=row>house</th><td>   1        </td><td>  1.65461502</td><td>1.65461502  </td><td>12.5772320  </td><td>4.077032e-04</td></tr>\n",
       "\t<tr><th scope=row>bedrooms</th><td>   1        </td><td>  0.36019541</td><td>0.36019541  </td><td> 2.7379549  </td><td>9.828896e-02</td></tr>\n",
       "\t<tr><th scope=row>Residuals</th><td>1050        </td><td>138.13419145</td><td>0.13155637  </td><td>        NA  </td><td>          NA</td></tr>\n",
       "</tbody>\n",
       "</table>\n"
      ],
      "text/latex": [
       "\\begin{tabular}{r|lllll}\n",
       "  & Df & Sum Sq & Mean Sq & F value & Pr(>F)\\\\\n",
       "\\hline\n",
       "\tlong &    1         &   2.95727175 & 2.95727175   & 22.4791220   & 2.417003e-06\\\\\n",
       "\tlat &    1         &   5.83678208 & 5.83678208   & 44.3671558   & 4.383277e-11\\\\\n",
       "\ttemp &    1         &   0.75911018 & 0.75911018   &  5.7702274   & 1.647278e-02\\\\\n",
       "\tprecip &    1         &   0.03387244 & 0.03387244   &  0.2574747   & 6.119669e-01\\\\\n",
       "\tNPP &    1         &   0.73687628 & 0.73687628   &  5.6012207   & 1.812864e-02\\\\\n",
       "\telev &    1         &   1.23216659 & 1.23216659   &  9.3660730   & 2.266523e-03\\\\\n",
       "\thouse &    1         &   1.65461502 & 1.65461502   & 12.5772320   & 4.077032e-04\\\\\n",
       "\tbedrooms &    1         &   0.36019541 & 0.36019541   &  2.7379549   & 9.828896e-02\\\\\n",
       "\tResiduals & 1050         & 138.13419145 & 0.13155637   &         NA   &           NA\\\\\n",
       "\\end{tabular}\n"
      ],
      "text/markdown": [
       "\n",
       "| <!--/--> | Df | Sum Sq | Mean Sq | F value | Pr(>F) |\n",
       "|---|---|---|---|---|---|\n",
       "| long |    1         |   2.95727175 | 2.95727175   | 22.4791220   | 2.417003e-06 |\n",
       "| lat |    1         |   5.83678208 | 5.83678208   | 44.3671558   | 4.383277e-11 |\n",
       "| temp |    1         |   0.75911018 | 0.75911018   |  5.7702274   | 1.647278e-02 |\n",
       "| precip |    1         |   0.03387244 | 0.03387244   |  0.2574747   | 6.119669e-01 |\n",
       "| NPP |    1         |   0.73687628 | 0.73687628   |  5.6012207   | 1.812864e-02 |\n",
       "| elev |    1         |   1.23216659 | 1.23216659   |  9.3660730   | 2.266523e-03 |\n",
       "| house |    1         |   1.65461502 | 1.65461502   | 12.5772320   | 4.077032e-04 |\n",
       "| bedrooms |    1         |   0.36019541 | 0.36019541   |  2.7379549   | 9.828896e-02 |\n",
       "| Residuals | 1050         | 138.13419145 | 0.13155637   |         NA   |           NA |\n",
       "\n"
      ],
      "text/plain": [
       "          Df   Sum Sq       Mean Sq    F value    Pr(>F)      \n",
       "long         1   2.95727175 2.95727175 22.4791220 2.417003e-06\n",
       "lat          1   5.83678208 5.83678208 44.3671558 4.383277e-11\n",
       "temp         1   0.75911018 0.75911018  5.7702274 1.647278e-02\n",
       "precip       1   0.03387244 0.03387244  0.2574747 6.119669e-01\n",
       "NPP          1   0.73687628 0.73687628  5.6012207 1.812864e-02\n",
       "elev         1   1.23216659 1.23216659  9.3660730 2.266523e-03\n",
       "house        1   1.65461502 1.65461502 12.5772320 4.077032e-04\n",
       "bedrooms     1   0.36019541 0.36019541  2.7379549 9.828896e-02\n",
       "Residuals 1050 138.13419145 0.13155637         NA           NA"
      ]
     },
     "metadata": {},
     "output_type": "display_data"
    }
   ],
   "source": [
    "anova(homes.ols.01)"
   ]
  },
  {
   "cell_type": "markdown",
   "metadata": {},
   "source": [
    "#### Summary of OLS with y ~ ."
   ]
  },
  {
   "cell_type": "code",
   "execution_count": 36,
   "metadata": {},
   "outputs": [
    {
     "data": {
      "text/plain": [
       "\n",
       "Call:\n",
       "lm(formula = y ~ ., data = homes)\n",
       "\n",
       "Residuals:\n",
       "     Min       1Q   Median       3Q      Max \n",
       "-2.23684 -0.18011  0.08391  0.25095  0.60192 \n",
       "\n",
       "Coefficients:\n",
       "            Estimate Std. Error t value Pr(>|t|)    \n",
       "(Intercept)  5.98998    0.01115 537.425  < 2e-16 ***\n",
       "long         0.01741    0.01811   0.961 0.336800    \n",
       "lat         -0.04991    0.03502  -1.425 0.154401    \n",
       "temp        -0.14839    0.03841  -3.863 0.000119 ***\n",
       "precip       0.02495    0.01959   1.274 0.203115    \n",
       "NPP         -0.03663    0.01536  -2.384 0.017283 *  \n",
       "elev        -0.06390    0.01968  -3.246 0.001206 ** \n",
       "house        0.02827    0.01329   2.126 0.033707 *  \n",
       "bedrooms     0.02186    0.01321   1.655 0.098289 .  \n",
       "---\n",
       "Signif. codes:  0 '***' 0.001 '**' 0.01 '*' 0.05 '.' 0.1 ' ' 1\n",
       "\n",
       "Residual standard error: 0.3627 on 1050 degrees of freedom\n",
       "Multiple R-squared:  0.08946,\tAdjusted R-squared:  0.08252 \n",
       "F-statistic: 12.89 on 8 and 1050 DF,  p-value: < 2.2e-16\n"
      ]
     },
     "metadata": {},
     "output_type": "display_data"
    }
   ],
   "source": [
    "summary(homes.ols.01)"
   ]
  },
  {
   "cell_type": "markdown",
   "metadata": {},
   "source": [
    "#### Variance Inflation Factor of OLS with y ~ ."
   ]
  },
  {
   "cell_type": "code",
   "execution_count": 37,
   "metadata": {},
   "outputs": [
    {
     "data": {
      "text/html": [
       "<dl class=dl-horizontal>\n",
       "\t<dt>long</dt>\n",
       "\t\t<dd>2.6</dd>\n",
       "\t<dt>lat</dt>\n",
       "\t\t<dd>9.9</dd>\n",
       "\t<dt>temp</dt>\n",
       "\t\t<dd>11.9</dd>\n",
       "\t<dt>precip</dt>\n",
       "\t\t<dd>3.1</dd>\n",
       "\t<dt>NPP</dt>\n",
       "\t\t<dd>1.9</dd>\n",
       "\t<dt>elev</dt>\n",
       "\t\t<dd>3.1</dd>\n",
       "\t<dt>house</dt>\n",
       "\t\t<dd>1.4</dd>\n",
       "\t<dt>bedrooms</dt>\n",
       "\t\t<dd>1.4</dd>\n",
       "</dl>\n"
      ],
      "text/latex": [
       "\\begin{description*}\n",
       "\\item[long] 2.6\n",
       "\\item[lat] 9.9\n",
       "\\item[temp] 11.9\n",
       "\\item[precip] 3.1\n",
       "\\item[NPP] 1.9\n",
       "\\item[elev] 3.1\n",
       "\\item[house] 1.4\n",
       "\\item[bedrooms] 1.4\n",
       "\\end{description*}\n"
      ],
      "text/markdown": [
       "long\n",
       ":   2.6lat\n",
       ":   9.9temp\n",
       ":   11.9precip\n",
       ":   3.1NPP\n",
       ":   1.9elev\n",
       ":   3.1house\n",
       ":   1.4bedrooms\n",
       ":   1.4\n",
       "\n"
      ],
      "text/plain": [
       "    long      lat     temp   precip      NPP     elev    house bedrooms \n",
       "     2.6      9.9     11.9      3.1      1.9      3.1      1.4      1.4 "
      ]
     },
     "metadata": {},
     "output_type": "display_data"
    }
   ],
   "source": [
    "round(vif(homes.ols.01),1)"
   ]
  },
  {
   "cell_type": "markdown",
   "metadata": {},
   "source": [
    "### Adding quadratic terms and second order interactions "
   ]
  },
  {
   "cell_type": "markdown",
   "metadata": {},
   "source": [
    "Now we just repeat the procedure of `homes.ols.01`, adding more terms to our model. \n",
    "\n",
    "Given a set of features, we can add up them and square them to easily obtain all the interactions between them using the build-in lm R function power.\n",
    "\n",
    "Also can add the quadratic terms using I(feature^2)"
   ]
  },
  {
   "cell_type": "markdown",
   "metadata": {},
   "source": [
    "#### Summary of OLS with y~(long+lat+temp+precip+NPP+elev+house+bedrooms)^2"
   ]
  },
  {
   "cell_type": "code",
   "execution_count": 38,
   "metadata": {
    "scrolled": true
   },
   "outputs": [
    {
     "data": {
      "text/plain": [
       "\n",
       "Call:\n",
       "lm(formula = y ~ (long + lat + temp + precip + NPP + elev + house + \n",
       "    bedrooms)^2, data = homes)\n",
       "\n",
       "Residuals:\n",
       "     Min       1Q   Median       3Q      Max \n",
       "-2.31829 -0.16384  0.08208  0.24258  0.61198 \n",
       "\n",
       "Coefficients:\n",
       "                  Estimate Std. Error t value Pr(>|t|)    \n",
       "(Intercept)      6.1030275  0.0240496 253.768  < 2e-16 ***\n",
       "long            -0.0098181  0.0306717  -0.320  0.74896    \n",
       "lat             -0.0361580  0.0915811  -0.395  0.69306    \n",
       "temp            -0.1167649  0.0872810  -1.338  0.18126    \n",
       "precip          -0.0091370  0.0373634  -0.245  0.80686    \n",
       "NPP             -0.0176187  0.0196964  -0.895  0.37126    \n",
       "elev            -0.0222136  0.0576914  -0.385  0.70029    \n",
       "house            0.0194459  0.0162203   1.199  0.23086    \n",
       "bedrooms         0.0124930  0.0132470   0.943  0.34586    \n",
       "long:lat         0.0654369  0.0571712   1.145  0.25265    \n",
       "long:temp        0.0535385  0.0638085   0.839  0.40164    \n",
       "long:precip     -0.0703916  0.0276315  -2.548  0.01100 *  \n",
       "long:NPP         0.0343747  0.0247834   1.387  0.16574    \n",
       "long:elev        0.0784029  0.0407986   1.922  0.05492 .  \n",
       "long:house      -0.0018376  0.0223204  -0.082  0.93440    \n",
       "long:bedrooms    0.0011252  0.0222048   0.051  0.95960    \n",
       "lat:temp         0.0456417  0.0165952   2.750  0.00606 ** \n",
       "lat:precip      -0.1214301  0.0592421  -2.050  0.04065 *  \n",
       "lat:NPP          0.0828933  0.0514661   1.611  0.10757    \n",
       "lat:elev         0.0211244  0.0274487   0.770  0.44172    \n",
       "lat:house        0.0161206  0.0423823   0.380  0.70376    \n",
       "lat:bedrooms    -0.0299255  0.0411904  -0.727  0.46769    \n",
       "temp:precip     -0.1487087  0.0782336  -1.901  0.05761 .  \n",
       "temp:NPP         0.1220291  0.0593397   2.056  0.03999 *  \n",
       "temp:elev        0.0001772  0.0213948   0.008  0.99339    \n",
       "temp:house       0.0635255  0.0477184   1.331  0.18340    \n",
       "temp:bedrooms   -0.0624154  0.0457251  -1.365  0.17255    \n",
       "precip:NPP      -0.0207354  0.0203707  -1.018  0.30897    \n",
       "precip:elev     -0.0706475  0.0452751  -1.560  0.11897    \n",
       "precip:house     0.0033571  0.0253065   0.133  0.89449    \n",
       "precip:bedrooms -0.0175233  0.0230944  -0.759  0.44817    \n",
       "NPP:elev         0.0466170  0.0389761   1.196  0.23196    \n",
       "NPP:house       -0.0035974  0.0189796  -0.190  0.84971    \n",
       "NPP:bedrooms     0.0346205  0.0181612   1.906  0.05689 .  \n",
       "elev:house       0.0022472  0.0236661   0.095  0.92437    \n",
       "elev:bedrooms   -0.0088687  0.0243280  -0.365  0.71552    \n",
       "house:bedrooms  -0.0149206  0.0136497  -1.093  0.27461    \n",
       "---\n",
       "Signif. codes:  0 '***' 0.001 '**' 0.01 '*' 0.05 '.' 0.1 ' ' 1\n",
       "\n",
       "Residual standard error: 0.3571 on 1022 degrees of freedom\n",
       "Multiple R-squared:  0.1411,\tAdjusted R-squared:  0.1109 \n",
       "F-statistic: 4.665 on 36 and 1022 DF,  p-value: < 2.2e-16\n"
      ]
     },
     "metadata": {},
     "output_type": "display_data"
    }
   ],
   "source": [
    "homes.ols.02<-lm(y~(long+lat+temp+precip+NPP+elev+house+bedrooms)^2,data=homes)\n",
    "summary(homes.ols.02)"
   ]
  },
  {
   "cell_type": "markdown",
   "metadata": {},
   "source": [
    "#### Variance Inflation Factor of OLS with y~(long+lat+temp+precip+NPP+elev+house+bedrooms)^2"
   ]
  },
  {
   "cell_type": "code",
   "execution_count": 39,
   "metadata": {},
   "outputs": [
    {
     "data": {
      "text/html": [
       "<dl class=dl-horizontal>\n",
       "\t<dt>long</dt>\n",
       "\t\t<dd>7.8</dd>\n",
       "\t<dt>lat</dt>\n",
       "\t\t<dd>69.6</dd>\n",
       "\t<dt>temp</dt>\n",
       "\t\t<dd>63.2</dd>\n",
       "\t<dt>precip</dt>\n",
       "\t\t<dd>11.6</dd>\n",
       "\t<dt>NPP</dt>\n",
       "\t\t<dd>3.2</dd>\n",
       "\t<dt>elev</dt>\n",
       "\t\t<dd>27.6</dd>\n",
       "\t<dt>house</dt>\n",
       "\t\t<dd>2.2</dd>\n",
       "\t<dt>bedrooms</dt>\n",
       "\t\t<dd>1.5</dd>\n",
       "\t<dt>long:lat</dt>\n",
       "\t\t<dd>35.1</dd>\n",
       "\t<dt>long:temp</dt>\n",
       "\t\t<dd>24.4</dd>\n",
       "\t<dt>long:precip</dt>\n",
       "\t\t<dd>8.7</dd>\n",
       "\t<dt>long:NPP</dt>\n",
       "\t\t<dd>5.1</dd>\n",
       "\t<dt>long:elev</dt>\n",
       "\t\t<dd>16.4</dd>\n",
       "\t<dt>long:house</dt>\n",
       "\t\t<dd>4.9</dd>\n",
       "\t<dt>long:bedrooms</dt>\n",
       "\t\t<dd>4.6</dd>\n",
       "\t<dt>lat:temp</dt>\n",
       "\t\t<dd>3.3</dd>\n",
       "\t<dt>lat:precip</dt>\n",
       "\t\t<dd>42.6</dd>\n",
       "\t<dt>lat:NPP</dt>\n",
       "\t\t<dd>31.7</dd>\n",
       "\t<dt>lat:elev</dt>\n",
       "\t\t<dd>4.5</dd>\n",
       "\t<dt>lat:house</dt>\n",
       "\t\t<dd>14.7</dd>\n",
       "\t<dt>lat:bedrooms</dt>\n",
       "\t\t<dd>13.6</dd>\n",
       "\t<dt>temp:precip</dt>\n",
       "\t\t<dd>76</dd>\n",
       "\t<dt>temp:NPP</dt>\n",
       "\t\t<dd>43.5</dd>\n",
       "\t<dt>temp:elev</dt>\n",
       "\t\t<dd>7.3</dd>\n",
       "\t<dt>temp:house</dt>\n",
       "\t\t<dd>17</dd>\n",
       "\t<dt>temp:bedrooms</dt>\n",
       "\t\t<dd>15.6</dd>\n",
       "\t<dt>precip:NPP</dt>\n",
       "\t\t<dd>5.1</dd>\n",
       "\t<dt>precip:elev</dt>\n",
       "\t\t<dd>47.7</dd>\n",
       "\t<dt>precip:house</dt>\n",
       "\t\t<dd>5.4</dd>\n",
       "\t<dt>precip:bedrooms</dt>\n",
       "\t\t<dd>4.4</dd>\n",
       "\t<dt>NPP:elev</dt>\n",
       "\t\t<dd>23.7</dd>\n",
       "\t<dt>NPP:house</dt>\n",
       "\t\t<dd>2.9</dd>\n",
       "\t<dt>NPP:bedrooms</dt>\n",
       "\t\t<dd>2.6</dd>\n",
       "\t<dt>elev:house</dt>\n",
       "\t\t<dd>4.7</dd>\n",
       "\t<dt>elev:bedrooms</dt>\n",
       "\t\t<dd>4.2</dd>\n",
       "\t<dt>house:bedrooms</dt>\n",
       "\t\t<dd>1.7</dd>\n",
       "</dl>\n"
      ],
      "text/latex": [
       "\\begin{description*}\n",
       "\\item[long] 7.8\n",
       "\\item[lat] 69.6\n",
       "\\item[temp] 63.2\n",
       "\\item[precip] 11.6\n",
       "\\item[NPP] 3.2\n",
       "\\item[elev] 27.6\n",
       "\\item[house] 2.2\n",
       "\\item[bedrooms] 1.5\n",
       "\\item[long:lat] 35.1\n",
       "\\item[long:temp] 24.4\n",
       "\\item[long:precip] 8.7\n",
       "\\item[long:NPP] 5.1\n",
       "\\item[long:elev] 16.4\n",
       "\\item[long:house] 4.9\n",
       "\\item[long:bedrooms] 4.6\n",
       "\\item[lat:temp] 3.3\n",
       "\\item[lat:precip] 42.6\n",
       "\\item[lat:NPP] 31.7\n",
       "\\item[lat:elev] 4.5\n",
       "\\item[lat:house] 14.7\n",
       "\\item[lat:bedrooms] 13.6\n",
       "\\item[temp:precip] 76\n",
       "\\item[temp:NPP] 43.5\n",
       "\\item[temp:elev] 7.3\n",
       "\\item[temp:house] 17\n",
       "\\item[temp:bedrooms] 15.6\n",
       "\\item[precip:NPP] 5.1\n",
       "\\item[precip:elev] 47.7\n",
       "\\item[precip:house] 5.4\n",
       "\\item[precip:bedrooms] 4.4\n",
       "\\item[NPP:elev] 23.7\n",
       "\\item[NPP:house] 2.9\n",
       "\\item[NPP:bedrooms] 2.6\n",
       "\\item[elev:house] 4.7\n",
       "\\item[elev:bedrooms] 4.2\n",
       "\\item[house:bedrooms] 1.7\n",
       "\\end{description*}\n"
      ],
      "text/markdown": [
       "long\n",
       ":   7.8lat\n",
       ":   69.6temp\n",
       ":   63.2precip\n",
       ":   11.6NPP\n",
       ":   3.2elev\n",
       ":   27.6house\n",
       ":   2.2bedrooms\n",
       ":   1.5long:lat\n",
       ":   35.1long:temp\n",
       ":   24.4long:precip\n",
       ":   8.7long:NPP\n",
       ":   5.1long:elev\n",
       ":   16.4long:house\n",
       ":   4.9long:bedrooms\n",
       ":   4.6lat:temp\n",
       ":   3.3lat:precip\n",
       ":   42.6lat:NPP\n",
       ":   31.7lat:elev\n",
       ":   4.5lat:house\n",
       ":   14.7lat:bedrooms\n",
       ":   13.6temp:precip\n",
       ":   76temp:NPP\n",
       ":   43.5temp:elev\n",
       ":   7.3temp:house\n",
       ":   17temp:bedrooms\n",
       ":   15.6precip:NPP\n",
       ":   5.1precip:elev\n",
       ":   47.7precip:house\n",
       ":   5.4precip:bedrooms\n",
       ":   4.4NPP:elev\n",
       ":   23.7NPP:house\n",
       ":   2.9NPP:bedrooms\n",
       ":   2.6elev:house\n",
       ":   4.7elev:bedrooms\n",
       ":   4.2house:bedrooms\n",
       ":   1.7\n",
       "\n"
      ],
      "text/plain": [
       "           long             lat            temp          precip             NPP \n",
       "            7.8            69.6            63.2            11.6             3.2 \n",
       "           elev           house        bedrooms        long:lat       long:temp \n",
       "           27.6             2.2             1.5            35.1            24.4 \n",
       "    long:precip        long:NPP       long:elev      long:house   long:bedrooms \n",
       "            8.7             5.1            16.4             4.9             4.6 \n",
       "       lat:temp      lat:precip         lat:NPP        lat:elev       lat:house \n",
       "            3.3            42.6            31.7             4.5            14.7 \n",
       "   lat:bedrooms     temp:precip        temp:NPP       temp:elev      temp:house \n",
       "           13.6            76.0            43.5             7.3            17.0 \n",
       "  temp:bedrooms      precip:NPP     precip:elev    precip:house precip:bedrooms \n",
       "           15.6             5.1            47.7             5.4             4.4 \n",
       "       NPP:elev       NPP:house    NPP:bedrooms      elev:house   elev:bedrooms \n",
       "           23.7             2.9             2.6             4.7             4.2 \n",
       " house:bedrooms \n",
       "            1.7 "
      ]
     },
     "metadata": {},
     "output_type": "display_data"
    }
   ],
   "source": [
    "round(vif(homes.ols.02),1)"
   ]
  },
  {
   "cell_type": "markdown",
   "metadata": {},
   "source": [
    "#### Summary of OLS with y~long+lat+temp+precip+NPP+elev+house+bedrooms)^2+I(long^2)+I(lat^2)+I(temp^2)+I(precip^2)+I(NPP^2)+I(elev^2)+I(bedrooms^2)"
   ]
  },
  {
   "cell_type": "code",
   "execution_count": 40,
   "metadata": {},
   "outputs": [
    {
     "data": {
      "text/plain": [
       "\n",
       "Call:\n",
       "lm(formula = y ~ (long + lat + temp + precip + NPP + elev + house + \n",
       "    bedrooms)^2 + I(long^2) + I(lat^2) + I(temp^2) + I(precip^2) + \n",
       "    I(NPP^2) + I(elev^2) + I(bedrooms^2), data = homes)\n",
       "\n",
       "Residuals:\n",
       "     Min       1Q   Median       3Q      Max \n",
       "-2.27312 -0.16580  0.07882  0.23738  0.60122 \n",
       "\n",
       "Coefficients:\n",
       "                  Estimate Std. Error t value Pr(>|t|)    \n",
       "(Intercept)      6.1395485  0.0349957 175.437  < 2e-16 ***\n",
       "long            -0.0697495  0.0446180  -1.563 0.118303    \n",
       "lat             -0.0353436  0.0922012  -0.383 0.701555    \n",
       "temp            -0.1446600  0.0884491  -1.636 0.102251    \n",
       "precip           0.0116187  0.0400214   0.290 0.771638    \n",
       "NPP             -0.0016541  0.0230038  -0.072 0.942691    \n",
       "elev            -0.0551345  0.0638824  -0.863 0.388306    \n",
       "house            0.0207129  0.0162811   1.272 0.203590    \n",
       "bedrooms         0.0135995  0.0131941   1.031 0.302914    \n",
       "I(long^2)       -0.0766234  0.0340346  -2.251 0.024577 *  \n",
       "I(lat^2)         0.0130964  0.0816420   0.160 0.872588    \n",
       "I(temp^2)        0.0446493  0.1110260   0.402 0.687657    \n",
       "I(precip^2)      0.0546761  0.0186278   2.935 0.003409 ** \n",
       "I(NPP^2)         0.0320687  0.0189980   1.688 0.091717 .  \n",
       "I(elev^2)       -0.0262702  0.0410226  -0.640 0.522067    \n",
       "I(bedrooms^2)   -0.0198994  0.0107862  -1.845 0.065344 .  \n",
       "long:lat         0.0194840  0.0817333   0.238 0.811630    \n",
       "long:temp        0.0094238  0.0919924   0.102 0.918427    \n",
       "long:precip     -0.0563134  0.0396917  -1.419 0.156273    \n",
       "long:NPP         0.0581040  0.0291524   1.993 0.046517 *  \n",
       "long:elev        0.0291303  0.0551861   0.528 0.597715    \n",
       "long:house      -0.0071407  0.0222560  -0.321 0.748393    \n",
       "long:bedrooms    0.0075369  0.0221438   0.340 0.733655    \n",
       "lat:temp         0.1094848  0.1849240   0.592 0.553947    \n",
       "lat:precip      -0.1109997  0.0729817  -1.521 0.128590    \n",
       "lat:NPP          0.0825995  0.0600787   1.375 0.169479    \n",
       "lat:elev        -0.0028732  0.0918382  -0.031 0.975048    \n",
       "lat:house        0.0204156  0.0422220   0.484 0.628824    \n",
       "lat:bedrooms    -0.0269460  0.0409783  -0.658 0.510964    \n",
       "temp:precip     -0.1573601  0.0887133  -1.774 0.076395 .  \n",
       "temp:NPP         0.1271723  0.0685104   1.856 0.063708 .  \n",
       "temp:elev       -0.0253890  0.1146354  -0.221 0.824766    \n",
       "temp:house       0.0664941  0.0475673   1.398 0.162450    \n",
       "temp:bedrooms   -0.0575742  0.0455628  -1.264 0.206655    \n",
       "precip:NPP      -0.1211186  0.0363343  -3.333 0.000889 ***\n",
       "precip:elev     -0.0732263  0.0486294  -1.506 0.132429    \n",
       "precip:house     0.0139946  0.0254024   0.551 0.581811    \n",
       "precip:bedrooms -0.0240259  0.0230184  -1.044 0.296841    \n",
       "NPP:elev         0.0231569  0.0424967   0.545 0.585934    \n",
       "NPP:house       -0.0016536  0.0189072  -0.087 0.930325    \n",
       "NPP:bedrooms     0.0334682  0.0180508   1.854 0.064012 .  \n",
       "elev:house       0.0091317  0.0236864   0.386 0.699929    \n",
       "elev:bedrooms   -0.0097266  0.0242718  -0.401 0.688699    \n",
       "house:bedrooms  -0.0004965  0.0162776  -0.031 0.975672    \n",
       "---\n",
       "Signif. codes:  0 '***' 0.001 '**' 0.01 '*' 0.05 '.' 0.1 ' ' 1\n",
       "\n",
       "Residual standard error: 0.3545 on 1015 degrees of freedom\n",
       "Multiple R-squared:  0.1593,\tAdjusted R-squared:  0.1237 \n",
       "F-statistic: 4.474 on 43 and 1015 DF,  p-value: < 2.2e-16\n"
      ]
     },
     "metadata": {},
     "output_type": "display_data"
    }
   ],
   "source": [
    "homes.ols.03<-lm(y~(long+lat+temp+precip+NPP+elev+house+bedrooms)^2\n",
    "                 +I(long^2)+I(lat^2)+I(temp^2)+I(precip^2)+I(NPP^2)+I(elev^2)\n",
    "                 +I(bedrooms^2),data=homes)\n",
    "summary(homes.ols.03)"
   ]
  },
  {
   "cell_type": "code",
   "execution_count": 41,
   "metadata": {},
   "outputs": [
    {
     "data": {
      "text/html": [
       "<table>\n",
       "<thead><tr><th></th><th scope=col>Df</th><th scope=col>Sum Sq</th><th scope=col>Mean Sq</th><th scope=col>F value</th><th scope=col>Pr(&gt;F)</th></tr></thead>\n",
       "<tbody>\n",
       "\t<tr><th scope=row>long</th><td>   1        </td><td>2.957272e+00</td><td>2.957272e+00</td><td>2.353616e+01</td><td>1.418085e-06</td></tr>\n",
       "\t<tr><th scope=row>lat</th><td>   1        </td><td>5.836782e+00</td><td>5.836782e+00</td><td>4.645343e+01</td><td>1.606763e-11</td></tr>\n",
       "\t<tr><th scope=row>temp</th><td>   1        </td><td>7.591102e-01</td><td>7.591102e-01</td><td>6.041561e+00</td><td>1.413915e-02</td></tr>\n",
       "\t<tr><th scope=row>precip</th><td>   1        </td><td>3.387244e-02</td><td>3.387244e-02</td><td>2.695820e-01</td><td>6.037255e-01</td></tr>\n",
       "\t<tr><th scope=row>NPP</th><td>   1        </td><td>7.368763e-01</td><td>7.368763e-01</td><td>5.864607e+00</td><td>1.562270e-02</td></tr>\n",
       "\t<tr><th scope=row>elev</th><td>   1        </td><td>1.232167e+00</td><td>1.232167e+00</td><td>9.806494e+00</td><td>1.788725e-03</td></tr>\n",
       "\t<tr><th scope=row>house</th><td>   1        </td><td>1.654615e+00</td><td>1.654615e+00</td><td>1.316865e+01</td><td>2.988608e-04</td></tr>\n",
       "\t<tr><th scope=row>bedrooms</th><td>   1        </td><td>3.601954e-01</td><td>3.601954e-01</td><td>2.866702e+00</td><td>9.073688e-02</td></tr>\n",
       "\t<tr><th scope=row>I(long^2)</th><td>   1        </td><td>1.634997e+00</td><td>1.634997e+00</td><td>1.301252e+01</td><td>3.244911e-04</td></tr>\n",
       "\t<tr><th scope=row>I(lat^2)</th><td>   1        </td><td>3.598204e+00</td><td>3.598204e+00</td><td>2.863717e+01</td><td>1.079030e-07</td></tr>\n",
       "\t<tr><th scope=row>I(temp^2)</th><td>   1        </td><td>8.201801e-02</td><td>8.201801e-02</td><td>6.527600e-01</td><td>4.193169e-01</td></tr>\n",
       "\t<tr><th scope=row>I(precip^2)</th><td>   1        </td><td>2.466090e-03</td><td>2.466090e-03</td><td>1.962697e-02</td><td>8.886117e-01</td></tr>\n",
       "\t<tr><th scope=row>I(NPP^2)</th><td>   1        </td><td>6.173800e-03</td><td>6.173800e-03</td><td>4.913567e-02</td><td>8.246187e-01</td></tr>\n",
       "\t<tr><th scope=row>I(elev^2)</th><td>   1        </td><td>4.116188e-04</td><td>4.116188e-04</td><td>3.275967e-03</td><td>9.543684e-01</td></tr>\n",
       "\t<tr><th scope=row>I(bedrooms^2)</th><td>   1        </td><td>6.617496e-01</td><td>6.617496e-01</td><td>5.266693e+00</td><td>2.194059e-02</td></tr>\n",
       "\t<tr><th scope=row>long:lat</th><td>   1        </td><td>4.551480e-02</td><td>4.551480e-02</td><td>3.622405e-01</td><td>5.473990e-01</td></tr>\n",
       "\t<tr><th scope=row>long:temp</th><td>   1        </td><td>3.160674e-01</td><td>3.160674e-01</td><td>2.515498e+00</td><td>1.130435e-01</td></tr>\n",
       "\t<tr><th scope=row>long:precip</th><td>   1        </td><td>8.252462e-03</td><td>8.252462e-03</td><td>6.567920e-02</td><td>7.977869e-01</td></tr>\n",
       "\t<tr><th scope=row>long:NPP</th><td>   1        </td><td>5.576311e-03</td><td>5.576311e-03</td><td>4.438041e-02</td><td>8.331897e-01</td></tr>\n",
       "\t<tr><th scope=row>long:elev</th><td>   1        </td><td>4.154213e-03</td><td>4.154213e-03</td><td>3.306230e-02</td><td>8.557521e-01</td></tr>\n",
       "\t<tr><th scope=row>long:house</th><td>   1        </td><td>8.434731e-04</td><td>8.434731e-04</td><td>6.712983e-03</td><td>9.347163e-01</td></tr>\n",
       "\t<tr><th scope=row>long:bedrooms</th><td>   1        </td><td>1.070973e-01</td><td>1.070973e-01</td><td>8.523597e-01</td><td>3.561051e-01</td></tr>\n",
       "\t<tr><th scope=row>lat:temp</th><td>   1        </td><td>6.837789e-02</td><td>6.837789e-02</td><td>5.442018e-01</td><td>4.608671e-01</td></tr>\n",
       "\t<tr><th scope=row>lat:precip</th><td>   1        </td><td>1.446108e-03</td><td>1.446108e-03</td><td>1.150920e-02</td><td>9.145873e-01</td></tr>\n",
       "\t<tr><th scope=row>lat:NPP</th><td>   1        </td><td>1.856135e-02</td><td>1.856135e-02</td><td>1.477250e-01</td><td>7.007995e-01</td></tr>\n",
       "\t<tr><th scope=row>lat:elev</th><td>   1        </td><td>2.835218e-02</td><td>2.835218e-02</td><td>2.256477e-01</td><td>6.348722e-01</td></tr>\n",
       "\t<tr><th scope=row>lat:house</th><td>   1        </td><td>4.882963e-01</td><td>4.882963e-01</td><td>3.886223e+00</td><td>4.895509e-02</td></tr>\n",
       "\t<tr><th scope=row>lat:bedrooms</th><td>   1        </td><td>4.151069e-01</td><td>4.151069e-01</td><td>3.303728e+00</td><td>6.941757e-02</td></tr>\n",
       "\t<tr><th scope=row>temp:precip</th><td>   1        </td><td>7.587806e-02</td><td>7.587806e-02</td><td>6.038937e-01</td><td>4.372773e-01</td></tr>\n",
       "\t<tr><th scope=row>temp:NPP</th><td>   1        </td><td>6.092079e-02</td><td>6.092079e-02</td><td>4.848528e-01</td><td>4.863918e-01</td></tr>\n",
       "\t<tr><th scope=row>temp:elev</th><td>   1        </td><td>2.901963e-02</td><td>2.901963e-02</td><td>2.309597e-01</td><td>6.309167e-01</td></tr>\n",
       "\t<tr><th scope=row>temp:house</th><td>   1        </td><td>4.581071e-01</td><td>4.581071e-01</td><td>3.645956e+00</td><td>5.648725e-02</td></tr>\n",
       "\t<tr><th scope=row>temp:bedrooms</th><td>   1        </td><td>2.380360e-01</td><td>2.380360e-01</td><td>1.894466e+00</td><td>1.690026e-01</td></tr>\n",
       "\t<tr><th scope=row>precip:NPP</th><td>   1        </td><td>1.239365e+00</td><td>1.239365e+00</td><td>9.863782e+00</td><td>1.734399e-03</td></tr>\n",
       "\t<tr><th scope=row>precip:elev</th><td>   1        </td><td>2.387488e-01</td><td>2.387488e-01</td><td>1.900139e+00</td><td>1.683665e-01</td></tr>\n",
       "\t<tr><th scope=row>precip:house</th><td>   1        </td><td>4.069523e-02</td><td>4.069523e-02</td><td>3.238828e-01</td><td>5.694094e-01</td></tr>\n",
       "\t<tr><th scope=row>precip:bedrooms</th><td>   1        </td><td>4.868804e-05</td><td>4.868804e-05</td><td>3.874955e-04</td><td>9.842986e-01</td></tr>\n",
       "\t<tr><th scope=row>NPP:elev</th><td>   1        </td><td>6.695969e-02</td><td>6.695969e-02</td><td>5.329147e-01</td><td>4.655525e-01</td></tr>\n",
       "\t<tr><th scope=row>NPP:house</th><td>   1        </td><td>1.678034e-01</td><td>1.678034e-01</td><td>1.335503e+00</td><td>2.481005e-01</td></tr>\n",
       "\t<tr><th scope=row>NPP:bedrooms</th><td>   1        </td><td>4.659610e-01</td><td>4.659610e-01</td><td>3.708462e+00</td><td>5.441634e-02</td></tr>\n",
       "\t<tr><th scope=row>elev:house</th><td>   1        </td><td>5.388728e-03</td><td>5.388728e-03</td><td>4.288749e-02</td><td>8.359788e-01</td></tr>\n",
       "\t<tr><th scope=row>elev:bedrooms</th><td>   1        </td><td>2.072536e-02</td><td>2.072536e-02</td><td>1.649478e-01</td><td>6.847271e-01</td></tr>\n",
       "\t<tr><th scope=row>house:bedrooms</th><td>   1        </td><td>1.169091e-04</td><td>1.169091e-04</td><td>9.304489e-04</td><td>9.756717e-01</td></tr>\n",
       "\t<tr><th scope=row>Residuals</th><td>1015        </td><td>1.275328e+02</td><td>1.256480e-01</td><td>          NA</td><td>          NA</td></tr>\n",
       "</tbody>\n",
       "</table>\n"
      ],
      "text/latex": [
       "\\begin{tabular}{r|lllll}\n",
       "  & Df & Sum Sq & Mean Sq & F value & Pr(>F)\\\\\n",
       "\\hline\n",
       "\tlong &    1         & 2.957272e+00 & 2.957272e+00 & 2.353616e+01 & 1.418085e-06\\\\\n",
       "\tlat &    1         & 5.836782e+00 & 5.836782e+00 & 4.645343e+01 & 1.606763e-11\\\\\n",
       "\ttemp &    1         & 7.591102e-01 & 7.591102e-01 & 6.041561e+00 & 1.413915e-02\\\\\n",
       "\tprecip &    1         & 3.387244e-02 & 3.387244e-02 & 2.695820e-01 & 6.037255e-01\\\\\n",
       "\tNPP &    1         & 7.368763e-01 & 7.368763e-01 & 5.864607e+00 & 1.562270e-02\\\\\n",
       "\telev &    1         & 1.232167e+00 & 1.232167e+00 & 9.806494e+00 & 1.788725e-03\\\\\n",
       "\thouse &    1         & 1.654615e+00 & 1.654615e+00 & 1.316865e+01 & 2.988608e-04\\\\\n",
       "\tbedrooms &    1         & 3.601954e-01 & 3.601954e-01 & 2.866702e+00 & 9.073688e-02\\\\\n",
       "\tI(long\\textasciicircum{}2) &    1         & 1.634997e+00 & 1.634997e+00 & 1.301252e+01 & 3.244911e-04\\\\\n",
       "\tI(lat\\textasciicircum{}2) &    1         & 3.598204e+00 & 3.598204e+00 & 2.863717e+01 & 1.079030e-07\\\\\n",
       "\tI(temp\\textasciicircum{}2) &    1         & 8.201801e-02 & 8.201801e-02 & 6.527600e-01 & 4.193169e-01\\\\\n",
       "\tI(precip\\textasciicircum{}2) &    1         & 2.466090e-03 & 2.466090e-03 & 1.962697e-02 & 8.886117e-01\\\\\n",
       "\tI(NPP\\textasciicircum{}2) &    1         & 6.173800e-03 & 6.173800e-03 & 4.913567e-02 & 8.246187e-01\\\\\n",
       "\tI(elev\\textasciicircum{}2) &    1         & 4.116188e-04 & 4.116188e-04 & 3.275967e-03 & 9.543684e-01\\\\\n",
       "\tI(bedrooms\\textasciicircum{}2) &    1         & 6.617496e-01 & 6.617496e-01 & 5.266693e+00 & 2.194059e-02\\\\\n",
       "\tlong:lat &    1         & 4.551480e-02 & 4.551480e-02 & 3.622405e-01 & 5.473990e-01\\\\\n",
       "\tlong:temp &    1         & 3.160674e-01 & 3.160674e-01 & 2.515498e+00 & 1.130435e-01\\\\\n",
       "\tlong:precip &    1         & 8.252462e-03 & 8.252462e-03 & 6.567920e-02 & 7.977869e-01\\\\\n",
       "\tlong:NPP &    1         & 5.576311e-03 & 5.576311e-03 & 4.438041e-02 & 8.331897e-01\\\\\n",
       "\tlong:elev &    1         & 4.154213e-03 & 4.154213e-03 & 3.306230e-02 & 8.557521e-01\\\\\n",
       "\tlong:house &    1         & 8.434731e-04 & 8.434731e-04 & 6.712983e-03 & 9.347163e-01\\\\\n",
       "\tlong:bedrooms &    1         & 1.070973e-01 & 1.070973e-01 & 8.523597e-01 & 3.561051e-01\\\\\n",
       "\tlat:temp &    1         & 6.837789e-02 & 6.837789e-02 & 5.442018e-01 & 4.608671e-01\\\\\n",
       "\tlat:precip &    1         & 1.446108e-03 & 1.446108e-03 & 1.150920e-02 & 9.145873e-01\\\\\n",
       "\tlat:NPP &    1         & 1.856135e-02 & 1.856135e-02 & 1.477250e-01 & 7.007995e-01\\\\\n",
       "\tlat:elev &    1         & 2.835218e-02 & 2.835218e-02 & 2.256477e-01 & 6.348722e-01\\\\\n",
       "\tlat:house &    1         & 4.882963e-01 & 4.882963e-01 & 3.886223e+00 & 4.895509e-02\\\\\n",
       "\tlat:bedrooms &    1         & 4.151069e-01 & 4.151069e-01 & 3.303728e+00 & 6.941757e-02\\\\\n",
       "\ttemp:precip &    1         & 7.587806e-02 & 7.587806e-02 & 6.038937e-01 & 4.372773e-01\\\\\n",
       "\ttemp:NPP &    1         & 6.092079e-02 & 6.092079e-02 & 4.848528e-01 & 4.863918e-01\\\\\n",
       "\ttemp:elev &    1         & 2.901963e-02 & 2.901963e-02 & 2.309597e-01 & 6.309167e-01\\\\\n",
       "\ttemp:house &    1         & 4.581071e-01 & 4.581071e-01 & 3.645956e+00 & 5.648725e-02\\\\\n",
       "\ttemp:bedrooms &    1         & 2.380360e-01 & 2.380360e-01 & 1.894466e+00 & 1.690026e-01\\\\\n",
       "\tprecip:NPP &    1         & 1.239365e+00 & 1.239365e+00 & 9.863782e+00 & 1.734399e-03\\\\\n",
       "\tprecip:elev &    1         & 2.387488e-01 & 2.387488e-01 & 1.900139e+00 & 1.683665e-01\\\\\n",
       "\tprecip:house &    1         & 4.069523e-02 & 4.069523e-02 & 3.238828e-01 & 5.694094e-01\\\\\n",
       "\tprecip:bedrooms &    1         & 4.868804e-05 & 4.868804e-05 & 3.874955e-04 & 9.842986e-01\\\\\n",
       "\tNPP:elev &    1         & 6.695969e-02 & 6.695969e-02 & 5.329147e-01 & 4.655525e-01\\\\\n",
       "\tNPP:house &    1         & 1.678034e-01 & 1.678034e-01 & 1.335503e+00 & 2.481005e-01\\\\\n",
       "\tNPP:bedrooms &    1         & 4.659610e-01 & 4.659610e-01 & 3.708462e+00 & 5.441634e-02\\\\\n",
       "\telev:house &    1         & 5.388728e-03 & 5.388728e-03 & 4.288749e-02 & 8.359788e-01\\\\\n",
       "\telev:bedrooms &    1         & 2.072536e-02 & 2.072536e-02 & 1.649478e-01 & 6.847271e-01\\\\\n",
       "\thouse:bedrooms &    1         & 1.169091e-04 & 1.169091e-04 & 9.304489e-04 & 9.756717e-01\\\\\n",
       "\tResiduals & 1015         & 1.275328e+02 & 1.256480e-01 &           NA &           NA\\\\\n",
       "\\end{tabular}\n"
      ],
      "text/markdown": [
       "\n",
       "| <!--/--> | Df | Sum Sq | Mean Sq | F value | Pr(>F) |\n",
       "|---|---|---|---|---|---|\n",
       "| long |    1         | 2.957272e+00 | 2.957272e+00 | 2.353616e+01 | 1.418085e-06 |\n",
       "| lat |    1         | 5.836782e+00 | 5.836782e+00 | 4.645343e+01 | 1.606763e-11 |\n",
       "| temp |    1         | 7.591102e-01 | 7.591102e-01 | 6.041561e+00 | 1.413915e-02 |\n",
       "| precip |    1         | 3.387244e-02 | 3.387244e-02 | 2.695820e-01 | 6.037255e-01 |\n",
       "| NPP |    1         | 7.368763e-01 | 7.368763e-01 | 5.864607e+00 | 1.562270e-02 |\n",
       "| elev |    1         | 1.232167e+00 | 1.232167e+00 | 9.806494e+00 | 1.788725e-03 |\n",
       "| house |    1         | 1.654615e+00 | 1.654615e+00 | 1.316865e+01 | 2.988608e-04 |\n",
       "| bedrooms |    1         | 3.601954e-01 | 3.601954e-01 | 2.866702e+00 | 9.073688e-02 |\n",
       "| I(long^2) |    1         | 1.634997e+00 | 1.634997e+00 | 1.301252e+01 | 3.244911e-04 |\n",
       "| I(lat^2) |    1         | 3.598204e+00 | 3.598204e+00 | 2.863717e+01 | 1.079030e-07 |\n",
       "| I(temp^2) |    1         | 8.201801e-02 | 8.201801e-02 | 6.527600e-01 | 4.193169e-01 |\n",
       "| I(precip^2) |    1         | 2.466090e-03 | 2.466090e-03 | 1.962697e-02 | 8.886117e-01 |\n",
       "| I(NPP^2) |    1         | 6.173800e-03 | 6.173800e-03 | 4.913567e-02 | 8.246187e-01 |\n",
       "| I(elev^2) |    1         | 4.116188e-04 | 4.116188e-04 | 3.275967e-03 | 9.543684e-01 |\n",
       "| I(bedrooms^2) |    1         | 6.617496e-01 | 6.617496e-01 | 5.266693e+00 | 2.194059e-02 |\n",
       "| long:lat |    1         | 4.551480e-02 | 4.551480e-02 | 3.622405e-01 | 5.473990e-01 |\n",
       "| long:temp |    1         | 3.160674e-01 | 3.160674e-01 | 2.515498e+00 | 1.130435e-01 |\n",
       "| long:precip |    1         | 8.252462e-03 | 8.252462e-03 | 6.567920e-02 | 7.977869e-01 |\n",
       "| long:NPP |    1         | 5.576311e-03 | 5.576311e-03 | 4.438041e-02 | 8.331897e-01 |\n",
       "| long:elev |    1         | 4.154213e-03 | 4.154213e-03 | 3.306230e-02 | 8.557521e-01 |\n",
       "| long:house |    1         | 8.434731e-04 | 8.434731e-04 | 6.712983e-03 | 9.347163e-01 |\n",
       "| long:bedrooms |    1         | 1.070973e-01 | 1.070973e-01 | 8.523597e-01 | 3.561051e-01 |\n",
       "| lat:temp |    1         | 6.837789e-02 | 6.837789e-02 | 5.442018e-01 | 4.608671e-01 |\n",
       "| lat:precip |    1         | 1.446108e-03 | 1.446108e-03 | 1.150920e-02 | 9.145873e-01 |\n",
       "| lat:NPP |    1         | 1.856135e-02 | 1.856135e-02 | 1.477250e-01 | 7.007995e-01 |\n",
       "| lat:elev |    1         | 2.835218e-02 | 2.835218e-02 | 2.256477e-01 | 6.348722e-01 |\n",
       "| lat:house |    1         | 4.882963e-01 | 4.882963e-01 | 3.886223e+00 | 4.895509e-02 |\n",
       "| lat:bedrooms |    1         | 4.151069e-01 | 4.151069e-01 | 3.303728e+00 | 6.941757e-02 |\n",
       "| temp:precip |    1         | 7.587806e-02 | 7.587806e-02 | 6.038937e-01 | 4.372773e-01 |\n",
       "| temp:NPP |    1         | 6.092079e-02 | 6.092079e-02 | 4.848528e-01 | 4.863918e-01 |\n",
       "| temp:elev |    1         | 2.901963e-02 | 2.901963e-02 | 2.309597e-01 | 6.309167e-01 |\n",
       "| temp:house |    1         | 4.581071e-01 | 4.581071e-01 | 3.645956e+00 | 5.648725e-02 |\n",
       "| temp:bedrooms |    1         | 2.380360e-01 | 2.380360e-01 | 1.894466e+00 | 1.690026e-01 |\n",
       "| precip:NPP |    1         | 1.239365e+00 | 1.239365e+00 | 9.863782e+00 | 1.734399e-03 |\n",
       "| precip:elev |    1         | 2.387488e-01 | 2.387488e-01 | 1.900139e+00 | 1.683665e-01 |\n",
       "| precip:house |    1         | 4.069523e-02 | 4.069523e-02 | 3.238828e-01 | 5.694094e-01 |\n",
       "| precip:bedrooms |    1         | 4.868804e-05 | 4.868804e-05 | 3.874955e-04 | 9.842986e-01 |\n",
       "| NPP:elev |    1         | 6.695969e-02 | 6.695969e-02 | 5.329147e-01 | 4.655525e-01 |\n",
       "| NPP:house |    1         | 1.678034e-01 | 1.678034e-01 | 1.335503e+00 | 2.481005e-01 |\n",
       "| NPP:bedrooms |    1         | 4.659610e-01 | 4.659610e-01 | 3.708462e+00 | 5.441634e-02 |\n",
       "| elev:house |    1         | 5.388728e-03 | 5.388728e-03 | 4.288749e-02 | 8.359788e-01 |\n",
       "| elev:bedrooms |    1         | 2.072536e-02 | 2.072536e-02 | 1.649478e-01 | 6.847271e-01 |\n",
       "| house:bedrooms |    1         | 1.169091e-04 | 1.169091e-04 | 9.304489e-04 | 9.756717e-01 |\n",
       "| Residuals | 1015         | 1.275328e+02 | 1.256480e-01 |           NA |           NA |\n",
       "\n"
      ],
      "text/plain": [
       "                Df   Sum Sq       Mean Sq      F value      Pr(>F)      \n",
       "long               1 2.957272e+00 2.957272e+00 2.353616e+01 1.418085e-06\n",
       "lat                1 5.836782e+00 5.836782e+00 4.645343e+01 1.606763e-11\n",
       "temp               1 7.591102e-01 7.591102e-01 6.041561e+00 1.413915e-02\n",
       "precip             1 3.387244e-02 3.387244e-02 2.695820e-01 6.037255e-01\n",
       "NPP                1 7.368763e-01 7.368763e-01 5.864607e+00 1.562270e-02\n",
       "elev               1 1.232167e+00 1.232167e+00 9.806494e+00 1.788725e-03\n",
       "house              1 1.654615e+00 1.654615e+00 1.316865e+01 2.988608e-04\n",
       "bedrooms           1 3.601954e-01 3.601954e-01 2.866702e+00 9.073688e-02\n",
       "I(long^2)          1 1.634997e+00 1.634997e+00 1.301252e+01 3.244911e-04\n",
       "I(lat^2)           1 3.598204e+00 3.598204e+00 2.863717e+01 1.079030e-07\n",
       "I(temp^2)          1 8.201801e-02 8.201801e-02 6.527600e-01 4.193169e-01\n",
       "I(precip^2)        1 2.466090e-03 2.466090e-03 1.962697e-02 8.886117e-01\n",
       "I(NPP^2)           1 6.173800e-03 6.173800e-03 4.913567e-02 8.246187e-01\n",
       "I(elev^2)          1 4.116188e-04 4.116188e-04 3.275967e-03 9.543684e-01\n",
       "I(bedrooms^2)      1 6.617496e-01 6.617496e-01 5.266693e+00 2.194059e-02\n",
       "long:lat           1 4.551480e-02 4.551480e-02 3.622405e-01 5.473990e-01\n",
       "long:temp          1 3.160674e-01 3.160674e-01 2.515498e+00 1.130435e-01\n",
       "long:precip        1 8.252462e-03 8.252462e-03 6.567920e-02 7.977869e-01\n",
       "long:NPP           1 5.576311e-03 5.576311e-03 4.438041e-02 8.331897e-01\n",
       "long:elev          1 4.154213e-03 4.154213e-03 3.306230e-02 8.557521e-01\n",
       "long:house         1 8.434731e-04 8.434731e-04 6.712983e-03 9.347163e-01\n",
       "long:bedrooms      1 1.070973e-01 1.070973e-01 8.523597e-01 3.561051e-01\n",
       "lat:temp           1 6.837789e-02 6.837789e-02 5.442018e-01 4.608671e-01\n",
       "lat:precip         1 1.446108e-03 1.446108e-03 1.150920e-02 9.145873e-01\n",
       "lat:NPP            1 1.856135e-02 1.856135e-02 1.477250e-01 7.007995e-01\n",
       "lat:elev           1 2.835218e-02 2.835218e-02 2.256477e-01 6.348722e-01\n",
       "lat:house          1 4.882963e-01 4.882963e-01 3.886223e+00 4.895509e-02\n",
       "lat:bedrooms       1 4.151069e-01 4.151069e-01 3.303728e+00 6.941757e-02\n",
       "temp:precip        1 7.587806e-02 7.587806e-02 6.038937e-01 4.372773e-01\n",
       "temp:NPP           1 6.092079e-02 6.092079e-02 4.848528e-01 4.863918e-01\n",
       "temp:elev          1 2.901963e-02 2.901963e-02 2.309597e-01 6.309167e-01\n",
       "temp:house         1 4.581071e-01 4.581071e-01 3.645956e+00 5.648725e-02\n",
       "temp:bedrooms      1 2.380360e-01 2.380360e-01 1.894466e+00 1.690026e-01\n",
       "precip:NPP         1 1.239365e+00 1.239365e+00 9.863782e+00 1.734399e-03\n",
       "precip:elev        1 2.387488e-01 2.387488e-01 1.900139e+00 1.683665e-01\n",
       "precip:house       1 4.069523e-02 4.069523e-02 3.238828e-01 5.694094e-01\n",
       "precip:bedrooms    1 4.868804e-05 4.868804e-05 3.874955e-04 9.842986e-01\n",
       "NPP:elev           1 6.695969e-02 6.695969e-02 5.329147e-01 4.655525e-01\n",
       "NPP:house          1 1.678034e-01 1.678034e-01 1.335503e+00 2.481005e-01\n",
       "NPP:bedrooms       1 4.659610e-01 4.659610e-01 3.708462e+00 5.441634e-02\n",
       "elev:house         1 5.388728e-03 5.388728e-03 4.288749e-02 8.359788e-01\n",
       "elev:bedrooms      1 2.072536e-02 2.072536e-02 1.649478e-01 6.847271e-01\n",
       "house:bedrooms     1 1.169091e-04 1.169091e-04 9.304489e-04 9.756717e-01\n",
       "Residuals       1015 1.275328e+02 1.256480e-01           NA           NA"
      ]
     },
     "metadata": {},
     "output_type": "display_data"
    }
   ],
   "source": [
    "anova(homes.ols.03)"
   ]
  },
  {
   "cell_type": "markdown",
   "metadata": {},
   "source": [
    "#### Variance Inflation Factor of OLS with y~long+lat+temp+precip+NPP+elev+house+bedrooms)^2+I(long^2)+I(lat^2)+I(temp^2)+I(precip^2)+I(NPP^2)+I(elev^2)+I(bedrooms^2)"
   ]
  },
  {
   "cell_type": "code",
   "execution_count": 42,
   "metadata": {},
   "outputs": [
    {
     "data": {
      "text/html": [
       "<dl class=dl-horizontal>\n",
       "\t<dt>long</dt>\n",
       "\t\t<dd>16.8</dd>\n",
       "\t<dt>lat</dt>\n",
       "\t\t<dd>71.6</dd>\n",
       "\t<dt>temp</dt>\n",
       "\t\t<dd>65.9</dd>\n",
       "\t<dt>precip</dt>\n",
       "\t\t<dd>13.5</dd>\n",
       "\t<dt>NPP</dt>\n",
       "\t\t<dd>4.5</dd>\n",
       "\t<dt>elev</dt>\n",
       "\t\t<dd>34.4</dd>\n",
       "\t<dt>house</dt>\n",
       "\t\t<dd>2.2</dd>\n",
       "\t<dt>bedrooms</dt>\n",
       "\t\t<dd>1.5</dd>\n",
       "\t<dt>I(long^2)</dt>\n",
       "\t\t<dd>15.8</dd>\n",
       "\t<dt>I(lat^2)</dt>\n",
       "\t\t<dd>100.1</dd>\n",
       "\t<dt>I(temp^2)</dt>\n",
       "\t\t<dd>175.8</dd>\n",
       "\t<dt>I(precip^2)</dt>\n",
       "\t\t<dd>7.4</dd>\n",
       "\t<dt>I(NPP^2)</dt>\n",
       "\t\t<dd>4.8</dd>\n",
       "\t<dt>I(elev^2)</dt>\n",
       "\t\t<dd>153.7</dd>\n",
       "\t<dt>I(bedrooms^2)</dt>\n",
       "\t\t<dd>1.6</dd>\n",
       "\t<dt>long:lat</dt>\n",
       "\t\t<dd>72.9</dd>\n",
       "\t<dt>long:temp</dt>\n",
       "\t\t<dd>51.5</dd>\n",
       "\t<dt>long:precip</dt>\n",
       "\t\t<dd>18.2</dd>\n",
       "\t<dt>long:NPP</dt>\n",
       "\t\t<dd>7.2</dd>\n",
       "\t<dt>long:elev</dt>\n",
       "\t\t<dd>30.4</dd>\n",
       "\t<dt>long:house</dt>\n",
       "\t\t<dd>4.9</dd>\n",
       "\t<dt>long:bedrooms</dt>\n",
       "\t\t<dd>4.7</dd>\n",
       "\t<dt>lat:temp</dt>\n",
       "\t\t<dd>410.7</dd>\n",
       "\t<dt>lat:precip</dt>\n",
       "\t\t<dd>65.6</dd>\n",
       "\t<dt>lat:NPP</dt>\n",
       "\t\t<dd>43.9</dd>\n",
       "\t<dt>lat:elev</dt>\n",
       "\t\t<dd>51.5</dd>\n",
       "\t<dt>lat:house</dt>\n",
       "\t\t<dd>14.8</dd>\n",
       "\t<dt>lat:bedrooms</dt>\n",
       "\t\t<dd>13.6</dd>\n",
       "\t<dt>temp:precip</dt>\n",
       "\t\t<dd>99.1</dd>\n",
       "\t<dt>temp:NPP</dt>\n",
       "\t\t<dd>58.8</dd>\n",
       "\t<dt>temp:elev</dt>\n",
       "\t\t<dd>213.4</dd>\n",
       "\t<dt>temp:house</dt>\n",
       "\t\t<dd>17.1</dd>\n",
       "\t<dt>temp:bedrooms</dt>\n",
       "\t\t<dd>15.7</dd>\n",
       "\t<dt>precip:NPP</dt>\n",
       "\t\t<dd>16.3</dd>\n",
       "\t<dt>precip:elev</dt>\n",
       "\t\t<dd>55.9</dd>\n",
       "\t<dt>precip:house</dt>\n",
       "\t\t<dd>5.5</dd>\n",
       "\t<dt>precip:bedrooms</dt>\n",
       "\t\t<dd>4.5</dd>\n",
       "\t<dt>NPP:elev</dt>\n",
       "\t\t<dd>28.6</dd>\n",
       "\t<dt>NPP:house</dt>\n",
       "\t\t<dd>2.9</dd>\n",
       "\t<dt>NPP:bedrooms</dt>\n",
       "\t\t<dd>2.6</dd>\n",
       "\t<dt>elev:house</dt>\n",
       "\t\t<dd>4.8</dd>\n",
       "\t<dt>elev:bedrooms</dt>\n",
       "\t\t<dd>4.2</dd>\n",
       "\t<dt>house:bedrooms</dt>\n",
       "\t\t<dd>2.5</dd>\n",
       "</dl>\n"
      ],
      "text/latex": [
       "\\begin{description*}\n",
       "\\item[long] 16.8\n",
       "\\item[lat] 71.6\n",
       "\\item[temp] 65.9\n",
       "\\item[precip] 13.5\n",
       "\\item[NPP] 4.5\n",
       "\\item[elev] 34.4\n",
       "\\item[house] 2.2\n",
       "\\item[bedrooms] 1.5\n",
       "\\item[I(long\\textbackslash{}textasciicircum\\{\\}2)] 15.8\n",
       "\\item[I(lat\\textbackslash{}textasciicircum\\{\\}2)] 100.1\n",
       "\\item[I(temp\\textbackslash{}textasciicircum\\{\\}2)] 175.8\n",
       "\\item[I(precip\\textbackslash{}textasciicircum\\{\\}2)] 7.4\n",
       "\\item[I(NPP\\textbackslash{}textasciicircum\\{\\}2)] 4.8\n",
       "\\item[I(elev\\textbackslash{}textasciicircum\\{\\}2)] 153.7\n",
       "\\item[I(bedrooms\\textbackslash{}textasciicircum\\{\\}2)] 1.6\n",
       "\\item[long:lat] 72.9\n",
       "\\item[long:temp] 51.5\n",
       "\\item[long:precip] 18.2\n",
       "\\item[long:NPP] 7.2\n",
       "\\item[long:elev] 30.4\n",
       "\\item[long:house] 4.9\n",
       "\\item[long:bedrooms] 4.7\n",
       "\\item[lat:temp] 410.7\n",
       "\\item[lat:precip] 65.6\n",
       "\\item[lat:NPP] 43.9\n",
       "\\item[lat:elev] 51.5\n",
       "\\item[lat:house] 14.8\n",
       "\\item[lat:bedrooms] 13.6\n",
       "\\item[temp:precip] 99.1\n",
       "\\item[temp:NPP] 58.8\n",
       "\\item[temp:elev] 213.4\n",
       "\\item[temp:house] 17.1\n",
       "\\item[temp:bedrooms] 15.7\n",
       "\\item[precip:NPP] 16.3\n",
       "\\item[precip:elev] 55.9\n",
       "\\item[precip:house] 5.5\n",
       "\\item[precip:bedrooms] 4.5\n",
       "\\item[NPP:elev] 28.6\n",
       "\\item[NPP:house] 2.9\n",
       "\\item[NPP:bedrooms] 2.6\n",
       "\\item[elev:house] 4.8\n",
       "\\item[elev:bedrooms] 4.2\n",
       "\\item[house:bedrooms] 2.5\n",
       "\\end{description*}\n"
      ],
      "text/markdown": [
       "long\n",
       ":   16.8lat\n",
       ":   71.6temp\n",
       ":   65.9precip\n",
       ":   13.5NPP\n",
       ":   4.5elev\n",
       ":   34.4house\n",
       ":   2.2bedrooms\n",
       ":   1.5I(long^2)\n",
       ":   15.8I(lat^2)\n",
       ":   100.1I(temp^2)\n",
       ":   175.8I(precip^2)\n",
       ":   7.4I(NPP^2)\n",
       ":   4.8I(elev^2)\n",
       ":   153.7I(bedrooms^2)\n",
       ":   1.6long:lat\n",
       ":   72.9long:temp\n",
       ":   51.5long:precip\n",
       ":   18.2long:NPP\n",
       ":   7.2long:elev\n",
       ":   30.4long:house\n",
       ":   4.9long:bedrooms\n",
       ":   4.7lat:temp\n",
       ":   410.7lat:precip\n",
       ":   65.6lat:NPP\n",
       ":   43.9lat:elev\n",
       ":   51.5lat:house\n",
       ":   14.8lat:bedrooms\n",
       ":   13.6temp:precip\n",
       ":   99.1temp:NPP\n",
       ":   58.8temp:elev\n",
       ":   213.4temp:house\n",
       ":   17.1temp:bedrooms\n",
       ":   15.7precip:NPP\n",
       ":   16.3precip:elev\n",
       ":   55.9precip:house\n",
       ":   5.5precip:bedrooms\n",
       ":   4.5NPP:elev\n",
       ":   28.6NPP:house\n",
       ":   2.9NPP:bedrooms\n",
       ":   2.6elev:house\n",
       ":   4.8elev:bedrooms\n",
       ":   4.2house:bedrooms\n",
       ":   2.5\n",
       "\n"
      ],
      "text/plain": [
       "           long             lat            temp          precip             NPP \n",
       "           16.8            71.6            65.9            13.5             4.5 \n",
       "           elev           house        bedrooms       I(long^2)        I(lat^2) \n",
       "           34.4             2.2             1.5            15.8           100.1 \n",
       "      I(temp^2)     I(precip^2)        I(NPP^2)       I(elev^2)   I(bedrooms^2) \n",
       "          175.8             7.4             4.8           153.7             1.6 \n",
       "       long:lat       long:temp     long:precip        long:NPP       long:elev \n",
       "           72.9            51.5            18.2             7.2            30.4 \n",
       "     long:house   long:bedrooms        lat:temp      lat:precip         lat:NPP \n",
       "            4.9             4.7           410.7            65.6            43.9 \n",
       "       lat:elev       lat:house    lat:bedrooms     temp:precip        temp:NPP \n",
       "           51.5            14.8            13.6            99.1            58.8 \n",
       "      temp:elev      temp:house   temp:bedrooms      precip:NPP     precip:elev \n",
       "          213.4            17.1            15.7            16.3            55.9 \n",
       "   precip:house precip:bedrooms        NPP:elev       NPP:house    NPP:bedrooms \n",
       "            5.5             4.5            28.6             2.9             2.6 \n",
       "     elev:house   elev:bedrooms  house:bedrooms \n",
       "            4.8             4.2             2.5 "
      ]
     },
     "metadata": {},
     "output_type": "display_data"
    }
   ],
   "source": [
    "round(vif(homes.ols.03),1)"
   ]
  },
  {
   "cell_type": "markdown",
   "metadata": {},
   "source": [
    "## Stepwise selection of predictors"
   ]
  },
  {
   "cell_type": "markdown",
   "metadata": {},
   "source": [
    "Now, given a set of features, we have to select the best ones for our model. However, to do that we have to compute $2^n$ combinations of models. That is computationally unachievable for our set of features. That is why we use stepwise selection, which in each step selects the better features. We can do that using the `step()` function. That function is really powerful and allows us to do both forward and backwards selection. "
   ]
  },
  {
   "cell_type": "markdown",
   "metadata": {},
   "source": [
    "##### Forward selection"
   ]
  },
  {
   "cell_type": "markdown",
   "metadata": {},
   "source": [
    "With forward selection we start with an empty model and the we add step by step the best features."
   ]
  },
  {
   "cell_type": "code",
   "execution_count": 43,
   "metadata": {},
   "outputs": [
    {
     "data": {
      "text/plain": [
       "\n",
       "Call:\n",
       "lm(formula = y ~ 1, data = homes)\n",
       "\n",
       "Residuals:\n",
       "     Min       1Q   Median       3Q      Max \n",
       "-2.25232 -0.17585  0.07612  0.27436  0.58648 \n",
       "\n",
       "Coefficients:\n",
       "            Estimate Std. Error t value Pr(>|t|)    \n",
       "(Intercept)  5.98998    0.01164   514.8   <2e-16 ***\n",
       "---\n",
       "Signif. codes:  0 '***' 0.001 '**' 0.01 '*' 0.05 '.' 0.1 ' ' 1\n",
       "\n",
       "Residual standard error: 0.3787 on 1058 degrees of freedom\n"
      ]
     },
     "metadata": {},
     "output_type": "display_data"
    }
   ],
   "source": [
    "# Null model (with only intercept)\n",
    "ls0<-lm(y~1, data=homes)\n",
    "summary(ls0)"
   ]
  },
  {
   "cell_type": "code",
   "execution_count": 44,
   "metadata": {},
   "outputs": [
    {
     "name": "stdout",
     "output_type": "stream",
     "text": [
      "Start:  AIC=-2055.79\n",
      "y ~ 1\n",
      "\n",
      "                Df Sum of Sq    RSS     AIC\n",
      "+ temp           1    6.6988 145.01 -2101.6\n",
      "+ I(lat^2)       1    5.6782 146.03 -2094.2\n",
      "+ lat            1    5.0143 146.69 -2089.4\n",
      "+ I(precip^2)    1    4.2878 147.42 -2084.2\n",
      "+ I(temp^2)      1    3.7035 148.00 -2080.0\n",
      "+ I(long^2)      1    3.1670 148.54 -2076.1\n",
      "+ long           1    2.9573 148.75 -2074.6\n",
      "+ I(NPP^2)       1    2.3027 149.40 -2070.0\n",
      "+ bedrooms       1    1.5496 150.16 -2064.7\n",
      "+ house          1    1.3730 150.33 -2063.4\n",
      "+ I(bedrooms^2)  1    0.8974 150.81 -2060.1\n",
      "+ I(elev^2)      1    0.6914 151.01 -2058.6\n",
      "+ precip         1    0.4135 151.29 -2056.7\n",
      "<none>                       151.71 -2055.8\n",
      "+ elev           1    0.2300 151.47 -2055.4\n",
      "+ NPP            1    0.0474 151.66 -2054.1\n",
      "\n",
      "Step:  AIC=-2101.61\n",
      "y ~ temp\n",
      "\n",
      "                Df Sum of Sq    RSS     AIC\n",
      "+ I(long^2)      1    4.1271 140.88 -2130.2\n",
      "+ I(lat^2)       1    3.5309 141.47 -2125.7\n",
      "+ I(precip^2)    1    3.2028 141.80 -2123.3\n",
      "+ I(elev^2)      1    2.7684 142.24 -2120.0\n",
      "+ long           1    2.7059 142.30 -2119.6\n",
      "+ I(temp^2)      1    2.3828 142.62 -2117.2\n",
      "+ elev           1    2.3243 142.68 -2116.7\n",
      "+ precip         1    1.6370 143.37 -2111.6\n",
      "+ house          1    1.6080 143.40 -2111.4\n",
      "+ bedrooms       1    1.6042 143.40 -2111.4\n",
      "+ I(NPP^2)       1    1.3150 143.69 -2109.3\n",
      "+ I(bedrooms^2)  1    1.0807 143.93 -2107.5\n",
      "<none>                       145.01 -2101.6\n",
      "+ NPP            1    0.0094 145.00 -2099.7\n",
      "+ lat            1    0.0013 145.00 -2099.6\n",
      "- temp           1    6.6988 151.71 -2055.8\n",
      "\n",
      "Step:  AIC=-2130.19\n",
      "y ~ temp + I(long^2)\n",
      "\n",
      "                Df Sum of Sq    RSS     AIC\n",
      "+ I(temp^2)      1    3.5309 137.35 -2155.1\n",
      "+ I(elev^2)      1    2.4538 138.43 -2146.8\n",
      "+ I(lat^2)       1    2.2316 138.65 -2145.1\n",
      "+ elev           1    2.0691 138.81 -2143.9\n",
      "+ bedrooms       1    1.2237 139.66 -2137.4\n",
      "+ I(precip^2)    1    1.2196 139.66 -2137.4\n",
      "+ house          1    1.1008 139.78 -2136.5\n",
      "+ lat            1    1.0434 139.84 -2136.1\n",
      "+ I(NPP^2)       1    0.9553 139.92 -2135.4\n",
      "+ I(bedrooms^2)  1    0.7907 140.09 -2134.2\n",
      "+ precip         1    0.3918 140.49 -2131.1\n",
      "<none>                       140.88 -2130.2\n",
      "+ NPP            1    0.0726 140.81 -2128.7\n",
      "+ long           1    0.0180 140.86 -2128.3\n",
      "- I(long^2)      1    4.1271 145.01 -2101.6\n",
      "- temp           1    7.6589 148.54 -2076.1\n",
      "\n",
      "Step:  AIC=-2155.07\n",
      "y ~ temp + I(long^2) + I(temp^2)\n",
      "\n",
      "                Df Sum of Sq    RSS     AIC\n",
      "+ house          1    1.2673 136.08 -2162.9\n",
      "+ bedrooms       1    1.1022 136.25 -2161.6\n",
      "+ I(elev^2)      1    1.0318 136.32 -2161.1\n",
      "+ elev           1    0.9843 136.36 -2160.7\n",
      "+ I(bedrooms^2)  1    0.9479 136.40 -2160.4\n",
      "+ lat            1    0.4626 136.89 -2156.6\n",
      "<none>                       137.35 -2155.1\n",
      "+ I(precip^2)    1    0.2456 137.10 -2155.0\n",
      "+ I(NPP^2)       1    0.1735 137.18 -2154.4\n",
      "+ long           1    0.1517 137.20 -2154.2\n",
      "+ precip         1    0.0770 137.27 -2153.7\n",
      "+ I(lat^2)       1    0.0329 137.31 -2153.3\n",
      "+ NPP            1    0.0044 137.34 -2153.1\n",
      "- I(temp^2)      1    3.5309 140.88 -2130.2\n",
      "- I(long^2)      1    5.2753 142.62 -2117.2\n",
      "- temp           1    6.1219 143.47 -2110.9\n",
      "\n",
      "Step:  AIC=-2162.89\n",
      "y ~ temp + I(long^2) + I(temp^2) + house\n",
      "\n",
      "                Df Sum of Sq    RSS     AIC\n",
      "+ elev           1    1.1926 134.89 -2170.2\n",
      "+ I(elev^2)      1    1.0294 135.05 -2168.9\n",
      "+ temp:house     1    0.7371 135.34 -2166.6\n",
      "+ I(bedrooms^2)  1    0.5217 135.56 -2165.0\n",
      "+ lat            1    0.4633 135.62 -2164.5\n",
      "+ bedrooms       1    0.2836 135.80 -2163.1\n",
      "+ I(precip^2)    1    0.2653 135.82 -2162.9\n",
      "<none>                       136.08 -2162.9\n",
      "+ I(NPP^2)       1    0.1892 135.89 -2162.4\n",
      "+ precip         1    0.0999 135.98 -2161.7\n",
      "+ long           1    0.0625 136.02 -2161.4\n",
      "+ I(lat^2)       1    0.0273 136.05 -2161.1\n",
      "+ NPP            1    0.0195 136.06 -2161.0\n",
      "- house          1    1.2673 137.35 -2155.1\n",
      "- I(temp^2)      1    3.6974 139.78 -2136.5\n",
      "- I(long^2)      1    4.6993 140.78 -2128.9\n",
      "- temp           1    6.2344 142.31 -2117.4\n",
      "\n",
      "Step:  AIC=-2170.21\n",
      "y ~ temp + I(long^2) + I(temp^2) + house + elev\n",
      "\n",
      "                Df Sum of Sq    RSS     AIC\n",
      "+ long           1    0.9182 133.97 -2175.4\n",
      "+ temp:house     1    0.7204 134.17 -2173.9\n",
      "+ I(bedrooms^2)  1    0.6101 134.28 -2173.0\n",
      "+ elev:house     1    0.3945 134.49 -2171.3\n",
      "+ I(lat^2)       1    0.3086 134.58 -2170.6\n",
      "+ bedrooms       1    0.2688 134.62 -2170.3\n",
      "<none>                       134.89 -2170.2\n",
      "+ NPP            1    0.1269 134.76 -2169.2\n",
      "+ temp:elev      1    0.0940 134.79 -2168.9\n",
      "+ precip         1    0.0905 134.80 -2168.9\n",
      "+ I(elev^2)      1    0.0120 134.88 -2168.3\n",
      "+ I(precip^2)    1    0.0099 134.88 -2168.3\n",
      "+ I(NPP^2)       1    0.0023 134.89 -2168.2\n",
      "+ lat            1    0.0004 134.89 -2168.2\n",
      "- elev           1    1.1926 136.08 -2162.9\n",
      "- house          1    1.4756 136.36 -2160.7\n",
      "- I(temp^2)      1    2.5115 137.40 -2152.7\n",
      "- I(long^2)      1    4.2307 139.12 -2139.5\n",
      "- temp           1    7.4270 142.31 -2115.4\n",
      "\n",
      "Step:  AIC=-2175.44\n",
      "y ~ temp + I(long^2) + I(temp^2) + house + elev + long\n",
      "\n",
      "                Df Sum of Sq    RSS     AIC\n",
      "+ temp:house     1    0.9163 133.05 -2180.7\n",
      "+ I(lat^2)       1    0.6737 133.30 -2178.8\n",
      "+ I(bedrooms^2)  1    0.5792 133.39 -2178.0\n",
      "+ elev:house     1    0.3489 133.62 -2176.2\n",
      "<none>                       133.97 -2175.4\n",
      "+ bedrooms       1    0.2465 133.72 -2175.4\n",
      "+ long:elev      1    0.2204 133.75 -2175.2\n",
      "+ temp:elev      1    0.1988 133.77 -2175.0\n",
      "+ lat            1    0.0917 133.88 -2174.2\n",
      "+ long:temp      1    0.0435 133.93 -2173.8\n",
      "+ I(elev^2)      1    0.0312 133.94 -2173.7\n",
      "+ NPP            1    0.0191 133.95 -2173.6\n",
      "+ precip         1    0.0166 133.95 -2173.6\n",
      "+ I(NPP^2)       1    0.0096 133.96 -2173.5\n",
      "+ long:house     1    0.0004 133.97 -2173.4\n",
      "+ I(precip^2)    1    0.0002 133.97 -2173.4\n",
      "- long           1    0.9182 134.89 -2170.2\n",
      "- house          1    1.2497 135.22 -2167.6\n",
      "- elev           1    2.0483 136.02 -2161.4\n",
      "- I(temp^2)      1    2.9490 136.92 -2154.4\n",
      "- I(long^2)      1    3.8350 137.81 -2147.6\n",
      "- temp           1    8.3423 142.31 -2113.5\n",
      "\n",
      "Step:  AIC=-2180.71\n",
      "y ~ temp + I(long^2) + I(temp^2) + house + elev + long + temp:house\n",
      "\n",
      "                Df Sum of Sq    RSS     AIC\n",
      "+ I(lat^2)       1    0.6802 132.37 -2184.1\n",
      "+ I(bedrooms^2)  1    0.4883 132.57 -2182.6\n",
      "+ long:elev      1    0.2651 132.79 -2180.8\n",
      "+ temp:elev      1    0.2590 132.79 -2180.8\n",
      "<none>                       133.05 -2180.7\n",
      "+ bedrooms       1    0.2137 132.84 -2180.4\n",
      "+ lat            1    0.1275 132.93 -2179.7\n",
      "+ elev:house     1    0.0791 132.97 -2179.3\n",
      "+ NPP            1    0.0493 133.00 -2179.1\n",
      "+ long:temp      1    0.0363 133.02 -2179.0\n",
      "+ precip         1    0.0308 133.02 -2179.0\n",
      "+ I(elev^2)      1    0.0266 133.03 -2178.9\n",
      "+ I(NPP^2)       1    0.0150 133.04 -2178.8\n",
      "+ long:house     1    0.0103 133.04 -2178.8\n",
      "+ I(precip^2)    1    0.0020 133.05 -2178.7\n",
      "- temp:house     1    0.9163 133.97 -2175.4\n",
      "- long           1    1.1141 134.17 -2173.9\n",
      "- elev           1    2.1783 135.23 -2165.5\n",
      "- I(temp^2)      1    3.0008 136.06 -2159.1\n",
      "- I(long^2)      1    4.1457 137.20 -2150.2\n",
      "\n",
      "Step:  AIC=-2184.14\n",
      "y ~ temp + I(long^2) + I(temp^2) + house + elev + long + I(lat^2) + \n",
      "    temp:house\n",
      "\n",
      "                Df Sum of Sq    RSS     AIC\n",
      "+ I(bedrooms^2)  1    0.5029 131.87 -2186.2\n",
      "+ precip         1    0.2747 132.10 -2184.3\n",
      "+ long:elev      1    0.2592 132.12 -2184.2\n",
      "<none>                       132.37 -2184.1\n",
      "- I(temp^2)      1    0.2561 132.63 -2184.1\n",
      "+ NPP            1    0.2356 132.14 -2184.0\n",
      "+ bedrooms       1    0.1799 132.19 -2183.6\n",
      "+ temp:elev      1    0.1338 132.24 -2183.2\n",
      "+ elev:house     1    0.0802 132.29 -2182.8\n",
      "+ long:temp      1    0.0397 132.33 -2182.5\n",
      "+ long:house     1    0.0148 132.36 -2182.3\n",
      "+ I(elev^2)      1    0.0030 132.37 -2182.2\n",
      "+ I(precip^2)    1    0.0024 132.37 -2182.2\n",
      "+ lat            1    0.0007 132.37 -2182.1\n",
      "+ I(NPP^2)       1    0.0002 132.37 -2182.1\n",
      "- I(lat^2)       1    0.6802 133.05 -2180.7\n",
      "- temp:house     1    0.9228 133.30 -2178.8\n",
      "- long           1    1.5067 133.88 -2174.2\n",
      "- elev           1    2.8333 135.21 -2163.7\n",
      "- I(long^2)      1    3.8064 136.18 -2156.1\n",
      "\n",
      "Step:  AIC=-2186.17\n",
      "y ~ temp + I(long^2) + I(temp^2) + house + elev + long + I(lat^2) + \n",
      "    I(bedrooms^2) + temp:house\n",
      "\n",
      "                Df Sum of Sq    RSS     AIC\n",
      "+ precip         1    0.2820 131.59 -2186.4\n",
      "+ long:elev      1    0.2669 131.60 -2186.3\n",
      "<none>                       131.87 -2186.2\n",
      "- I(temp^2)      1    0.2570 132.13 -2186.1\n",
      "+ NPP            1    0.2318 131.64 -2186.0\n",
      "+ bedrooms       1    0.2285 131.64 -2186.0\n",
      "+ temp:elev      1    0.1332 131.74 -2185.2\n",
      "+ elev:house     1    0.0735 131.80 -2184.8\n",
      "+ long:temp      1    0.0238 131.85 -2184.4\n",
      "+ long:house     1    0.0141 131.86 -2184.3\n",
      "+ I(precip^2)    1    0.0045 131.87 -2184.2\n",
      "+ I(elev^2)      1    0.0036 131.87 -2184.2\n",
      "+ lat            1    0.0006 131.87 -2184.2\n",
      "+ I(NPP^2)       1    0.0001 131.87 -2184.2\n",
      "- I(bedrooms^2)  1    0.5029 132.37 -2184.1\n",
      "- I(lat^2)       1    0.6948 132.57 -2182.6\n",
      "- temp:house     1    0.8304 132.70 -2181.5\n",
      "- long           1    1.4640 133.34 -2176.5\n",
      "- elev           1    2.9104 134.78 -2165.1\n",
      "- I(long^2)      1    3.6547 135.53 -2159.2\n",
      "\n",
      "Step:  AIC=-2186.44\n",
      "y ~ temp + I(long^2) + I(temp^2) + house + elev + long + I(lat^2) + \n",
      "    I(bedrooms^2) + precip + temp:house\n",
      "\n",
      "                Df Sum of Sq    RSS     AIC\n",
      "- I(temp^2)      1    0.1111 131.70 -2187.5\n",
      "<none>                       131.59 -2186.4\n",
      "+ bedrooms       1    0.2321 131.36 -2186.3\n",
      "- precip         1    0.2820 131.87 -2186.2\n",
      "+ long:elev      1    0.1835 131.41 -2185.9\n",
      "+ elev:house     1    0.0674 131.52 -2185.0\n",
      "+ NPP            1    0.0592 131.53 -2184.9\n",
      "+ precip:house   1    0.0355 131.55 -2184.7\n",
      "+ temp:elev      1    0.0296 131.56 -2184.7\n",
      "+ precip:elev    1    0.0214 131.57 -2184.6\n",
      "+ long:house     1    0.0150 131.57 -2184.6\n",
      "+ I(precip^2)    1    0.0106 131.58 -2184.5\n",
      "+ long:temp      1    0.0067 131.58 -2184.5\n",
      "+ long:precip    1    0.0020 131.59 -2184.4\n",
      "+ I(elev^2)      1    0.0012 131.59 -2184.4\n",
      "+ I(NPP^2)       1    0.0002 131.59 -2184.4\n",
      "+ lat            1    0.0001 131.59 -2184.4\n",
      "+ temp:precip    1    0.0001 131.59 -2184.4\n",
      "- I(bedrooms^2)  1    0.5102 132.10 -2184.3\n",
      "- temp:house     1    0.8801 132.47 -2181.4\n",
      "- I(lat^2)       1    0.9450 132.53 -2180.9\n",
      "- long           1    1.7152 133.30 -2174.7\n",
      "- elev           1    2.5589 134.15 -2168.0\n",
      "- I(long^2)      1    3.8452 135.43 -2157.9\n",
      "\n",
      "Step:  AIC=-2187.54\n",
      "y ~ temp + I(long^2) + house + elev + long + I(lat^2) + I(bedrooms^2) + \n",
      "    precip + temp:house\n",
      "\n",
      "                Df Sum of Sq    RSS     AIC\n",
      "<none>                       131.70 -2187.5\n",
      "+ bedrooms       1    0.2337 131.47 -2187.4\n",
      "+ long:elev      1    0.1999 131.50 -2187.2\n",
      "+ I(temp^2)      1    0.1111 131.59 -2186.4\n",
      "- precip         1    0.4280 132.13 -2186.1\n",
      "+ elev:house     1    0.0698 131.63 -2186.1\n",
      "+ NPP            1    0.0613 131.64 -2186.0\n",
      "+ precip:house   1    0.0365 131.66 -2185.8\n",
      "+ precip:elev    1    0.0220 131.68 -2185.7\n",
      "+ long:house     1    0.0187 131.68 -2185.7\n",
      "+ I(elev^2)      1    0.0187 131.68 -2185.7\n",
      "+ lat            1    0.0116 131.69 -2185.6\n",
      "+ I(precip^2)    1    0.0037 131.70 -2185.6\n",
      "+ temp:precip    1    0.0031 131.70 -2185.6\n",
      "+ temp:elev      1    0.0004 131.70 -2185.6\n",
      "+ long:temp      1    0.0001 131.70 -2185.5\n",
      "+ I(NPP^2)       1    0.0000 131.70 -2185.5\n",
      "+ long:precip    1    0.0000 131.70 -2185.5\n",
      "- I(bedrooms^2)  1    0.5109 132.21 -2185.4\n",
      "- temp:house     1    0.8854 132.59 -2182.4\n",
      "- long           1    2.0109 133.71 -2173.5\n",
      "- elev           1    3.2299 134.93 -2163.9\n",
      "- I(long^2)      1    3.7341 135.43 -2159.9\n",
      "- I(lat^2)       1    3.8810 135.58 -2158.8\n"
     ]
    }
   ],
   "source": [
    "# Select from homes.ols.03 features\n",
    "homes.ols.forward = step(ls0,'~(long+lat+temp+precip+NPP+elev+house+bedrooms)^2+I(long^2)+I(lat^2)+I(temp^2)+I(precip^2)+I(NPP^2)+I(elev^2)+I(bedrooms^2)')"
   ]
  },
  {
   "cell_type": "markdown",
   "metadata": {},
   "source": [
    "#### Summary of the ols forward selection model"
   ]
  },
  {
   "cell_type": "code",
   "execution_count": 45,
   "metadata": {},
   "outputs": [
    {
     "data": {
      "text/plain": [
       "\n",
       "Call:\n",
       "lm(formula = y ~ temp + I(long^2) + house + elev + long + I(lat^2) + \n",
       "    I(bedrooms^2) + precip + temp:house, data = homes)\n",
       "\n",
       "Residuals:\n",
       "     Min       1Q   Median       3Q      Max \n",
       "-2.27687 -0.16751  0.08198  0.24444  0.58225 \n",
       "\n",
       "Coefficients:\n",
       "               Estimate Std. Error t value Pr(>|t|)    \n",
       "(Intercept)    6.141898   0.023464 261.758  < 2e-16 ***\n",
       "temp          -0.117101   0.013058  -8.968  < 2e-16 ***\n",
       "I(long^2)     -0.084315   0.015460  -5.454 6.15e-08 ***\n",
       "house          0.028975   0.011425   2.536  0.01135 *  \n",
       "elev          -0.075920   0.014968  -5.072 4.65e-07 ***\n",
       "long          -0.098944   0.024723  -4.002 6.72e-05 ***\n",
       "I(lat^2)      -0.051137   0.009197  -5.560 3.42e-08 ***\n",
       "I(bedrooms^2) -0.017746   0.008797  -2.017  0.04391 *  \n",
       "precip         0.030241   0.016379   1.846  0.06512 .  \n",
       "temp:house     0.030932   0.011648   2.656  0.00804 ** \n",
       "---\n",
       "Signif. codes:  0 '***' 0.001 '**' 0.01 '*' 0.05 '.' 0.1 ' ' 1\n",
       "\n",
       "Residual standard error: 0.3543 on 1049 degrees of freedom\n",
       "Multiple R-squared:  0.1319,\tAdjusted R-squared:  0.1244 \n",
       "F-statistic:  17.7 on 9 and 1049 DF,  p-value: < 2.2e-16\n"
      ]
     },
     "metadata": {},
     "output_type": "display_data"
    }
   ],
   "source": [
    "summary(homes.ols.forward)"
   ]
  },
  {
   "cell_type": "markdown",
   "metadata": {},
   "source": [
    "#### Variance Inflation Factor of OLS with forward selection"
   ]
  },
  {
   "cell_type": "code",
   "execution_count": 46,
   "metadata": {},
   "outputs": [
    {
     "data": {
      "text/html": [
       "<dl class=dl-horizontal>\n",
       "\t<dt>temp</dt>\n",
       "\t\t<dd>1.4</dd>\n",
       "\t<dt>I(long^2)</dt>\n",
       "\t\t<dd>3.3</dd>\n",
       "\t<dt>house</dt>\n",
       "\t\t<dd>1.1</dd>\n",
       "\t<dt>elev</dt>\n",
       "\t\t<dd>1.9</dd>\n",
       "\t<dt>long</dt>\n",
       "\t\t<dd>5.2</dd>\n",
       "\t<dt>I(lat^2)</dt>\n",
       "\t\t<dd>1.3</dd>\n",
       "\t<dt>I(bedrooms^2)</dt>\n",
       "\t\t<dd>1.1</dd>\n",
       "\t<dt>precip</dt>\n",
       "\t\t<dd>2.3</dd>\n",
       "\t<dt>temp:house</dt>\n",
       "\t\t<dd>1</dd>\n",
       "</dl>\n"
      ],
      "text/latex": [
       "\\begin{description*}\n",
       "\\item[temp] 1.4\n",
       "\\item[I(long\\textbackslash{}textasciicircum\\{\\}2)] 3.3\n",
       "\\item[house] 1.1\n",
       "\\item[elev] 1.9\n",
       "\\item[long] 5.2\n",
       "\\item[I(lat\\textbackslash{}textasciicircum\\{\\}2)] 1.3\n",
       "\\item[I(bedrooms\\textbackslash{}textasciicircum\\{\\}2)] 1.1\n",
       "\\item[precip] 2.3\n",
       "\\item[temp:house] 1\n",
       "\\end{description*}\n"
      ],
      "text/markdown": [
       "temp\n",
       ":   1.4I(long^2)\n",
       ":   3.3house\n",
       ":   1.1elev\n",
       ":   1.9long\n",
       ":   5.2I(lat^2)\n",
       ":   1.3I(bedrooms^2)\n",
       ":   1.1precip\n",
       ":   2.3temp:house\n",
       ":   1\n",
       "\n"
      ],
      "text/plain": [
       "         temp     I(long^2)         house          elev          long \n",
       "          1.4           3.3           1.1           1.9           5.2 \n",
       "     I(lat^2) I(bedrooms^2)        precip    temp:house \n",
       "          1.3           1.1           2.3           1.0 "
      ]
     },
     "metadata": {},
     "output_type": "display_data"
    }
   ],
   "source": [
    "round(vif(homes.ols.forward),1)"
   ]
  },
  {
   "cell_type": "markdown",
   "metadata": {},
   "source": [
    "The resultant model for forward selection is: **y ~ temp + I(long^2) + house + elev + long + I(lat^2) + I(bedrooms^2) + precip + temp:house**"
   ]
  },
  {
   "cell_type": "markdown",
   "metadata": {},
   "source": [
    "##### Backwards selection"
   ]
  },
  {
   "cell_type": "markdown",
   "metadata": {},
   "source": [
    "We also can do the opposite procedure and start with a model with all the features, and step by step remove the bad ones. This may be computationally slower, and for some models with a lot of features it would not be very recommendable."
   ]
  },
  {
   "cell_type": "code",
   "execution_count": 47,
   "metadata": {},
   "outputs": [
    {
     "name": "stdout",
     "output_type": "stream",
     "text": [
      "Start:  AIC=-2153.59\n",
      "y ~ (long + lat + temp + precip + NPP + elev + house + bedrooms)^2 + \n",
      "    I(long^2) + I(lat^2) + I(temp^2) + I(precip^2) + I(NPP^2) + \n",
      "    I(elev^2) + I(bedrooms^2)\n",
      "\n",
      "                  Df Sum of Sq    RSS     AIC\n",
      "- house:bedrooms   1   0.00012 127.53 -2155.6\n",
      "- lat:elev         1   0.00012 127.53 -2155.6\n",
      "- NPP:house        1   0.00096 127.53 -2155.6\n",
      "- long:temp        1   0.00132 127.53 -2155.6\n",
      "- I(lat^2)         1   0.00323 127.54 -2155.6\n",
      "- temp:elev        1   0.00616 127.54 -2155.5\n",
      "- long:lat         1   0.00714 127.54 -2155.5\n",
      "- long:house       1   0.01293 127.55 -2155.5\n",
      "- long:bedrooms    1   0.01456 127.55 -2155.5\n",
      "- elev:house       1   0.01867 127.55 -2155.4\n",
      "- elev:bedrooms    1   0.02018 127.55 -2155.4\n",
      "- I(temp^2)        1   0.02032 127.55 -2155.4\n",
      "- lat:house        1   0.02938 127.56 -2155.3\n",
      "- long:elev        1   0.03501 127.57 -2155.3\n",
      "- NPP:elev         1   0.03731 127.57 -2155.3\n",
      "- precip:house     1   0.03814 127.57 -2155.3\n",
      "- lat:temp         1   0.04404 127.58 -2155.2\n",
      "- I(elev^2)        1   0.05153 127.58 -2155.2\n",
      "- lat:bedrooms     1   0.05433 127.59 -2155.1\n",
      "- precip:bedrooms  1   0.13689 127.67 -2154.5\n",
      "- temp:bedrooms    1   0.20063 127.73 -2153.9\n",
      "- lat:NPP          1   0.23750 127.77 -2153.6\n",
      "<none>                         127.53 -2153.6\n",
      "- temp:house       1   0.24553 127.78 -2153.6\n",
      "- long:precip      1   0.25292 127.79 -2153.5\n",
      "- precip:elev      1   0.28490 127.82 -2153.2\n",
      "- lat:precip       1   0.29065 127.82 -2153.2\n",
      "- I(NPP^2)         1   0.35802 127.89 -2152.6\n",
      "- temp:precip      1   0.39534 127.93 -2152.3\n",
      "- I(bedrooms^2)    1   0.42766 127.96 -2152.1\n",
      "- NPP:bedrooms     1   0.43195 127.97 -2152.0\n",
      "- temp:NPP         1   0.43294 127.97 -2152.0\n",
      "- long:NPP         1   0.49913 128.03 -2151.5\n",
      "- I(long^2)        1   0.63685 128.17 -2150.3\n",
      "- I(precip^2)      1   1.08250 128.62 -2146.6\n",
      "- precip:NPP       1   1.39619 128.93 -2144.1\n",
      "\n",
      "Step:  AIC=-2155.59\n",
      "y ~ long + lat + temp + precip + NPP + elev + house + bedrooms + \n",
      "    I(long^2) + I(lat^2) + I(temp^2) + I(precip^2) + I(NPP^2) + \n",
      "    I(elev^2) + I(bedrooms^2) + long:lat + long:temp + long:precip + \n",
      "    long:NPP + long:elev + long:house + long:bedrooms + lat:temp + \n",
      "    lat:precip + lat:NPP + lat:elev + lat:house + lat:bedrooms + \n",
      "    temp:precip + temp:NPP + temp:elev + temp:house + temp:bedrooms + \n",
      "    precip:NPP + precip:elev + precip:house + precip:bedrooms + \n",
      "    NPP:elev + NPP:house + NPP:bedrooms + elev:house + elev:bedrooms\n",
      "\n",
      "                  Df Sum of Sq    RSS     AIC\n",
      "- lat:elev         1   0.00013 127.53 -2157.6\n",
      "- NPP:house        1   0.00096 127.53 -2157.6\n",
      "- long:temp        1   0.00131 127.53 -2157.6\n",
      "- I(lat^2)         1   0.00322 127.54 -2157.6\n",
      "- temp:elev        1   0.00618 127.54 -2157.5\n",
      "- long:lat         1   0.00712 127.54 -2157.5\n",
      "- long:house       1   0.01329 127.55 -2157.5\n",
      "- long:bedrooms    1   0.01484 127.55 -2157.5\n",
      "- elev:house       1   0.01882 127.55 -2157.4\n",
      "- I(temp^2)        1   0.02029 127.55 -2157.4\n",
      "- elev:bedrooms    1   0.02073 127.55 -2157.4\n",
      "- lat:house        1   0.02948 127.56 -2157.3\n",
      "- long:elev        1   0.03503 127.57 -2157.3\n",
      "- NPP:elev         1   0.03731 127.57 -2157.3\n",
      "- precip:house     1   0.03876 127.57 -2157.3\n",
      "- lat:temp         1   0.04399 127.58 -2157.2\n",
      "- I(elev^2)        1   0.05165 127.58 -2157.2\n",
      "- lat:bedrooms     1   0.05449 127.59 -2157.1\n",
      "- precip:bedrooms  1   0.13958 127.67 -2156.4\n",
      "- temp:bedrooms    1   0.20084 127.73 -2155.9\n",
      "- lat:NPP          1   0.23806 127.77 -2155.6\n",
      "<none>                         127.53 -2155.6\n",
      "- temp:house       1   0.24575 127.78 -2155.6\n",
      "- long:precip      1   0.25284 127.79 -2155.5\n",
      "- precip:elev      1   0.28487 127.82 -2155.2\n",
      "- lat:precip       1   0.29112 127.82 -2155.2\n",
      "- I(NPP^2)         1   0.35790 127.89 -2154.6\n",
      "- temp:precip      1   0.39642 127.93 -2154.3\n",
      "- NPP:bedrooms     1   0.43306 127.97 -2154.0\n",
      "- temp:NPP         1   0.43448 127.97 -2154.0\n",
      "- long:NPP         1   0.49924 128.03 -2153.4\n",
      "- I(bedrooms^2)    1   0.62675 128.16 -2152.4\n",
      "- I(long^2)        1   0.63674 128.17 -2152.3\n",
      "- I(precip^2)      1   1.08268 128.62 -2148.6\n",
      "- precip:NPP       1   1.39697 128.93 -2146.1\n",
      "\n",
      "Step:  AIC=-2157.59\n",
      "y ~ long + lat + temp + precip + NPP + elev + house + bedrooms + \n",
      "    I(long^2) + I(lat^2) + I(temp^2) + I(precip^2) + I(NPP^2) + \n",
      "    I(elev^2) + I(bedrooms^2) + long:lat + long:temp + long:precip + \n",
      "    long:NPP + long:elev + long:house + long:bedrooms + lat:temp + \n",
      "    lat:precip + lat:NPP + lat:house + lat:bedrooms + temp:precip + \n",
      "    temp:NPP + temp:elev + temp:house + temp:bedrooms + precip:NPP + \n",
      "    precip:elev + precip:house + precip:bedrooms + NPP:elev + \n",
      "    NPP:house + NPP:bedrooms + elev:house + elev:bedrooms\n",
      "\n",
      "                  Df Sum of Sq    RSS     AIC\n",
      "- NPP:house        1   0.00097 127.53 -2159.6\n",
      "- long:temp        1   0.00248 127.53 -2159.6\n",
      "- long:lat         1   0.01047 127.54 -2159.5\n",
      "- I(lat^2)         1   0.01279 127.55 -2159.5\n",
      "- long:house       1   0.01357 127.55 -2159.5\n",
      "- long:bedrooms    1   0.01493 127.55 -2159.5\n",
      "- elev:house       1   0.01874 127.55 -2159.4\n",
      "- elev:bedrooms    1   0.02068 127.55 -2159.4\n",
      "- lat:house        1   0.02940 127.56 -2159.3\n",
      "- precip:house     1   0.03886 127.57 -2159.3\n",
      "- NPP:elev         1   0.03935 127.57 -2159.3\n",
      "- long:elev        1   0.05417 127.59 -2159.1\n",
      "- lat:bedrooms     1   0.05438 127.59 -2159.1\n",
      "- temp:elev        1   0.05718 127.59 -2159.1\n",
      "- I(temp^2)        1   0.08893 127.62 -2158.8\n",
      "- precip:bedrooms  1   0.14017 127.67 -2158.4\n",
      "- I(elev^2)        1   0.14660 127.68 -2158.4\n",
      "- temp:bedrooms    1   0.20097 127.73 -2157.9\n",
      "- lat:temp         1   0.20898 127.74 -2157.9\n",
      "<none>                         127.53 -2157.6\n",
      "- temp:house       1   0.24732 127.78 -2157.5\n",
      "- lat:NPP          1   0.25255 127.79 -2157.5\n",
      "- long:precip      1   0.26072 127.79 -2157.4\n",
      "- precip:elev      1   0.28480 127.82 -2157.2\n",
      "- lat:precip       1   0.29228 127.83 -2157.2\n",
      "- I(NPP^2)         1   0.35906 127.89 -2156.6\n",
      "- temp:precip      1   0.39680 127.93 -2156.3\n",
      "- NPP:bedrooms     1   0.43396 127.97 -2156.0\n",
      "- temp:NPP         1   0.45576 127.99 -2155.8\n",
      "- long:NPP         1   0.53382 128.07 -2155.2\n",
      "- I(bedrooms^2)    1   0.62690 128.16 -2154.4\n",
      "- I(long^2)        1   0.66561 128.20 -2154.1\n",
      "- I(precip^2)      1   1.08356 128.62 -2150.6\n",
      "- precip:NPP       1   1.39784 128.93 -2148.1\n",
      "\n",
      "Step:  AIC=-2159.58\n",
      "y ~ long + lat + temp + precip + NPP + elev + house + bedrooms + \n",
      "    I(long^2) + I(lat^2) + I(temp^2) + I(precip^2) + I(NPP^2) + \n",
      "    I(elev^2) + I(bedrooms^2) + long:lat + long:temp + long:precip + \n",
      "    long:NPP + long:elev + long:house + long:bedrooms + lat:temp + \n",
      "    lat:precip + lat:NPP + lat:house + lat:bedrooms + temp:precip + \n",
      "    temp:NPP + temp:elev + temp:house + temp:bedrooms + precip:NPP + \n",
      "    precip:elev + precip:house + precip:bedrooms + NPP:elev + \n",
      "    NPP:bedrooms + elev:house + elev:bedrooms\n",
      "\n",
      "                  Df Sum of Sq    RSS     AIC\n",
      "- long:temp        1   0.00254 127.54 -2161.6\n",
      "- long:lat         1   0.01070 127.55 -2161.5\n",
      "- long:house       1   0.01272 127.55 -2161.5\n",
      "- I(lat^2)         1   0.01314 127.55 -2161.5\n",
      "- long:bedrooms    1   0.01433 127.55 -2161.5\n",
      "- elev:house       1   0.02023 127.55 -2161.4\n",
      "- elev:bedrooms    1   0.02106 127.56 -2161.4\n",
      "- lat:house        1   0.02969 127.56 -2161.3\n",
      "- NPP:elev         1   0.03889 127.57 -2161.3\n",
      "- precip:house     1   0.04484 127.58 -2161.2\n",
      "- long:elev        1   0.05366 127.59 -2161.1\n",
      "- lat:bedrooms     1   0.05455 127.59 -2161.1\n",
      "- temp:elev        1   0.05684 127.59 -2161.1\n",
      "- I(temp^2)        1   0.08884 127.62 -2160.8\n",
      "- I(elev^2)        1   0.14565 127.68 -2160.4\n",
      "- precip:bedrooms  1   0.14877 127.68 -2160.3\n",
      "- temp:bedrooms    1   0.20180 127.74 -2159.9\n",
      "- lat:temp         1   0.20940 127.74 -2159.8\n",
      "<none>                         127.53 -2159.6\n",
      "- temp:house       1   0.24952 127.78 -2159.5\n",
      "- lat:NPP          1   0.25273 127.79 -2159.5\n",
      "- long:precip      1   0.26147 127.80 -2159.4\n",
      "- precip:elev      1   0.28394 127.82 -2159.2\n",
      "- lat:precip       1   0.29365 127.83 -2159.2\n",
      "- I(NPP^2)         1   0.35911 127.89 -2158.6\n",
      "- temp:precip      1   0.39829 127.93 -2158.3\n",
      "- temp:NPP         1   0.45562 127.99 -2157.8\n",
      "- long:NPP         1   0.53321 128.07 -2157.2\n",
      "- NPP:bedrooms     1   0.59537 128.13 -2156.7\n",
      "- I(bedrooms^2)    1   0.62811 128.16 -2156.4\n",
      "- I(long^2)        1   0.66851 128.20 -2156.1\n",
      "- I(precip^2)      1   1.08383 128.62 -2152.6\n",
      "- precip:NPP       1   1.39922 128.93 -2150.0\n",
      "\n",
      "Step:  AIC=-2161.56\n",
      "y ~ long + lat + temp + precip + NPP + elev + house + bedrooms + \n",
      "    I(long^2) + I(lat^2) + I(temp^2) + I(precip^2) + I(NPP^2) + \n",
      "    I(elev^2) + I(bedrooms^2) + long:lat + long:precip + long:NPP + \n",
      "    long:elev + long:house + long:bedrooms + lat:temp + lat:precip + \n",
      "    lat:NPP + lat:house + lat:bedrooms + temp:precip + temp:NPP + \n",
      "    temp:elev + temp:house + temp:bedrooms + precip:NPP + precip:elev + \n",
      "    precip:house + precip:bedrooms + NPP:elev + NPP:bedrooms + \n",
      "    elev:house + elev:bedrooms\n",
      "\n",
      "                  Df Sum of Sq    RSS     AIC\n",
      "- I(lat^2)         1   0.01065 127.55 -2163.5\n",
      "- long:house       1   0.01348 127.55 -2163.4\n",
      "- long:bedrooms    1   0.01499 127.55 -2163.4\n",
      "- long:lat         1   0.01862 127.56 -2163.4\n",
      "- elev:house       1   0.01952 127.56 -2163.4\n",
      "- elev:bedrooms    1   0.02087 127.56 -2163.4\n",
      "- lat:house        1   0.02848 127.56 -2163.3\n",
      "- NPP:elev         1   0.03796 127.57 -2163.2\n",
      "- precip:house     1   0.04497 127.58 -2163.2\n",
      "- lat:bedrooms     1   0.05327 127.59 -2163.1\n",
      "- temp:elev        1   0.06217 127.60 -2163.1\n",
      "- long:elev        1   0.07812 127.61 -2162.9\n",
      "- I(temp^2)        1   0.09418 127.63 -2162.8\n",
      "- I(elev^2)        1   0.14331 127.68 -2162.4\n",
      "- precip:bedrooms  1   0.14941 127.69 -2162.3\n",
      "- temp:bedrooms    1   0.19975 127.74 -2161.9\n",
      "- lat:temp         1   0.22635 127.76 -2161.7\n",
      "<none>                         127.54 -2161.6\n",
      "- temp:house       1   0.24704 127.78 -2161.5\n",
      "- lat:NPP          1   0.25517 127.79 -2161.4\n",
      "- long:precip      1   0.27131 127.81 -2161.3\n",
      "- precip:elev      1   0.31333 127.85 -2161.0\n",
      "- I(NPP^2)         1   0.36036 127.90 -2160.6\n",
      "- lat:precip       1   0.39554 127.93 -2160.3\n",
      "- temp:NPP         1   0.46919 128.01 -2159.7\n",
      "- long:NPP         1   0.54213 128.08 -2159.1\n",
      "- temp:precip      1   0.56979 128.11 -2158.8\n",
      "- NPP:bedrooms     1   0.59519 128.13 -2158.6\n",
      "- I(bedrooms^2)    1   0.62636 128.16 -2158.4\n",
      "- I(long^2)        1   0.83271 128.37 -2156.7\n",
      "- I(precip^2)      1   1.09098 128.63 -2154.5\n",
      "- precip:NPP       1   1.42602 128.96 -2151.8\n",
      "\n",
      "Step:  AIC=-2163.47\n",
      "y ~ long + lat + temp + precip + NPP + elev + house + bedrooms + \n",
      "    I(long^2) + I(temp^2) + I(precip^2) + I(NPP^2) + I(elev^2) + \n",
      "    I(bedrooms^2) + long:lat + long:precip + long:NPP + long:elev + \n",
      "    long:house + long:bedrooms + lat:temp + lat:precip + lat:NPP + \n",
      "    lat:house + lat:bedrooms + temp:precip + temp:NPP + temp:elev + \n",
      "    temp:house + temp:bedrooms + precip:NPP + precip:elev + precip:house + \n",
      "    precip:bedrooms + NPP:elev + NPP:bedrooms + elev:house + \n",
      "    elev:bedrooms\n",
      "\n",
      "                  Df Sum of Sq    RSS     AIC\n",
      "- long:lat         1   0.01136 127.56 -2165.4\n",
      "- long:house       1   0.01293 127.56 -2165.4\n",
      "- long:bedrooms    1   0.01663 127.56 -2165.3\n",
      "- elev:house       1   0.01827 127.56 -2165.3\n",
      "- elev:bedrooms    1   0.02059 127.57 -2165.3\n",
      "- lat:house        1   0.02833 127.58 -2165.2\n",
      "- precip:house     1   0.04139 127.59 -2165.1\n",
      "- lat:bedrooms     1   0.04985 127.60 -2165.1\n",
      "- temp:elev        1   0.05203 127.60 -2165.0\n",
      "- NPP:elev         1   0.06441 127.61 -2164.9\n",
      "- I(temp^2)        1   0.08434 127.63 -2164.8\n",
      "- long:elev        1   0.09453 127.64 -2164.7\n",
      "- I(elev^2)        1   0.13580 127.68 -2164.3\n",
      "- precip:bedrooms  1   0.15014 127.70 -2164.2\n",
      "- temp:bedrooms    1   0.19353 127.74 -2163.9\n",
      "<none>                         127.55 -2163.5\n",
      "- temp:house       1   0.24636 127.79 -2163.4\n",
      "- long:precip      1   0.26079 127.81 -2163.3\n",
      "- precip:elev      1   0.31365 127.86 -2162.9\n",
      "- lat:NPP          1   0.35982 127.91 -2162.5\n",
      "- I(NPP^2)         1   0.36397 127.91 -2162.5\n",
      "- lat:precip       1   0.39115 127.94 -2162.2\n",
      "- lat:temp         1   0.45089 128.00 -2161.7\n",
      "- long:NPP         1   0.55576 128.10 -2160.9\n",
      "- temp:precip      1   0.56366 128.11 -2160.8\n",
      "- temp:NPP         1   0.57113 128.12 -2160.7\n",
      "- NPP:bedrooms     1   0.59206 128.14 -2160.6\n",
      "- I(bedrooms^2)    1   0.62185 128.17 -2160.3\n",
      "- I(long^2)        1   0.82419 128.37 -2158.7\n",
      "- I(precip^2)      1   1.08034 128.63 -2156.5\n",
      "- precip:NPP       1   1.42584 128.97 -2153.7\n",
      "\n",
      "Step:  AIC=-2165.38\n",
      "y ~ long + lat + temp + precip + NPP + elev + house + bedrooms + \n",
      "    I(long^2) + I(temp^2) + I(precip^2) + I(NPP^2) + I(elev^2) + \n",
      "    I(bedrooms^2) + long:precip + long:NPP + long:elev + long:house + \n",
      "    long:bedrooms + lat:temp + lat:precip + lat:NPP + lat:house + \n",
      "    lat:bedrooms + temp:precip + temp:NPP + temp:elev + temp:house + \n",
      "    temp:bedrooms + precip:NPP + precip:elev + precip:house + \n",
      "    precip:bedrooms + NPP:elev + NPP:bedrooms + elev:house + \n",
      "    elev:bedrooms\n",
      "\n",
      "                  Df Sum of Sq    RSS     AIC\n",
      "- long:house       1   0.01308 127.57 -2167.3\n",
      "- long:bedrooms    1   0.01504 127.57 -2167.2\n",
      "- elev:house       1   0.01950 127.58 -2167.2\n",
      "- elev:bedrooms    1   0.02083 127.58 -2167.2\n",
      "- lat:house        1   0.03126 127.59 -2167.1\n",
      "- precip:house     1   0.04036 127.60 -2167.0\n",
      "- temp:elev        1   0.04243 127.60 -2167.0\n",
      "- lat:bedrooms     1   0.05310 127.61 -2166.9\n",
      "- NPP:elev         1   0.05570 127.61 -2166.9\n",
      "- long:elev        1   0.08569 127.64 -2166.7\n",
      "- I(temp^2)        1   0.11556 127.67 -2166.4\n",
      "- I(elev^2)        1   0.13019 127.69 -2166.3\n",
      "- precip:bedrooms  1   0.14437 127.70 -2166.2\n",
      "- temp:bedrooms    1   0.19700 127.76 -2165.7\n",
      "<none>                         127.56 -2165.4\n",
      "- temp:house       1   0.25000 127.81 -2165.3\n",
      "- long:precip      1   0.25100 127.81 -2165.3\n",
      "- precip:elev      1   0.30510 127.86 -2164.8\n",
      "- lat:NPP          1   0.34939 127.91 -2164.5\n",
      "- I(NPP^2)         1   0.36977 127.93 -2164.3\n",
      "- lat:precip       1   0.37999 127.94 -2164.2\n",
      "- lat:temp         1   0.53159 128.09 -2163.0\n",
      "- long:NPP         1   0.55474 128.11 -2162.8\n",
      "- temp:precip      1   0.55926 128.12 -2162.8\n",
      "- temp:NPP         1   0.56436 128.12 -2162.7\n",
      "- NPP:bedrooms     1   0.58576 128.14 -2162.5\n",
      "- I(bedrooms^2)    1   0.61209 128.17 -2162.3\n",
      "- I(long^2)        1   0.87107 128.43 -2160.2\n",
      "- I(precip^2)      1   1.08732 128.65 -2158.4\n",
      "- precip:NPP       1   1.45694 129.01 -2155.3\n",
      "\n",
      "Step:  AIC=-2167.27\n",
      "y ~ long + lat + temp + precip + NPP + elev + house + bedrooms + \n",
      "    I(long^2) + I(temp^2) + I(precip^2) + I(NPP^2) + I(elev^2) + \n",
      "    I(bedrooms^2) + long:precip + long:NPP + long:elev + long:bedrooms + \n",
      "    lat:temp + lat:precip + lat:NPP + lat:house + lat:bedrooms + \n",
      "    temp:precip + temp:NPP + temp:elev + temp:house + temp:bedrooms + \n",
      "    precip:NPP + precip:elev + precip:house + precip:bedrooms + \n",
      "    NPP:elev + NPP:bedrooms + elev:house + elev:bedrooms\n",
      "\n",
      "                  Df Sum of Sq    RSS     AIC\n",
      "- long:bedrooms    1   0.00454 127.58 -2169.2\n",
      "- precip:house     1   0.02732 127.60 -2169.0\n",
      "- elev:bedrooms    1   0.03441 127.61 -2169.0\n",
      "- temp:elev        1   0.04209 127.61 -2168.9\n",
      "- elev:house       1   0.04557 127.62 -2168.9\n",
      "- NPP:elev         1   0.05099 127.62 -2168.8\n",
      "- long:elev        1   0.08147 127.65 -2168.6\n",
      "- lat:bedrooms     1   0.08476 127.66 -2168.6\n",
      "- lat:house        1   0.09300 127.67 -2168.5\n",
      "- I(temp^2)        1   0.11369 127.69 -2168.3\n",
      "- I(elev^2)        1   0.12404 127.70 -2168.2\n",
      "- precip:bedrooms  1   0.13129 127.70 -2168.2\n",
      "<none>                         127.57 -2167.3\n",
      "- long:precip      1   0.25431 127.83 -2167.2\n",
      "- temp:bedrooms    1   0.27585 127.85 -2167.0\n",
      "- precip:elev      1   0.29314 127.86 -2166.8\n",
      "- lat:NPP          1   0.34275 127.91 -2166.4\n",
      "- I(NPP^2)         1   0.36709 127.94 -2166.2\n",
      "- lat:precip       1   0.37602 127.95 -2166.2\n",
      "- lat:temp         1   0.53008 128.10 -2164.9\n",
      "- long:NPP         1   0.54572 128.12 -2164.8\n",
      "- temp:house       1   0.54628 128.12 -2164.8\n",
      "- temp:precip      1   0.55204 128.12 -2164.7\n",
      "- temp:NPP         1   0.55464 128.13 -2164.7\n",
      "- NPP:bedrooms     1   0.58676 128.16 -2164.4\n",
      "- I(bedrooms^2)    1   0.61240 128.18 -2164.2\n",
      "- I(long^2)        1   0.87422 128.45 -2162.0\n",
      "- I(precip^2)      1   1.08059 128.65 -2160.3\n",
      "- precip:NPP       1   1.44680 129.02 -2157.3\n",
      "\n",
      "Step:  AIC=-2169.23\n",
      "y ~ long + lat + temp + precip + NPP + elev + house + bedrooms + \n",
      "    I(long^2) + I(temp^2) + I(precip^2) + I(NPP^2) + I(elev^2) + \n",
      "    I(bedrooms^2) + long:precip + long:NPP + long:elev + lat:temp + \n",
      "    lat:precip + lat:NPP + lat:house + lat:bedrooms + temp:precip + \n",
      "    temp:NPP + temp:elev + temp:house + temp:bedrooms + precip:NPP + \n",
      "    precip:elev + precip:house + precip:bedrooms + NPP:elev + \n",
      "    NPP:bedrooms + elev:house + elev:bedrooms\n",
      "\n",
      "                  Df Sum of Sq    RSS     AIC\n",
      "- precip:house     1   0.02880 127.61 -2171.0\n",
      "- temp:elev        1   0.04239 127.62 -2170.9\n",
      "- elev:house       1   0.04581 127.62 -2170.8\n",
      "- NPP:elev         1   0.05072 127.63 -2170.8\n",
      "- elev:bedrooms    1   0.05556 127.63 -2170.8\n",
      "- long:elev        1   0.08562 127.66 -2170.5\n",
      "- lat:house        1   0.09204 127.67 -2170.5\n",
      "- I(temp^2)        1   0.11409 127.69 -2170.3\n",
      "- I(elev^2)        1   0.12493 127.70 -2170.2\n",
      "- precip:bedrooms  1   0.14179 127.72 -2170.1\n",
      "- lat:bedrooms     1   0.14228 127.72 -2170.1\n",
      "<none>                         127.58 -2169.2\n",
      "- long:precip      1   0.25321 127.83 -2169.1\n",
      "- precip:elev      1   0.29792 127.87 -2168.8\n",
      "- lat:NPP          1   0.33919 127.92 -2168.4\n",
      "- I(NPP^2)         1   0.36688 127.94 -2168.2\n",
      "- lat:precip       1   0.37425 127.95 -2168.1\n",
      "- temp:bedrooms    1   0.45513 128.03 -2167.5\n",
      "- lat:temp         1   0.53037 128.11 -2166.8\n",
      "- temp:house       1   0.54268 128.12 -2166.7\n",
      "- long:NPP         1   0.54472 128.12 -2166.7\n",
      "- temp:precip      1   0.55115 128.13 -2166.7\n",
      "- temp:NPP         1   0.55168 128.13 -2166.7\n",
      "- NPP:bedrooms     1   0.58572 128.16 -2166.4\n",
      "- I(bedrooms^2)    1   0.61010 128.19 -2166.2\n",
      "- I(long^2)        1   0.87130 128.45 -2164.0\n",
      "- I(precip^2)      1   1.07607 128.65 -2162.3\n",
      "- precip:NPP       1   1.44903 129.03 -2159.3\n",
      "\n",
      "Step:  AIC=-2170.99\n",
      "y ~ long + lat + temp + precip + NPP + elev + house + bedrooms + \n",
      "    I(long^2) + I(temp^2) + I(precip^2) + I(NPP^2) + I(elev^2) + \n",
      "    I(bedrooms^2) + long:precip + long:NPP + long:elev + lat:temp + \n",
      "    lat:precip + lat:NPP + lat:house + lat:bedrooms + temp:precip + \n",
      "    temp:NPP + temp:elev + temp:house + temp:bedrooms + precip:NPP + \n",
      "    precip:elev + precip:bedrooms + NPP:elev + NPP:bedrooms + \n",
      "    elev:house + elev:bedrooms\n",
      "\n",
      "                  Df Sum of Sq    RSS     AIC\n",
      "- elev:house       1   0.02102 127.63 -2172.8\n",
      "- elev:bedrooms    1   0.03800 127.64 -2172.7\n",
      "- temp:elev        1   0.04858 127.65 -2172.6\n",
      "- NPP:elev         1   0.05155 127.66 -2172.6\n",
      "- lat:house        1   0.07620 127.68 -2172.4\n",
      "- long:elev        1   0.08779 127.69 -2172.3\n",
      "- I(temp^2)        1   0.10298 127.71 -2172.1\n",
      "- precip:bedrooms  1   0.11457 127.72 -2172.0\n",
      "- I(elev^2)        1   0.12168 127.73 -2172.0\n",
      "- lat:bedrooms     1   0.12472 127.73 -2172.0\n",
      "<none>                         127.61 -2171.0\n",
      "- long:precip      1   0.24732 127.85 -2170.9\n",
      "- precip:elev      1   0.27915 127.88 -2170.7\n",
      "- lat:NPP          1   0.34441 127.95 -2170.1\n",
      "- I(NPP^2)         1   0.36216 127.97 -2170.0\n",
      "- lat:precip       1   0.36494 127.97 -2170.0\n",
      "- temp:bedrooms    1   0.43003 128.03 -2169.4\n",
      "- lat:temp         1   0.51116 128.12 -2168.8\n",
      "- temp:house       1   0.51680 128.12 -2168.7\n",
      "- temp:precip      1   0.53812 128.14 -2168.5\n",
      "- long:NPP         1   0.54601 128.15 -2168.5\n",
      "- temp:NPP         1   0.55429 128.16 -2168.4\n",
      "- NPP:bedrooms     1   0.57440 128.18 -2168.2\n",
      "- I(bedrooms^2)    1   0.61552 128.22 -2167.9\n",
      "- I(long^2)        1   0.85133 128.46 -2165.9\n",
      "- I(precip^2)      1   1.06777 128.67 -2164.2\n",
      "- precip:NPP       1   1.42642 129.03 -2161.2\n",
      "\n",
      "Step:  AIC=-2172.82\n",
      "y ~ long + lat + temp + precip + NPP + elev + house + bedrooms + \n",
      "    I(long^2) + I(temp^2) + I(precip^2) + I(NPP^2) + I(elev^2) + \n",
      "    I(bedrooms^2) + long:precip + long:NPP + long:elev + lat:temp + \n",
      "    lat:precip + lat:NPP + lat:house + lat:bedrooms + temp:precip + \n",
      "    temp:NPP + temp:elev + temp:house + temp:bedrooms + precip:NPP + \n",
      "    precip:elev + precip:bedrooms + NPP:elev + NPP:bedrooms + \n",
      "    elev:bedrooms\n",
      "\n",
      "                  Df Sum of Sq    RSS     AIC\n",
      "- elev:bedrooms    1   0.02175 127.65 -2174.6\n",
      "- temp:elev        1   0.04671 127.67 -2174.4\n",
      "- NPP:elev         1   0.04951 127.67 -2174.4\n",
      "- lat:house        1   0.05651 127.68 -2174.3\n",
      "- long:elev        1   0.07795 127.70 -2174.2\n",
      "- I(temp^2)        1   0.10376 127.73 -2174.0\n",
      "- lat:bedrooms     1   0.10521 127.73 -2173.9\n",
      "- precip:bedrooms  1   0.11159 127.74 -2173.9\n",
      "- I(elev^2)        1   0.11968 127.75 -2173.8\n",
      "<none>                         127.63 -2172.8\n",
      "- long:precip      1   0.24971 127.88 -2172.8\n",
      "- precip:elev      1   0.27477 127.90 -2172.5\n",
      "- lat:NPP          1   0.33868 127.97 -2172.0\n",
      "- I(NPP^2)         1   0.35673 127.98 -2171.9\n",
      "- lat:precip       1   0.37045 128.00 -2171.8\n",
      "- temp:bedrooms    1   0.41514 128.04 -2171.4\n",
      "- lat:temp         1   0.50975 128.14 -2170.6\n",
      "- temp:precip      1   0.54791 128.17 -2170.3\n",
      "- temp:NPP         1   0.54882 128.18 -2170.3\n",
      "- long:NPP         1   0.54925 128.18 -2170.3\n",
      "- NPP:bedrooms     1   0.57300 128.20 -2170.1\n",
      "- I(bedrooms^2)    1   0.60939 128.24 -2169.8\n",
      "- temp:house       1   0.72292 128.35 -2168.8\n",
      "- I(long^2)        1   0.85319 128.48 -2167.8\n",
      "- I(precip^2)      1   1.07070 128.70 -2166.0\n",
      "- precip:NPP       1   1.42803 129.05 -2163.0\n",
      "\n",
      "Step:  AIC=-2174.64\n",
      "y ~ long + lat + temp + precip + NPP + elev + house + bedrooms + \n",
      "    I(long^2) + I(temp^2) + I(precip^2) + I(NPP^2) + I(elev^2) + \n",
      "    I(bedrooms^2) + long:precip + long:NPP + long:elev + lat:temp + \n",
      "    lat:precip + lat:NPP + lat:house + lat:bedrooms + temp:precip + \n",
      "    temp:NPP + temp:elev + temp:house + temp:bedrooms + precip:NPP + \n",
      "    precip:elev + precip:bedrooms + NPP:elev + NPP:bedrooms\n",
      "\n",
      "                  Df Sum of Sq    RSS     AIC\n",
      "- temp:elev        1   0.04280 127.69 -2176.3\n",
      "- lat:house        1   0.05262 127.70 -2176.2\n",
      "- NPP:elev         1   0.06435 127.71 -2176.1\n",
      "- long:elev        1   0.07702 127.72 -2176.0\n",
      "- lat:bedrooms     1   0.08381 127.73 -2175.9\n",
      "- precip:bedrooms  1   0.09050 127.74 -2175.9\n",
      "- I(temp^2)        1   0.11599 127.76 -2175.7\n",
      "- I(elev^2)        1   0.12364 127.77 -2175.6\n",
      "<none>                         127.65 -2174.6\n",
      "- long:precip      1   0.24607 127.89 -2174.6\n",
      "- precip:elev      1   0.30795 127.96 -2174.1\n",
      "- I(NPP^2)         1   0.35151 128.00 -2173.7\n",
      "- lat:NPP          1   0.35763 128.00 -2173.7\n",
      "- lat:precip       1   0.37167 128.02 -2173.6\n",
      "- temp:bedrooms    1   0.46371 128.11 -2172.8\n",
      "- lat:temp         1   0.53552 128.18 -2172.2\n",
      "- temp:precip      1   0.55331 128.20 -2172.1\n",
      "- long:NPP         1   0.55621 128.20 -2172.0\n",
      "- temp:NPP         1   0.57661 128.22 -2171.9\n",
      "- I(bedrooms^2)    1   0.60349 128.25 -2171.6\n",
      "- NPP:bedrooms     1   0.60788 128.26 -2171.6\n",
      "- temp:house       1   0.71028 128.36 -2170.8\n",
      "- I(long^2)        1   0.87016 128.52 -2169.4\n",
      "- I(precip^2)      1   1.05809 128.71 -2167.9\n",
      "- precip:NPP       1   1.42771 129.07 -2164.9\n",
      "\n",
      "Step:  AIC=-2176.28\n",
      "y ~ long + lat + temp + precip + NPP + elev + house + bedrooms + \n",
      "    I(long^2) + I(temp^2) + I(precip^2) + I(NPP^2) + I(elev^2) + \n",
      "    I(bedrooms^2) + long:precip + long:NPP + long:elev + lat:temp + \n",
      "    lat:precip + lat:NPP + lat:house + lat:bedrooms + temp:precip + \n",
      "    temp:NPP + temp:house + temp:bedrooms + precip:NPP + precip:elev + \n",
      "    precip:bedrooms + NPP:elev + NPP:bedrooms\n",
      "\n",
      "                  Df Sum of Sq    RSS     AIC\n",
      "- lat:house        1   0.05624 127.75 -2177.8\n",
      "- NPP:elev         1   0.06351 127.75 -2177.8\n",
      "- long:elev        1   0.07139 127.76 -2177.7\n",
      "- I(elev^2)        1   0.08085 127.77 -2177.6\n",
      "- lat:bedrooms     1   0.08949 127.78 -2177.5\n",
      "- precip:bedrooms  1   0.09240 127.78 -2177.5\n",
      "- I(temp^2)        1   0.19698 127.89 -2176.7\n",
      "- long:precip      1   0.23116 127.92 -2176.4\n",
      "<none>                         127.69 -2176.3\n",
      "- precip:elev      1   0.26614 127.96 -2176.1\n",
      "- lat:NPP          1   0.34097 128.03 -2175.5\n",
      "- I(NPP^2)         1   0.34503 128.04 -2175.4\n",
      "- lat:precip       1   0.34958 128.04 -2175.4\n",
      "- temp:bedrooms    1   0.46901 128.16 -2174.4\n",
      "- temp:precip      1   0.51288 128.20 -2174.0\n",
      "- temp:NPP         1   0.57212 128.26 -2173.6\n",
      "- long:NPP         1   0.58409 128.28 -2173.4\n",
      "- NPP:bedrooms     1   0.59717 128.29 -2173.3\n",
      "- I(bedrooms^2)    1   0.60931 128.30 -2173.2\n",
      "- lat:temp         1   0.66053 128.35 -2172.8\n",
      "- temp:house       1   0.70798 128.40 -2172.4\n",
      "- I(long^2)        1   0.86870 128.56 -2171.1\n",
      "- I(precip^2)      1   1.12229 128.81 -2169.0\n",
      "- precip:NPP       1   1.52366 129.21 -2165.7\n",
      "\n",
      "Step:  AIC=-2177.82\n",
      "y ~ long + lat + temp + precip + NPP + elev + house + bedrooms + \n",
      "    I(long^2) + I(temp^2) + I(precip^2) + I(NPP^2) + I(elev^2) + \n",
      "    I(bedrooms^2) + long:precip + long:NPP + long:elev + lat:temp + \n",
      "    lat:precip + lat:NPP + lat:bedrooms + temp:precip + temp:NPP + \n",
      "    temp:house + temp:bedrooms + precip:NPP + precip:elev + precip:bedrooms + \n",
      "    NPP:elev + NPP:bedrooms\n",
      "\n",
      "                  Df Sum of Sq    RSS     AIC\n",
      "- lat:bedrooms     1   0.04254 127.79 -2179.5\n",
      "- long:elev        1   0.06607 127.81 -2179.3\n",
      "- NPP:elev         1   0.07256 127.82 -2179.2\n",
      "- precip:bedrooms  1   0.08444 127.83 -2179.1\n",
      "- I(elev^2)        1   0.09657 127.84 -2179.0\n",
      "- I(temp^2)        1   0.20817 127.95 -2178.1\n",
      "- long:precip      1   0.22783 127.97 -2177.9\n",
      "<none>                         127.75 -2177.8\n",
      "- precip:elev      1   0.29477 128.04 -2177.4\n",
      "- lat:NPP          1   0.32802 128.07 -2177.1\n",
      "- I(NPP^2)         1   0.33291 128.08 -2177.1\n",
      "- lat:precip       1   0.34077 128.09 -2177.0\n",
      "- temp:bedrooms    1   0.41597 128.16 -2176.4\n",
      "- temp:precip      1   0.50977 128.26 -2175.6\n",
      "- temp:NPP         1   0.56654 128.31 -2175.1\n",
      "- long:NPP         1   0.57943 128.33 -2175.0\n",
      "- NPP:bedrooms     1   0.59672 128.34 -2174.9\n",
      "- I(bedrooms^2)    1   0.61682 128.36 -2174.7\n",
      "- lat:temp         1   0.67716 128.42 -2174.2\n",
      "- I(long^2)        1   0.86982 128.62 -2172.6\n",
      "- I(precip^2)      1   1.10544 128.85 -2170.7\n",
      "- temp:house       1   1.40510 129.15 -2168.2\n",
      "- precip:NPP       1   1.51068 129.26 -2167.4\n",
      "\n",
      "Step:  AIC=-2179.46\n",
      "y ~ long + lat + temp + precip + NPP + elev + house + bedrooms + \n",
      "    I(long^2) + I(temp^2) + I(precip^2) + I(NPP^2) + I(elev^2) + \n",
      "    I(bedrooms^2) + long:precip + long:NPP + long:elev + lat:temp + \n",
      "    lat:precip + lat:NPP + temp:precip + temp:NPP + temp:house + \n",
      "    temp:bedrooms + precip:NPP + precip:elev + precip:bedrooms + \n",
      "    NPP:elev + NPP:bedrooms\n",
      "\n",
      "                  Df Sum of Sq    RSS     AIC\n",
      "- NPP:elev         1   0.06918 127.86 -2180.9\n",
      "- precip:bedrooms  1   0.07784 127.87 -2180.8\n",
      "- long:elev        1   0.08214 127.87 -2180.8\n",
      "- I(elev^2)        1   0.09520 127.88 -2180.7\n",
      "- I(temp^2)        1   0.19961 127.99 -2179.8\n",
      "- long:precip      1   0.22463 128.01 -2179.6\n",
      "<none>                         127.79 -2179.5\n",
      "- precip:elev      1   0.29420 128.08 -2179.0\n",
      "- lat:NPP          1   0.32942 128.12 -2178.7\n",
      "- lat:precip       1   0.34088 128.13 -2178.6\n",
      "- I(NPP^2)         1   0.34483 128.13 -2178.6\n",
      "- temp:precip      1   0.51226 128.30 -2177.2\n",
      "- NPP:bedrooms     1   0.55627 128.35 -2176.9\n",
      "- temp:NPP         1   0.57160 128.36 -2176.7\n",
      "- long:NPP         1   0.59284 128.38 -2176.6\n",
      "- I(bedrooms^2)    1   0.63490 128.42 -2176.2\n",
      "- lat:temp         1   0.66009 128.45 -2176.0\n",
      "- temp:bedrooms    1   0.67539 128.47 -2175.9\n",
      "- I(long^2)        1   0.86808 128.66 -2174.3\n",
      "- I(precip^2)      1   1.11715 128.91 -2172.2\n",
      "- temp:house       1   1.43060 129.22 -2169.7\n",
      "- precip:NPP       1   1.54916 129.34 -2168.7\n",
      "\n",
      "Step:  AIC=-2180.89\n",
      "y ~ long + lat + temp + precip + NPP + elev + house + bedrooms + \n",
      "    I(long^2) + I(temp^2) + I(precip^2) + I(NPP^2) + I(elev^2) + \n",
      "    I(bedrooms^2) + long:precip + long:NPP + long:elev + lat:temp + \n",
      "    lat:precip + lat:NPP + temp:precip + temp:NPP + temp:house + \n",
      "    temp:bedrooms + precip:NPP + precip:elev + precip:bedrooms + \n",
      "    NPP:bedrooms\n",
      "\n",
      "                  Df Sum of Sq    RSS     AIC\n",
      "- precip:bedrooms  1   0.07860 127.94 -2182.2\n",
      "- long:elev        1   0.08273 127.94 -2182.2\n",
      "- I(elev^2)        1   0.11232 127.97 -2182.0\n",
      "- long:precip      1   0.18523 128.04 -2181.4\n",
      "- I(temp^2)        1   0.20518 128.06 -2181.2\n",
      "- precip:elev      1   0.23755 128.10 -2180.9\n",
      "<none>                         127.86 -2180.9\n",
      "- lat:NPP          1   0.26511 128.12 -2180.7\n",
      "- lat:precip       1   0.27654 128.13 -2180.6\n",
      "- I(NPP^2)         1   0.30299 128.16 -2180.4\n",
      "- temp:precip      1   0.44372 128.30 -2179.2\n",
      "- long:NPP         1   0.52418 128.38 -2178.6\n",
      "- temp:NPP         1   0.56268 128.42 -2178.2\n",
      "- NPP:bedrooms     1   0.58959 128.45 -2178.0\n",
      "- I(bedrooms^2)    1   0.64002 128.50 -2177.6\n",
      "- temp:bedrooms    1   0.64886 128.51 -2177.5\n",
      "- lat:temp         1   0.67528 128.53 -2177.3\n",
      "- I(long^2)        1   0.96686 128.82 -2174.9\n",
      "- I(precip^2)      1   1.07804 128.94 -2174.0\n",
      "- temp:house       1   1.42847 129.29 -2171.1\n",
      "- precip:NPP       1   1.50839 129.37 -2170.5\n",
      "\n",
      "Step:  AIC=-2182.24\n",
      "y ~ long + lat + temp + precip + NPP + elev + house + bedrooms + \n",
      "    I(long^2) + I(temp^2) + I(precip^2) + I(NPP^2) + I(elev^2) + \n",
      "    I(bedrooms^2) + long:precip + long:NPP + long:elev + lat:temp + \n",
      "    lat:precip + lat:NPP + temp:precip + temp:NPP + temp:house + \n",
      "    temp:bedrooms + precip:NPP + precip:elev + NPP:bedrooms\n",
      "\n",
      "                Df Sum of Sq    RSS     AIC\n",
      "- long:elev      1   0.09149 128.03 -2183.5\n",
      "- I(elev^2)      1   0.12414 128.06 -2183.2\n",
      "- long:precip    1   0.18311 128.12 -2182.7\n",
      "- I(temp^2)      1   0.21255 128.15 -2182.5\n",
      "<none>                       127.94 -2182.2\n",
      "- lat:NPP        1   0.25240 128.19 -2182.2\n",
      "- precip:elev    1   0.25339 128.19 -2182.2\n",
      "- lat:precip     1   0.26623 128.20 -2182.0\n",
      "- I(NPP^2)       1   0.31355 128.25 -2181.7\n",
      "- temp:precip    1   0.42902 128.37 -2180.7\n",
      "- temp:NPP       1   0.54648 128.48 -2179.7\n",
      "- long:NPP       1   0.54650 128.48 -2179.7\n",
      "- NPP:bedrooms   1   0.56038 128.50 -2179.6\n",
      "- I(bedrooms^2)  1   0.65766 128.59 -2178.8\n",
      "- lat:temp       1   0.68221 128.62 -2178.6\n",
      "- temp:bedrooms  1   0.69250 128.63 -2178.5\n",
      "- I(long^2)      1   0.96010 128.90 -2176.3\n",
      "- I(precip^2)    1   1.07046 129.01 -2175.4\n",
      "- temp:house     1   1.40558 129.34 -2172.7\n",
      "- precip:NPP     1   1.53690 129.47 -2171.6\n",
      "\n",
      "Step:  AIC=-2183.48\n",
      "y ~ long + lat + temp + precip + NPP + elev + house + bedrooms + \n",
      "    I(long^2) + I(temp^2) + I(precip^2) + I(NPP^2) + I(elev^2) + \n",
      "    I(bedrooms^2) + long:precip + long:NPP + lat:temp + lat:precip + \n",
      "    lat:NPP + temp:precip + temp:NPP + temp:house + temp:bedrooms + \n",
      "    precip:NPP + precip:elev + NPP:bedrooms\n",
      "\n",
      "                Df Sum of Sq    RSS     AIC\n",
      "- I(elev^2)      1   0.14383 128.17 -2184.3\n",
      "- precip:elev    1   0.18710 128.22 -2183.9\n",
      "- long:precip    1   0.19732 128.23 -2183.8\n",
      "<none>                       128.03 -2183.5\n",
      "- I(temp^2)      1   0.25847 128.29 -2183.3\n",
      "- lat:NPP        1   0.26861 128.30 -2183.3\n",
      "- lat:precip     1   0.28851 128.32 -2183.1\n",
      "- I(NPP^2)       1   0.29530 128.32 -2183.0\n",
      "- temp:precip    1   0.45260 128.48 -2181.8\n",
      "- long:NPP       1   0.47837 128.51 -2181.5\n",
      "- temp:NPP       1   0.54266 128.57 -2181.0\n",
      "- NPP:bedrooms   1   0.56662 128.59 -2180.8\n",
      "- I(bedrooms^2)  1   0.65929 128.69 -2180.0\n",
      "- temp:bedrooms  1   0.70914 128.74 -2179.6\n",
      "- lat:temp       1   0.78908 128.82 -2179.0\n",
      "- I(precip^2)    1   1.05170 129.08 -2176.8\n",
      "- I(long^2)      1   1.16185 129.19 -2175.9\n",
      "- temp:house     1   1.41281 129.44 -2173.9\n",
      "- precip:NPP     1   1.47461 129.50 -2173.4\n",
      "\n",
      "Step:  AIC=-2184.29\n",
      "y ~ long + lat + temp + precip + NPP + elev + house + bedrooms + \n",
      "    I(long^2) + I(temp^2) + I(precip^2) + I(NPP^2) + I(bedrooms^2) + \n",
      "    long:precip + long:NPP + lat:temp + lat:precip + lat:NPP + \n",
      "    temp:precip + temp:NPP + temp:house + temp:bedrooms + precip:NPP + \n",
      "    precip:elev + NPP:bedrooms\n",
      "\n",
      "                Df Sum of Sq    RSS     AIC\n",
      "- precip:elev    1   0.09736 128.27 -2185.5\n",
      "- I(temp^2)      1   0.11513 128.29 -2185.3\n",
      "- lat:NPP        1   0.21219 128.38 -2184.5\n",
      "- long:precip    1   0.23660 128.41 -2184.3\n",
      "<none>                       128.17 -2184.3\n",
      "- I(NPP^2)       1   0.33868 128.51 -2183.5\n",
      "- lat:precip     1   0.35973 128.53 -2183.3\n",
      "- temp:NPP       1   0.44736 128.62 -2182.6\n",
      "- long:NPP       1   0.49426 128.67 -2182.2\n",
      "- temp:precip    1   0.53512 128.71 -2181.9\n",
      "- NPP:bedrooms   1   0.59588 128.77 -2181.4\n",
      "- I(bedrooms^2)  1   0.67428 128.85 -2180.7\n",
      "- lat:temp       1   0.72734 128.90 -2180.3\n",
      "- temp:bedrooms  1   0.75979 128.93 -2180.0\n",
      "- I(precip^2)    1   1.02541 129.20 -2177.9\n",
      "- I(long^2)      1   1.22484 129.40 -2176.2\n",
      "- precip:NPP     1   1.39554 129.57 -2174.8\n",
      "- temp:house     1   1.45301 129.62 -2174.4\n",
      "\n",
      "Step:  AIC=-2185.49\n",
      "y ~ long + lat + temp + precip + NPP + elev + house + bedrooms + \n",
      "    I(long^2) + I(temp^2) + I(precip^2) + I(NPP^2) + I(bedrooms^2) + \n",
      "    long:precip + long:NPP + lat:temp + lat:precip + lat:NPP + \n",
      "    temp:precip + temp:NPP + temp:house + temp:bedrooms + precip:NPP + \n",
      "    NPP:bedrooms\n",
      "\n",
      "                Df Sum of Sq    RSS     AIC\n",
      "- I(temp^2)      1   0.13850 128.41 -2186.3\n",
      "- long:precip    1   0.16766 128.44 -2186.1\n",
      "- lat:NPP        1   0.20093 128.47 -2185.8\n",
      "<none>                       128.27 -2185.5\n",
      "- lat:precip     1   0.26243 128.53 -2185.3\n",
      "- I(NPP^2)       1   0.35277 128.62 -2184.6\n",
      "- temp:NPP       1   0.40854 128.68 -2184.1\n",
      "- long:NPP       1   0.45446 128.72 -2183.8\n",
      "- temp:precip    1   0.47654 128.75 -2183.6\n",
      "- elev           1   0.51832 128.79 -2183.2\n",
      "- NPP:bedrooms   1   0.57709 128.85 -2182.7\n",
      "- I(bedrooms^2)  1   0.67058 128.94 -2182.0\n",
      "- temp:bedrooms  1   0.76703 129.04 -2181.2\n",
      "- lat:temp       1   0.76814 129.04 -2181.2\n",
      "- I(precip^2)    1   0.99317 129.26 -2179.3\n",
      "- I(long^2)      1   1.15038 129.42 -2178.0\n",
      "- precip:NPP     1   1.30028 129.57 -2176.8\n",
      "- temp:house     1   1.48506 129.75 -2175.3\n",
      "\n",
      "Step:  AIC=-2186.35\n",
      "y ~ long + lat + temp + precip + NPP + elev + house + bedrooms + \n",
      "    I(long^2) + I(precip^2) + I(NPP^2) + I(bedrooms^2) + long:precip + \n",
      "    long:NPP + lat:temp + lat:precip + lat:NPP + temp:precip + \n",
      "    temp:NPP + temp:house + temp:bedrooms + precip:NPP + NPP:bedrooms\n",
      "\n",
      "                Df Sum of Sq    RSS     AIC\n",
      "- long:precip    1   0.16233 128.57 -2187.0\n",
      "- lat:NPP        1   0.17982 128.59 -2186.9\n",
      "<none>                       128.41 -2186.3\n",
      "- lat:precip     1   0.24453 128.65 -2186.3\n",
      "- temp:NPP       1   0.38272 128.79 -2185.2\n",
      "- I(NPP^2)       1   0.38692 128.79 -2185.2\n",
      "- elev           1   0.41340 128.82 -2184.9\n",
      "- long:NPP       1   0.45019 128.86 -2184.6\n",
      "- temp:precip    1   0.45520 128.86 -2184.6\n",
      "- NPP:bedrooms   1   0.55809 128.97 -2183.8\n",
      "- I(bedrooms^2)  1   0.65947 129.07 -2182.9\n",
      "- temp:bedrooms  1   0.74624 129.15 -2182.2\n",
      "- I(precip^2)    1   0.96285 129.37 -2180.4\n",
      "- I(long^2)      1   1.10065 129.51 -2179.3\n",
      "- precip:NPP     1   1.33031 129.74 -2177.4\n",
      "- temp:house     1   1.49763 129.91 -2176.1\n",
      "- lat:temp       1   1.59841 130.01 -2175.2\n",
      "\n",
      "Step:  AIC=-2187.01\n",
      "y ~ long + lat + temp + precip + NPP + elev + house + bedrooms + \n",
      "    I(long^2) + I(precip^2) + I(NPP^2) + I(bedrooms^2) + long:NPP + \n",
      "    lat:temp + lat:precip + lat:NPP + temp:precip + temp:NPP + \n",
      "    temp:house + temp:bedrooms + precip:NPP + NPP:bedrooms\n",
      "\n",
      "                Df Sum of Sq    RSS     AIC\n",
      "- lat:NPP        1   0.07472 128.65 -2188.4\n",
      "- lat:precip     1   0.08787 128.66 -2188.3\n",
      "<none>                       128.57 -2187.0\n",
      "- temp:NPP       1   0.25052 128.82 -2186.9\n",
      "- temp:precip    1   0.29755 128.87 -2186.6\n",
      "- long:NPP       1   0.30048 128.87 -2186.5\n",
      "- I(NPP^2)       1   0.34597 128.92 -2186.2\n",
      "- elev           1   0.37921 128.95 -2185.9\n",
      "- NPP:bedrooms   1   0.57849 129.15 -2184.3\n",
      "- I(bedrooms^2)  1   0.67959 129.25 -2183.4\n",
      "- temp:bedrooms  1   0.77790 129.35 -2182.6\n",
      "- I(precip^2)    1   0.80312 129.37 -2182.4\n",
      "- precip:NPP     1   1.17993 129.75 -2179.3\n",
      "- lat:temp       1   1.43639 130.01 -2177.2\n",
      "- temp:house     1   1.53818 130.11 -2176.4\n",
      "- I(long^2)      1   2.72669 131.30 -2166.8\n",
      "\n",
      "Step:  AIC=-2188.39\n",
      "y ~ long + lat + temp + precip + NPP + elev + house + bedrooms + \n",
      "    I(long^2) + I(precip^2) + I(NPP^2) + I(bedrooms^2) + long:NPP + \n",
      "    lat:temp + lat:precip + temp:precip + temp:NPP + temp:house + \n",
      "    temp:bedrooms + precip:NPP + NPP:bedrooms\n",
      "\n",
      "                Df Sum of Sq    RSS     AIC\n",
      "- lat:precip     1   0.01971 128.66 -2190.2\n",
      "- long:NPP       1   0.22867 128.87 -2188.5\n",
      "<none>                       128.65 -2188.4\n",
      "- temp:precip    1   0.24447 128.89 -2188.4\n",
      "- elev           1   0.33715 128.98 -2187.6\n",
      "- temp:NPP       1   0.33785 128.98 -2187.6\n",
      "- I(NPP^2)       1   0.38359 129.03 -2187.2\n",
      "- NPP:bedrooms   1   0.56184 129.21 -2185.8\n",
      "- I(bedrooms^2)  1   0.64666 129.29 -2185.1\n",
      "- I(precip^2)    1   0.73133 129.38 -2184.4\n",
      "- temp:bedrooms  1   0.79599 129.44 -2183.9\n",
      "- precip:NPP     1   1.11646 129.76 -2181.2\n",
      "- lat:temp       1   1.49578 130.14 -2178.2\n",
      "- temp:house     1   1.55519 130.20 -2177.7\n",
      "- I(long^2)      1   2.65244 131.30 -2168.8\n",
      "\n",
      "Step:  AIC=-2190.23\n",
      "y ~ long + lat + temp + precip + NPP + elev + house + bedrooms + \n",
      "    I(long^2) + I(precip^2) + I(NPP^2) + I(bedrooms^2) + long:NPP + \n",
      "    lat:temp + temp:precip + temp:NPP + temp:house + temp:bedrooms + \n",
      "    precip:NPP + NPP:bedrooms\n",
      "\n",
      "                Df Sum of Sq    RSS     AIC\n",
      "<none>                       128.66 -2190.2\n",
      "- long:NPP       1   0.29616 128.96 -2189.8\n",
      "- temp:precip    1   0.30043 128.97 -2189.8\n",
      "- temp:NPP       1   0.32879 128.99 -2189.5\n",
      "- elev           1   0.38084 129.05 -2189.1\n",
      "- I(NPP^2)       1   0.38675 129.05 -2189.1\n",
      "- NPP:bedrooms   1   0.56270 129.23 -2187.6\n",
      "- I(bedrooms^2)  1   0.64039 129.31 -2187.0\n",
      "- I(precip^2)    1   0.73339 129.40 -2186.2\n",
      "- temp:bedrooms  1   0.80426 129.47 -2185.6\n",
      "- precip:NPP     1   1.15743 129.82 -2182.8\n",
      "- lat:temp       1   1.47864 130.14 -2180.1\n",
      "- temp:house     1   1.54656 130.21 -2179.6\n",
      "- I(long^2)      1   2.88725 131.55 -2168.7\n"
     ]
    }
   ],
   "source": [
    "# Start with the model homes.ols.03\n",
    "homes.ols.backwards = step(homes.ols.03)"
   ]
  },
  {
   "cell_type": "markdown",
   "metadata": {},
   "source": [
    "#### Summary of the ols backwards selection model"
   ]
  },
  {
   "cell_type": "code",
   "execution_count": 48,
   "metadata": {},
   "outputs": [
    {
     "data": {
      "text/plain": [
       "\n",
       "Call:\n",
       "lm(formula = y ~ long + lat + temp + precip + NPP + elev + house + \n",
       "    bedrooms + I(long^2) + I(precip^2) + I(NPP^2) + I(bedrooms^2) + \n",
       "    long:NPP + lat:temp + temp:precip + temp:NPP + temp:house + \n",
       "    temp:bedrooms + precip:NPP + NPP:bedrooms, data = homes)\n",
       "\n",
       "Residuals:\n",
       "     Min       1Q   Median       3Q      Max \n",
       "-2.27040 -0.16470  0.08273  0.24125  0.63967 \n",
       "\n",
       "Coefficients:\n",
       "               Estimate Std. Error t value Pr(>|t|)    \n",
       "(Intercept)    6.139748   0.031255 196.441  < 2e-16 ***\n",
       "long          -0.079986   0.030751  -2.601 0.009426 ** \n",
       "lat            0.028438   0.039320   0.723 0.469692    \n",
       "temp          -0.091292   0.041861  -2.181 0.029420 *  \n",
       "precip         0.032484   0.022671   1.433 0.152201    \n",
       "NPP           -0.001615   0.020249  -0.080 0.936430    \n",
       "elev          -0.047784   0.027261  -1.753 0.079927 .  \n",
       "house          0.021307   0.013585   1.568 0.117096    \n",
       "bedrooms       0.014119   0.012996   1.086 0.277549    \n",
       "I(long^2)     -0.102469   0.021232  -4.826  1.6e-06 ***\n",
       "I(precip^2)    0.037416   0.015382   2.432 0.015167 *  \n",
       "I(NPP^2)       0.032004   0.018118   1.766 0.077625 .  \n",
       "I(bedrooms^2) -0.020017   0.008806  -2.273 0.023232 *  \n",
       "long:NPP       0.029536   0.019108   1.546 0.122478    \n",
       "lat:temp       0.044472   0.012876   3.454 0.000575 ***\n",
       "temp:precip   -0.033234   0.021347  -1.557 0.119815    \n",
       "temp:NPP       0.029691   0.018231   1.629 0.103692    \n",
       "temp:house     0.049406   0.013987   3.532 0.000430 ***\n",
       "temp:bedrooms -0.035188   0.013814  -2.547 0.011002 *  \n",
       "precip:NPP    -0.095392   0.031217  -3.056 0.002302 ** \n",
       "NPP:bedrooms   0.024123   0.011322   2.131 0.033354 *  \n",
       "---\n",
       "Signif. codes:  0 '***' 0.001 '**' 0.01 '*' 0.05 '.' 0.1 ' ' 1\n",
       "\n",
       "Residual standard error: 0.3521 on 1038 degrees of freedom\n",
       "Multiple R-squared:  0.1519,\tAdjusted R-squared:  0.1355 \n",
       "F-statistic: 9.294 on 20 and 1038 DF,  p-value: < 2.2e-16\n"
      ]
     },
     "metadata": {},
     "output_type": "display_data"
    }
   ],
   "source": [
    "summary(homes.ols.backwards)"
   ]
  },
  {
   "cell_type": "markdown",
   "metadata": {},
   "source": [
    "#### Variance Inflation Factor of OLS with backwards selection"
   ]
  },
  {
   "cell_type": "code",
   "execution_count": 49,
   "metadata": {},
   "outputs": [
    {
     "data": {
      "text/html": [
       "<dl class=dl-horizontal>\n",
       "\t<dt>long</dt>\n",
       "\t\t<dd>8.1</dd>\n",
       "\t<dt>lat</dt>\n",
       "\t\t<dd>13.2</dd>\n",
       "\t<dt>temp</dt>\n",
       "\t\t<dd>15</dd>\n",
       "\t<dt>precip</dt>\n",
       "\t\t<dd>4.4</dd>\n",
       "\t<dt>NPP</dt>\n",
       "\t\t<dd>3.5</dd>\n",
       "\t<dt>elev</dt>\n",
       "\t\t<dd>6.3</dd>\n",
       "\t<dt>house</dt>\n",
       "\t\t<dd>1.6</dd>\n",
       "\t<dt>bedrooms</dt>\n",
       "\t\t<dd>1.4</dd>\n",
       "\t<dt>I(long^2)</dt>\n",
       "\t\t<dd>6.2</dd>\n",
       "\t<dt>I(precip^2)</dt>\n",
       "\t\t<dd>5.1</dd>\n",
       "\t<dt>I(NPP^2)</dt>\n",
       "\t\t<dd>4.4</dd>\n",
       "\t<dt>I(bedrooms^2)</dt>\n",
       "\t\t<dd>1.1</dd>\n",
       "\t<dt>long:NPP</dt>\n",
       "\t\t<dd>3.1</dd>\n",
       "\t<dt>lat:temp</dt>\n",
       "\t\t<dd>2</dd>\n",
       "\t<dt>temp:precip</dt>\n",
       "\t\t<dd>5.8</dd>\n",
       "\t<dt>temp:NPP</dt>\n",
       "\t\t<dd>4.2</dd>\n",
       "\t<dt>temp:house</dt>\n",
       "\t\t<dd>1.5</dd>\n",
       "\t<dt>temp:bedrooms</dt>\n",
       "\t\t<dd>1.5</dd>\n",
       "\t<dt>precip:NPP</dt>\n",
       "\t\t<dd>12.2</dd>\n",
       "\t<dt>NPP:bedrooms</dt>\n",
       "\t\t<dd>1</dd>\n",
       "</dl>\n"
      ],
      "text/latex": [
       "\\begin{description*}\n",
       "\\item[long] 8.1\n",
       "\\item[lat] 13.2\n",
       "\\item[temp] 15\n",
       "\\item[precip] 4.4\n",
       "\\item[NPP] 3.5\n",
       "\\item[elev] 6.3\n",
       "\\item[house] 1.6\n",
       "\\item[bedrooms] 1.4\n",
       "\\item[I(long\\textbackslash{}textasciicircum\\{\\}2)] 6.2\n",
       "\\item[I(precip\\textbackslash{}textasciicircum\\{\\}2)] 5.1\n",
       "\\item[I(NPP\\textbackslash{}textasciicircum\\{\\}2)] 4.4\n",
       "\\item[I(bedrooms\\textbackslash{}textasciicircum\\{\\}2)] 1.1\n",
       "\\item[long:NPP] 3.1\n",
       "\\item[lat:temp] 2\n",
       "\\item[temp:precip] 5.8\n",
       "\\item[temp:NPP] 4.2\n",
       "\\item[temp:house] 1.5\n",
       "\\item[temp:bedrooms] 1.5\n",
       "\\item[precip:NPP] 12.2\n",
       "\\item[NPP:bedrooms] 1\n",
       "\\end{description*}\n"
      ],
      "text/markdown": [
       "long\n",
       ":   8.1lat\n",
       ":   13.2temp\n",
       ":   15precip\n",
       ":   4.4NPP\n",
       ":   3.5elev\n",
       ":   6.3house\n",
       ":   1.6bedrooms\n",
       ":   1.4I(long^2)\n",
       ":   6.2I(precip^2)\n",
       ":   5.1I(NPP^2)\n",
       ":   4.4I(bedrooms^2)\n",
       ":   1.1long:NPP\n",
       ":   3.1lat:temp\n",
       ":   2temp:precip\n",
       ":   5.8temp:NPP\n",
       ":   4.2temp:house\n",
       ":   1.5temp:bedrooms\n",
       ":   1.5precip:NPP\n",
       ":   12.2NPP:bedrooms\n",
       ":   1\n",
       "\n"
      ],
      "text/plain": [
       "         long           lat          temp        precip           NPP \n",
       "          8.1          13.2          15.0           4.4           3.5 \n",
       "         elev         house      bedrooms     I(long^2)   I(precip^2) \n",
       "          6.3           1.6           1.4           6.2           5.1 \n",
       "     I(NPP^2) I(bedrooms^2)      long:NPP      lat:temp   temp:precip \n",
       "          4.4           1.1           3.1           2.0           5.8 \n",
       "     temp:NPP    temp:house temp:bedrooms    precip:NPP  NPP:bedrooms \n",
       "          4.2           1.5           1.5          12.2           1.0 "
      ]
     },
     "metadata": {},
     "output_type": "display_data"
    }
   ],
   "source": [
    "round(vif(homes.ols.backwards),1)"
   ]
  },
  {
   "cell_type": "markdown",
   "metadata": {},
   "source": [
    "The resultant model for forward selection is: \n",
    "\n",
    "**y ~ long + lat + temp + precip + NPP + elev + house + \n",
    "    bedrooms + I(long^2) + I(precip^2) + I(NPP^2) + I(bedrooms^2) + \n",
    "    long:NPP + lat:temp + temp:precip + temp:NPP + temp:house + \n",
    "    temp:bedrooms + precip:NPP + NPP:bedrooms**"
   ]
  },
  {
   "cell_type": "markdown",
   "metadata": {},
   "source": [
    "osl.mod<-glmnet(X[train,],y[train],alpha=0,lambda=0, thresh=1e-12)\n",
    "osl.pred<-predict(osl.mod, newx=X[test,])\n",
    "round(mean((osl.pred-y.test)^2),20)"
   ]
  },
  {
   "cell_type": "markdown",
   "metadata": {},
   "source": [
    "## Split train and test"
   ]
  },
  {
   "cell_type": "code",
   "execution_count": 50,
   "metadata": {},
   "outputs": [],
   "source": [
    "#install.packages(\"rsample\",dependencies=TRUE,repos= \"https://cloud.r-project.org\")\n",
    "#install.packages(\"glmnet\",dependencies=TRUE,repos= \"https://cloud.r-project.org\")\n",
    "#install.packages(\"dplyr\",dependencies=TRUE,repos= \"https://cloud.r-project.org\")\n",
    "#install.packages(\"ggplot2\",dependencies=TRUE,repos= \"https://cloud.r-project.org\")\n",
    "#install.packages(\"MASS\",dependencies=TRUE,repos= \"https://cloud.r-project.org\")\n",
    "#install.packages(\"broom\",dependencies=TRUE,repos= \"https://cloud.r-project.org\")"
   ]
  },
  {
   "cell_type": "code",
   "execution_count": 51,
   "metadata": {},
   "outputs": [
    {
     "name": "stderr",
     "output_type": "stream",
     "text": [
      "Warning message:\n",
      "\"package 'glmnet' was built under R version 3.6.3\"Loading required package: Matrix\n",
      "Warning message:\n",
      "\"package 'Matrix' was built under R version 3.6.3\"Loaded glmnet 4.1-1\n",
      "Warning message:\n",
      "\"package 'dplyr' was built under R version 3.6.3\"\n",
      "Attaching package: 'dplyr'\n",
      "\n",
      "The following object is masked from 'package:car':\n",
      "\n",
      "    recode\n",
      "\n",
      "The following objects are masked from 'package:stats':\n",
      "\n",
      "    filter, lag\n",
      "\n",
      "The following objects are masked from 'package:base':\n",
      "\n",
      "    intersect, setdiff, setequal, union\n",
      "\n",
      "Warning message in (function (kind = NULL, normal.kind = NULL, sample.kind = NULL) :\n",
      "\"non-uniform 'Rounding' sampler used\"Loading required package: MASS\n",
      "Warning message:\n",
      "\"package 'MASS' was built under R version 3.6.3\"\n",
      "Attaching package: 'MASS'\n",
      "\n",
      "The following object is masked from 'package:dplyr':\n",
      "\n",
      "    select\n",
      "\n",
      "Loading required package: broom\n"
     ]
    }
   ],
   "source": [
    "library(rsample)  # data splitting \n",
    "library(glmnet)   # implementing regularized regression approaches\n",
    "library(dplyr)    # basic data manipulation procedures\n",
    "library(ggplot2)\n",
    "require(MASS)\n",
    "require(broom)"
   ]
  },
  {
   "cell_type": "markdown",
   "metadata": {},
   "source": [
    "To test our model first we need to split the dataset into train and set."
   ]
  },
  {
   "cell_type": "code",
   "execution_count": 52,
   "metadata": {},
   "outputs": [],
   "source": [
    "set.seed(1)\n",
    "homes_split <- initial_split(homes, prop = .7)\n",
    "homes_train <- training(homes_split)\n",
    "homes_test  <- testing(homes_split)\n",
    "\n",
    "set.seed(1)\n",
    "train_ix<-sample(1:nrow(X), nrow(X)/2)\n",
    "test_ix<-(-train_ix)\n",
    "y.test_ix<-y[test_ix]"
   ]
  },
  {
   "cell_type": "markdown",
   "metadata": {},
   "source": [
    "Now we just define the model data, and the model formula, which is the same as in `homes.ols.04`"
   ]
  },
  {
   "cell_type": "code",
   "execution_count": 53,
   "metadata": {},
   "outputs": [],
   "source": [
    "homes_train_x <- model.matrix(y ~ long + lat + temp + precip + NPP + elev + house + bedrooms \n",
    "                 + I(long^2) + I(precip^2) + I(NPP^2) + I(bedrooms^2) \n",
    "                 + long:NPP + lat:temp + temp:precip + temp:NPP + temp:house\n",
    "                 + temp:bedrooms + precip:NPP + NPP:bedrooms, homes_train)[, -1]\n",
    "\n",
    "homes_train_y <- homes_train$y\n",
    "\n",
    "homes_test_x <- model.matrix(y ~ long + lat + temp + precip + NPP + elev + house + bedrooms \n",
    "                 + I(long^2) + I(precip^2) + I(NPP^2) + I(bedrooms^2) \n",
    "                 + long:NPP + lat:temp + temp:precip + temp:NPP + temp:house\n",
    "                 + temp:bedrooms + precip:NPP + NPP:bedrooms, homes_test)[, -1]\n",
    "\n",
    "homes_test_y <- homes_test$y\n",
    "\n",
    "homes_df = data.frame(cbind(homes_train_y, homes_train_x))"
   ]
  },
  {
   "cell_type": "markdown",
   "metadata": {},
   "source": [
    "## Ridge Regressor"
   ]
  },
  {
   "cell_type": "markdown",
   "metadata": {},
   "source": [
    "![ridge](https://images.deepai.org/glossary-terms/d154adc4d9cd44849c10592a521f379d/ridge.png)"
   ]
  },
  {
   "cell_type": "markdown",
   "metadata": {},
   "source": [
    "First, we use the `lm. Ridge` function to visualize how does the coefficient values change, depending on the lambda value. This value penalizes our minimization function to encourage the coefficients to be smaller. That is why while the lambda gets higher, we see that the coefficients get near 0."
   ]
  },
  {
   "cell_type": "code",
   "execution_count": 54,
   "metadata": {},
   "outputs": [
    {
     "data": {
      "image/png": "[encoded data removed]",
      "text/plain": [
       "plot without title"
      ]
     },
     "metadata": {},
     "output_type": "display_data"
    }
   ],
   "source": [
    "homes.ridge.01 <- lm.ridge(formula = y ~ long + lat + temp + precip + NPP + elev + house + bedrooms \n",
    "                 + I(long^2) + I(precip^2) + I(NPP^2) + I(bedrooms^2) \n",
    "                 + long:NPP + lat:temp + temp:precip + temp:NPP + temp:house\n",
    "                 + temp:bedrooms + precip:NPP + NPP:bedrooms, data = homes, lambda=seq(0,600,by=1), subset=train_ix)\n",
    "\n",
    "options(repr.plot.width=6, repr.plot.height=6)\n",
    "plot(homes.ridge.01, xvar = \"lambda\")\n"
   ]
  },
  {
   "cell_type": "markdown",
   "metadata": {},
   "source": [
    "We can use the glmnet library to easily plot how does the mean squared error between our train set change depending on the value of lambda, using cross validation `cv.glmnet`."
   ]
  },
  {
   "cell_type": "code",
   "execution_count": 55,
   "metadata": {},
   "outputs": [
    {
     "data": {
      "image/png": "[encoded data removed]",
      "text/plain": [
       "plot without title"
      ]
     },
     "metadata": {},
     "output_type": "display_data"
    }
   ],
   "source": [
    "set.seed(1)\n",
    "options(repr.plot.width=6, repr.plot.height=6)\n",
    "cv.out<-cv.glmnet(homes_train_x,homes_train_y,alpha=0, nfolds=100)\n",
    "plot(cv.out)"
   ]
  },
  {
   "cell_type": "markdown",
   "metadata": {},
   "source": [
    "Here we can see which is the best lambda value"
   ]
  },
  {
   "cell_type": "code",
   "execution_count": 56,
   "metadata": {},
   "outputs": [
    {
     "data": {
      "text/html": [
       "0.03331"
      ],
      "text/latex": [
       "0.03331"
      ],
      "text/markdown": [
       "0.03331"
      ],
      "text/plain": [
       "[1] 0.03331"
      ]
     },
     "metadata": {},
     "output_type": "display_data"
    },
    {
     "data": {
      "text/html": [
       "-3.40177"
      ],
      "text/latex": [
       "-3.40177"
      ],
      "text/markdown": [
       "-3.40177"
      ],
      "text/plain": [
       "[1] -3.40177"
      ]
     },
     "metadata": {},
     "output_type": "display_data"
    },
    {
     "data": {
      "image/png": "[encoded data removed]",
      "text/plain": [
       "plot without title"
      ]
     },
     "metadata": {},
     "output_type": "display_data"
    }
   ],
   "source": [
    "options(repr.plot.width=6, repr.plot.height=6)\n",
    "bestlam<-cv.out$lambda.min\n",
    "round(bestlam,5)\n",
    "round(log(bestlam),5)\n",
    "plot(cv.out)\n",
    "abline(v=log(bestlam),lwd=3,col=\"cyan\")"
   ]
  },
  {
   "cell_type": "markdown",
   "metadata": {},
   "source": [
    "With the following plot we can visually see which coefficients have higher absolute values, and those which are around 0. When a feature has a high coefficient absolute value, it means that it is really important for the model, and when it is around 0 the ridge regressor is practically not making use of it."
   ]
  },
  {
   "cell_type": "code",
   "execution_count": 57,
   "metadata": {},
   "outputs": [
    {
     "name": "stderr",
     "output_type": "stream",
     "text": [
      "Warning message:\n",
      "\"'tidy.dgCMatrix' is deprecated.\n",
      "See help(\"Deprecated\")\"Warning message:\n",
      "\"'tidy.dgTMatrix' is deprecated.\n",
      "See help(\"Deprecated\")\""
     ]
    },
    {
     "data": {
      "image/png": "[encoded data removed]",
      "text/plain": [
       "plot without title"
      ]
     },
     "metadata": {},
     "output_type": "display_data"
    }
   ],
   "source": [
    "ridge.mod<-glmnet(homes_train_x, homes_train_y, lambda=bestlam, alpha=0, thresh=1e-12)\n",
    "\n",
    "options(repr.plot.width=6, repr.plot.height=6)\n",
    "theme_set(theme_gray(base_size = 18))\n",
    "abs(coef(ridge.mod, s = \"lambda.1se\")) %>%\n",
    "  tidy() %>%\n",
    "  filter(row != \"(Intercept)\") %>%\n",
    "  top_n(20, wt = abs(value)) %>%\n",
    "  ggplot(aes(value, reorder(row, value))) +\n",
    "  geom_point(size=5) +\n",
    "  ggtitle(\"Top influential variables\") +\n",
    "  xlab(\"Absolut values of the coefficients\") +\n",
    "  ylab(NULL)"
   ]
  },
  {
   "cell_type": "code",
   "execution_count": 58,
   "metadata": {},
   "outputs": [
    {
     "data": {
      "text/plain": [
       "21 x 1 sparse Matrix of class \"dgCMatrix\"\n",
       "                        s0\n",
       "(Intercept)    6.113103306\n",
       "long          -0.009176436\n",
       "lat            0.029792218\n",
       "temp          -0.061480931\n",
       "precip         0.008815047\n",
       "NPP           -0.016885303\n",
       "elev          -0.026626102\n",
       "house          0.035507157\n",
       "bedrooms       0.004921548\n",
       "I(long^2)     -0.051480600\n",
       "I(precip^2)    0.004491327\n",
       "I(NPP^2)       0.004687297\n",
       "I(bedrooms^2) -0.017364037\n",
       "long:NPP      -0.032909533\n",
       "lat:temp       0.042411462\n",
       "temp:precip   -0.024286693\n",
       "temp:NPP       0.014430903\n",
       "temp:house     0.051865067\n",
       "temp:bedrooms -0.027905539\n",
       "precip:NPP    -0.019863241\n",
       "NPP:bedrooms   0.020940919"
      ]
     },
     "metadata": {},
     "output_type": "display_data"
    }
   ],
   "source": [
    "coef(ridge.mod)"
   ]
  },
  {
   "cell_type": "markdown",
   "metadata": {},
   "source": [
    "### Models comparison"
   ]
  },
  {
   "cell_type": "markdown",
   "metadata": {},
   "source": [
    "Now, using the train and test splits we can compare the two models and the mean squared error for each one."
   ]
  },
  {
   "cell_type": "code",
   "execution_count": 59,
   "metadata": {},
   "outputs": [
    {
     "data": {
      "text/html": [
       "0.145902477636965"
      ],
      "text/latex": [
       "0.145902477636965"
      ],
      "text/markdown": [
       "0.145902477636965"
      ],
      "text/plain": [
       "[1] 0.1459025"
      ]
     },
     "metadata": {},
     "output_type": "display_data"
    }
   ],
   "source": [
    "#Ridge regressor\n",
    "ridge.mod<-glmnet(homes_train_x, homes_train_y, lambda=bestlam, alpha=0, thresh=1e-12)\n",
    "ridge.pred<-predict(ridge.mod, newx=homes_test_x)\n",
    "round(mean((ridge.pred-homes_test_y)^2),20)"
   ]
  },
  {
   "cell_type": "code",
   "execution_count": 60,
   "metadata": {},
   "outputs": [
    {
     "data": {
      "text/html": [
       "0.145042754681334"
      ],
      "text/latex": [
       "0.145042754681334"
      ],
      "text/markdown": [
       "0.145042754681334"
      ],
      "text/plain": [
       "[1] 0.1450428"
      ]
     },
     "metadata": {},
     "output_type": "display_data"
    }
   ],
   "source": [
    "#Linear regressor\n",
    "ols.mod<-glmnet(homes_train_x, homes_train_y, lambda=0, alpha=0, thresh=1e-12)\n",
    "osl.pred<-predict(ols.mod,x=homes_train_x,y=homes_train_y,s=0,newx=homes_test_x,exact=TRUE)\n",
    "round(mean((osl.pred-homes_test_y)^2),200)\n"
   ]
  },
  {
   "cell_type": "markdown",
   "metadata": {},
   "source": [
    "We see that the simple OLS model performs better in this case. As we have seen on the plots, the lambda values around 0 gave the better scores. However, this may be caused by the particular way we chose the data. A significant lambda value could help us to avoid overfitting."
   ]
  },
  {
   "cell_type": "markdown",
   "metadata": {},
   "source": [
    "## LASSO"
   ]
  },
  {
   "cell_type": "markdown",
   "metadata": {},
   "source": [
    "![lasso](https://rstatisticsblog.com/wp-content/uploads/2020/05/lasso.jpg)"
   ]
  },
  {
   "cell_type": "markdown",
   "metadata": {},
   "source": [
    "We will use `glmenet` to visualize how the coefficients change with lasso"
   ]
  },
  {
   "cell_type": "code",
   "execution_count": 61,
   "metadata": {},
   "outputs": [
    {
     "data": {
      "image/png": "[encoded data removed]",
      "text/plain": [
       "plot without title"
      ]
     },
     "metadata": {},
     "output_type": "display_data"
    }
   ],
   "source": [
    "## Apply lasso regression to ames data\n",
    "homes_lasso <- glmnet(\n",
    "  x = homes_train_x,\n",
    "  y = homes_train_y,\n",
    "  alpha = 1\n",
    ")\n",
    "\n",
    "plot(homes_lasso, xvar = \"lambda\")"
   ]
  },
  {
   "cell_type": "markdown",
   "metadata": {},
   "source": [
    "`glmnet` function uses ridge when the value alpha is set to 0, and lasso when it is set to one. Now we should do the same as with the ridge regressor, but using lasso."
   ]
  },
  {
   "cell_type": "code",
   "execution_count": 62,
   "metadata": {},
   "outputs": [
    {
     "data": {
      "image/png": "[encoded data removed]",
      "text/plain": [
       "plot without title"
      ]
     },
     "metadata": {},
     "output_type": "display_data"
    }
   ],
   "source": [
    "set.seed(1)\n",
    "cv.out<-cv.glmnet(homes_train_x,homes_train_y, alpha=1, nfolds=100)\n",
    "plot(cv.out)"
   ]
  },
  {
   "cell_type": "markdown",
   "metadata": {},
   "source": [
    "We can also plot the best lambda value."
   ]
  },
  {
   "cell_type": "code",
   "execution_count": 63,
   "metadata": {},
   "outputs": [
    {
     "data": {
      "text/html": [
       "0.0029"
      ],
      "text/latex": [
       "0.0029"
      ],
      "text/markdown": [
       "0.0029"
      ],
      "text/plain": [
       "[1] 0.0029"
      ]
     },
     "metadata": {},
     "output_type": "display_data"
    },
    {
     "data": {
      "text/html": [
       "-5.8439"
      ],
      "text/latex": [
       "-5.8439"
      ],
      "text/markdown": [
       "-5.8439"
      ],
      "text/plain": [
       "[1] -5.8439"
      ]
     },
     "metadata": {},
     "output_type": "display_data"
    },
    {
     "data": {
      "image/png": "[encoded data removed]",
      "text/plain": [
       "plot without title"
      ]
     },
     "metadata": {},
     "output_type": "display_data"
    }
   ],
   "source": [
    "bestlam<-cv.out$lambda.min\n",
    "round(bestlam,5)\n",
    "round(log(bestlam),5)\n",
    "plot(cv.out)\n",
    "abline(v=log(bestlam),lwd=3,col=\"cyan\")"
   ]
  },
  {
   "cell_type": "markdown",
   "metadata": {},
   "source": [
    "If we plot the top influential variables, we see that the lasso model, when the lambda is increased, tends to 'cut' the coefficients to zero of the less valuable features for our model. "
   ]
  },
  {
   "cell_type": "code",
   "execution_count": 64,
   "metadata": {},
   "outputs": [
    {
     "name": "stderr",
     "output_type": "stream",
     "text": [
      "Warning message:\n",
      "\"'tidy.dgCMatrix' is deprecated.\n",
      "See help(\"Deprecated\")\"Warning message:\n",
      "\"'tidy.dgTMatrix' is deprecated.\n",
      "See help(\"Deprecated\")\""
     ]
    },
    {
     "data": {
      "image/png": "[encoded data removed]",
      "text/plain": [
       "plot without title"
      ]
     },
     "metadata": {},
     "output_type": "display_data"
    }
   ],
   "source": [
    "lasso.mod<-glmnet(homes_train_x, homes_train_y, lambda=bestlam, alpha=1, thresh=1e-12)\n",
    "\n",
    "coefs = abs(coef(lasso.mod, s = \"lambda.1se\"))\n",
    "\n",
    "theme_set(theme_gray(base_size = 18))\n",
    "\n",
    "coefs %>%\n",
    "  tidy() %>%\n",
    "  filter(row != \"(Intercept)\") %>%\n",
    "  top_n(20, wt = abs(value)) %>%\n",
    "  ggplot(aes(value, reorder(row, value))) +\n",
    "  geom_point(size=5) +\n",
    "  ggtitle(\"Top influential variables\") +\n",
    "  xlab(\"Absolut values of the coefficients\") +\n",
    "  ylab(NULL)"
   ]
  },
  {
   "cell_type": "markdown",
   "metadata": {},
   "source": [
    "The lattitude and long:NPP are cut to zero by the lasso regressor with this lambda value."
   ]
  },
  {
   "cell_type": "code",
   "execution_count": 65,
   "metadata": {},
   "outputs": [
    {
     "data": {
      "text/plain": [
       "21 x 1 sparse Matrix of class \"dgCMatrix\"\n",
       "                         1\n",
       "(Intercept)   6.119120e+00\n",
       "long          1.944114e-02\n",
       "lat           .           \n",
       "temp          9.572884e-02\n",
       "precip        .           \n",
       "NPP           9.339882e-03\n",
       "elev          4.736849e-02\n",
       "house         3.930733e-02\n",
       "bedrooms      6.939304e-04\n",
       "I(long^2)     5.665210e-02\n",
       "I(precip^2)   .           \n",
       "I(NPP^2)      .           \n",
       "I(bedrooms^2) 1.582766e-02\n",
       "long:NPP      4.049116e-02\n",
       "lat:temp      4.900341e-02\n",
       "temp:precip   1.191359e-02\n",
       "temp:NPP      1.778360e-03\n",
       "temp:house    5.523995e-02\n",
       "temp:bedrooms 2.935178e-02\n",
       "precip:NPP    1.919859e-06\n",
       "NPP:bedrooms  1.913358e-02"
      ]
     },
     "metadata": {},
     "output_type": "display_data"
    }
   ],
   "source": [
    "abs(coef(lasso.mod, s = \"lambda.1se\"))"
   ]
  },
  {
   "cell_type": "markdown",
   "metadata": {},
   "source": [
    "### Models comparison"
   ]
  },
  {
   "cell_type": "code",
   "execution_count": 66,
   "metadata": {},
   "outputs": [
    {
     "data": {
      "text/html": [
       "0.147168099851904"
      ],
      "text/latex": [
       "0.147168099851904"
      ],
      "text/markdown": [
       "0.147168099851904"
      ],
      "text/plain": [
       "[1] 0.1471681"
      ]
     },
     "metadata": {},
     "output_type": "display_data"
    }
   ],
   "source": [
    "#Lasso \n",
    "lasso.mod<-glmnet(homes_train_x, homes_train_y, lambda=bestlam, alpha=1, thresh=1e-12)\n",
    "lasso.pred<-predict(lasso.mod, newx=homes_test_x)\n",
    "round(mean((lasso.pred-homes_test_y)^2),20)"
   ]
  },
  {
   "cell_type": "code",
   "execution_count": 67,
   "metadata": {},
   "outputs": [
    {
     "data": {
      "text/html": [
       "0.145560269391888"
      ],
      "text/latex": [
       "0.145560269391888"
      ],
      "text/markdown": [
       "0.145560269391888"
      ],
      "text/plain": [
       "[1] 0.1455603"
      ]
     },
     "metadata": {},
     "output_type": "display_data"
    }
   ],
   "source": [
    "#Ridge\n",
    "ridge.mod<-glmnet(homes_train_x, homes_train_y, lambda=0.01083, alpha=0, thresh=1e-12)\n",
    "ridge.pred<-predict(ridge.mod, newx=homes_test_x)\n",
    "round(mean((ridge.pred-homes_test_y)^2),20)"
   ]
  },
  {
   "cell_type": "code",
   "execution_count": 68,
   "metadata": {},
   "outputs": [
    {
     "data": {
      "text/html": [
       "0.145042754681334"
      ],
      "text/latex": [
       "0.145042754681334"
      ],
      "text/markdown": [
       "0.145042754681334"
      ],
      "text/plain": [
       "[1] 0.1450428"
      ]
     },
     "metadata": {},
     "output_type": "display_data"
    }
   ],
   "source": [
    "#OLS\n",
    "ols.mod<-glmnet(homes_train_x, homes_train_y, lambda=0, alpha=0, thresh=1e-12)\n",
    "osl.pred<-predict(ols.mod,x=homes_train_x,y=homes_train_y,s=0,newx=homes_test_x,exact=TRUE)\n",
    "round(mean((osl.pred-homes_test_y)^2),200)"
   ]
  },
  {
   "cell_type": "markdown",
   "metadata": {},
   "source": [
    "We also see that lasso and ridge performance is worse for this sample, but we should consider its power avoiding overfit."
   ]
  },
  {
   "cell_type": "markdown",
   "metadata": {},
   "source": [
    "**Can you discard further predictor(s) due to the Lasso feature selection property?**\n",
    "\n",
    "Lasso, is a regression model, but also has a very powerful behaviour. This model, when a reasonable lambda value is used, 'discards' some features. When using lasso, when can induce that these coefficients which are dropped to zero, when we increase the lambda value, are those which are less important in our model.\n",
    "\n",
    "In some cases, instead of using forward or backward selection, it may be a good idea to use lasso to preselect some features.\n",
    "In this case, we see that the features NPP and bedrooms are very close to 0 when using the best lambda, latitude and long:NPP have coefficient 0, so we know that those features are not very meaningful in the model."
   ]
  },
  {
   "cell_type": "markdown",
   "metadata": {},
   "source": [
    "Note: for the ridge and lasso models we have used some ideas from: https://uc-r.github.io/regularized_regression"
   ]
  },
  {
   "cell_type": "markdown",
   "metadata": {},
   "source": [
    "## PCR"
   ]
  },
  {
   "cell_type": "markdown",
   "metadata": {},
   "source": [
    "In statistics, principal component regression (PCR) is a regression analysis technique that is based on principal component analysis (PCA). More specifically, PCR is used for estimating the unknown regression coefficients in a standard linear regression model.\n",
    "\n",
    "In PCR, instead of regressing the dependent variable on the explanatory variables directly, the principal components of the explanatory variables are used as regressors. One typically uses only a subset of all the principal components for regression, making PCR a kind of regularized procedure and also a type of shrinkage estimator.\n",
    "\n",
    "https://en.wikipedia.org/wiki/Principal_component_regression"
   ]
  },
  {
   "cell_type": "code",
   "execution_count": 69,
   "metadata": {},
   "outputs": [
    {
     "name": "stderr",
     "output_type": "stream",
     "text": [
      "Loading required package: pls\n",
      "\n",
      "Attaching package: 'pls'\n",
      "\n",
      "The following object is masked from 'package:corrplot':\n",
      "\n",
      "    corrplot\n",
      "\n",
      "The following object is masked from 'package:stats':\n",
      "\n",
      "    loadings\n",
      "\n"
     ]
    }
   ],
   "source": [
    "#install.packages(\"pls\",dependencies=TRUE,repos=\"https://cloud.r-project.org\")\n",
    "require(pls)"
   ]
  },
  {
   "cell_type": "markdown",
   "metadata": {},
   "source": [
    "First we can perform a Principal component regression on the features of `homes.ols.01`, and see its performance using cross validation."
   ]
  },
  {
   "cell_type": "code",
   "execution_count": 70,
   "metadata": {},
   "outputs": [
    {
     "data": {
      "image/png": "[encoded data removed]",
      "text/plain": [
       "Plot with title \"homes_train_y\""
      ]
     },
     "metadata": {},
     "output_type": "display_data"
    }
   ],
   "source": [
    "set.seed(1)\n",
    "pcr.fit<-pcr(homes_train_y~., data=homes_df,scale=TRUE, validation=\"CV\")\n",
    "validationplot(pcr.fit,val.type=\"MSEP\")"
   ]
  },
  {
   "cell_type": "markdown",
   "metadata": {},
   "source": [
    "Then we can see which number of components gives us better scores."
   ]
  },
  {
   "cell_type": "code",
   "execution_count": 71,
   "metadata": {},
   "outputs": [
    {
     "data": {
      "text/html": [
       "<strong>19 comps:</strong> 19"
      ],
      "text/latex": [
       "\\textbf{19 comps:} 19"
      ],
      "text/markdown": [
       "**19 comps:** 19"
      ],
      "text/plain": [
       "19 comps \n",
       "      19 "
      ]
     },
     "metadata": {},
     "output_type": "display_data"
    }
   ],
   "source": [
    "cverr <- RMSEP(pcr.fit)$val[1,,]\n",
    "imin <- which.min(cverr) -1\n",
    "imin"
   ]
  },
  {
   "cell_type": "markdown",
   "metadata": {},
   "source": [
    "Now we show the PCR model obtained scores and a summary of the model."
   ]
  },
  {
   "cell_type": "code",
   "execution_count": 72,
   "metadata": {},
   "outputs": [
    {
     "data": {
      "text/html": [
       "0.144230700811852"
      ],
      "text/latex": [
       "0.144230700811852"
      ],
      "text/markdown": [
       "0.144230700811852"
      ],
      "text/plain": [
       "[1] 0.1442307"
      ]
     },
     "metadata": {},
     "output_type": "display_data"
    },
    {
     "name": "stdout",
     "output_type": "stream",
     "text": [
      "Data: \tX dimension: 741 20 \n",
      "\tY dimension: 741 1\n",
      "Fit method: svdpc\n",
      "Number of components considered: 19\n",
      "TRAINING: % variance explained\n",
      "               1 comps  2 comps  3 comps  4 comps  5 comps  6 comps  7 comps\n",
      "X               19.867   32.823   43.798   52.480    60.76    67.72    73.74\n",
      "homes_train_y    2.749    4.749    6.474    8.582    11.53    11.68    12.20\n",
      "               8 comps  9 comps  10 comps  11 comps  12 comps  13 comps\n",
      "X                78.72    83.15     87.23     89.64     91.99     94.06\n",
      "homes_train_y    12.20    12.36     12.39     13.03     13.63     14.25\n",
      "               14 comps  15 comps  16 comps  17 comps  18 comps  19 comps\n",
      "X                 96.09     97.71     98.73     99.22     99.58     99.87\n",
      "homes_train_y     15.06     16.34     16.48     16.49     17.10     17.43\n"
     ]
    }
   ],
   "source": [
    "pcr.pred<-predict(pcr.fit,homes_test_x,ncomp=imin)\n",
    "round(mean((pcr.pred-homes_test_y)^2),20)\n",
    "\n",
    "pcr.fit<-pcr(homes_train_y~., data=homes_df, scale=TRUE,ncomp=imin)\n",
    "summary(pcr.fit)"
   ]
  },
  {
   "cell_type": "markdown",
   "metadata": {},
   "source": [
    "## PLS"
   ]
  },
  {
   "cell_type": "markdown",
   "metadata": {},
   "source": [
    "Partial least squares regression (PLS regression) is a statistical method that bears some relation to principal components regression; instead of finding hyperplanes of maximum variance between the response and independent variables, it finds a linear regression model by projecting the predicted variables and the observable variables to a new space. Because both the X and Y data are projected to new spaces, the PLS family of methods are known as bilinear factor models. Partial least squares discriminant analysis (PLS-DA) is a variant used when the Y is categorical.\n",
    "\n",
    "https://en.wikipedia.org/wiki/Partial_least_squares_regression"
   ]
  },
  {
   "cell_type": "markdown",
   "metadata": {},
   "source": [
    "Now we perform PLS and cross validate the results"
   ]
  },
  {
   "cell_type": "code",
   "execution_count": 73,
   "metadata": {},
   "outputs": [
    {
     "name": "stdout",
     "output_type": "stream",
     "text": [
      "Data: \tX dimension: 741 20 \n",
      "\tY dimension: 741 1\n",
      "Fit method: kernelpls\n",
      "Number of components considered: 20\n",
      "\n",
      "VALIDATION: RMSEP\n",
      "Cross-validated using 10 random segments.\n",
      "       (Intercept)  1 comps  2 comps  3 comps  4 comps  5 comps  6 comps\n",
      "CV          0.3725   0.3523   0.3486   0.3476   0.3468   0.3465   0.3464\n",
      "adjCV       0.3725   0.3521   0.3484   0.3473   0.3464   0.3462   0.3460\n",
      "       7 comps  8 comps  9 comps  10 comps  11 comps  12 comps  13 comps\n",
      "CV      0.3465   0.3467   0.3467    0.3463    0.3463    0.3463    0.3462\n",
      "adjCV   0.3461   0.3462   0.3462    0.3458    0.3458    0.3458    0.3458\n",
      "       14 comps  15 comps  16 comps  17 comps  18 comps  19 comps  20 comps\n",
      "CV       0.3462    0.3462    0.3462    0.3463    0.3463    0.3463    0.3463\n",
      "adjCV    0.3458    0.3457    0.3458    0.3458    0.3458    0.3458    0.3458\n",
      "\n",
      "TRAINING: % variance explained\n",
      "               1 comps  2 comps  3 comps  4 comps  5 comps  6 comps  7 comps\n",
      "X                15.45    28.55    36.29    43.23    51.28    57.51    61.39\n",
      "homes_train_y    11.89    14.57    16.04    16.79    16.94    17.11    17.32\n",
      "               8 comps  9 comps  10 comps  11 comps  12 comps  13 comps\n",
      "X                65.85    70.82     75.46     80.08     83.57     85.72\n",
      "homes_train_y    17.42    17.47     17.49     17.49     17.50     17.50\n",
      "               14 comps  15 comps  16 comps  17 comps  18 comps  19 comps\n",
      "X                 88.34     89.89     93.57     95.38     97.41     98.52\n",
      "homes_train_y     17.51     17.51     17.51     17.51     17.51     17.51\n",
      "               20 comps\n",
      "X                100.00\n",
      "homes_train_y     17.51\n"
     ]
    }
   ],
   "source": [
    "set.seed(1)\n",
    "homes_df = data.frame(cbind(homes_train_y, homes_train_x))\n",
    "pls.fit<-plsr(homes_train_y~., data=homes_df,scale=TRUE, validation=\"CV\")\n",
    "summary(pls.fit)"
   ]
  },
  {
   "cell_type": "code",
   "execution_count": 74,
   "metadata": {},
   "outputs": [
    {
     "data": {
      "image/png": "[encoded data removed]",
      "text/plain": [
       "Plot with title \"homes_train_y\""
      ]
     },
     "metadata": {},
     "output_type": "display_data"
    }
   ],
   "source": [
    "validationplot(pls.fit,val.type=\"MSEP\")"
   ]
  },
  {
   "cell_type": "markdown",
   "metadata": {},
   "source": [
    "See the number of components which give better results"
   ]
  },
  {
   "cell_type": "code",
   "execution_count": 75,
   "metadata": {},
   "outputs": [
    {
     "data": {
      "text/html": [
       "<strong>15 comps:</strong> 15"
      ],
      "text/latex": [
       "\\textbf{15 comps:} 15"
      ],
      "text/markdown": [
       "**15 comps:** 15"
      ],
      "text/plain": [
       "15 comps \n",
       "      15 "
      ]
     },
     "metadata": {},
     "output_type": "display_data"
    }
   ],
   "source": [
    "cverr <- RMSEP(pls.fit)$val[1,,]\n",
    "imin <- which.min(cverr) - 1\n",
    "imin"
   ]
  },
  {
   "cell_type": "markdown",
   "metadata": {},
   "source": [
    "Now we show the model scores and a summary."
   ]
  },
  {
   "cell_type": "code",
   "execution_count": 76,
   "metadata": {},
   "outputs": [
    {
     "data": {
      "text/html": [
       "0.144955647156115"
      ],
      "text/latex": [
       "0.144955647156115"
      ],
      "text/markdown": [
       "0.144955647156115"
      ],
      "text/plain": [
       "[1] 0.1449556"
      ]
     },
     "metadata": {},
     "output_type": "display_data"
    },
    {
     "name": "stdout",
     "output_type": "stream",
     "text": [
      "Data: \tX dimension: 741 20 \n",
      "\tY dimension: 741 1\n",
      "Fit method: kernelpls\n",
      "Number of components considered: 15\n",
      "TRAINING: % variance explained\n",
      "               1 comps  2 comps  3 comps  4 comps  5 comps  6 comps  7 comps\n",
      "X                15.45    28.55    36.29    43.23    51.28    57.51    61.39\n",
      "homes_train_y    11.89    14.57    16.04    16.79    16.94    17.11    17.32\n",
      "               8 comps  9 comps  10 comps  11 comps  12 comps  13 comps\n",
      "X                65.85    70.82     75.46     80.08     83.57     85.72\n",
      "homes_train_y    17.42    17.47     17.49     17.49     17.50     17.50\n",
      "               14 comps  15 comps\n",
      "X                 88.34     89.89\n",
      "homes_train_y     17.51     17.51\n"
     ]
    }
   ],
   "source": [
    "pls.pred<-predict(pls.fit,homes_test_x,ncomp=imin)\n",
    "round(mean((pls.pred-homes_test_y)^2),20)\n",
    "pls.fit<-plsr(homes_train_y~., data=homes_df, scale=TRUE, ncomp=imin)\n",
    "summary(pls.fit)\n"
   ]
  },
  {
   "cell_type": "markdown",
   "metadata": {},
   "source": [
    "# Used online sources"
   ]
  },
  {
   "cell_type": "markdown",
   "metadata": {},
   "source": [
    "http://www.sthda.com/english/wiki/correlation-matrix-a-quick-start-guide-to-analyze-format-and-visualize-a-correlation-matrix-using-r-software\n",
    "\n",
    "https://r-coder.com/correlation-plot-r/https://r-coder.com/correlation-plot-r/\n",
    "\n",
    "https://www.statmethods.net/advgraphs/parameters.html\n",
    "\n",
    "https://www.rdocumentation.org/packages/regclass/versions/1.6/topics/VIF\n",
    "\n",
    "https://uc-r.github.io/regularized_regression\n",
    "\n",
    "https://statisticaloddsandends.wordpress.com/2018/10/15/obtaining-the-number-of-components-from-cross-validation-of-principal-components-regression/\n",
    "\n",
    "https://uc-r.github.io/regularized_regression"
   ]
  }
 ],
 "metadata": {
  "kernelspec": {
   "display_name": "R",
   "language": "R",
   "name": "ir"
  },
  "language_info": {
   "codemirror_mode": "r",
   "file_extension": ".r",
   "mimetype": "text/x-r-source",
   "name": "R",
   "pygments_lexer": "r",
   "version": "3.6.1"
  }
 },
 "nbformat": 4,
 "nbformat_minor": 4
}
